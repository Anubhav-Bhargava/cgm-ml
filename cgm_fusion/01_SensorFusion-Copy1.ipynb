{
 "cells": [
  {
   "cell_type": "markdown",
   "metadata": {},
   "source": [
    "# Sensor Fusion of RGB and Point Cloud "
   ]
  },
  {
   "cell_type": "markdown",
   "metadata": {},
   "source": [
    "Load the necessary libraries"
   ]
  },
  {
   "cell_type": "code",
   "execution_count": 1,
   "metadata": {},
   "outputs": [],
   "source": [
    "import sys\n",
    "sys.path.insert(0, \"..\")\n",
    "\n",
    "\n",
    "import os  \n",
    "import cv2\n",
    "\n",
    "import cgm_fusion.utility\n",
    "import cgm_fusion.calibration \n",
    "from cgm_fusion.fusion import apply_fusion \n",
    "\n",
    "from pylab import *\n",
    "from pyntcloud import PyntCloud\n",
    "\n",
    "from cgmcore.utils import render_pointcloud\n",
    "from cgmcore.utils import load_pcd_as_ndarray\n"
   ]
  },
  {
   "cell_type": "markdown",
   "metadata": {},
   "source": [
    "Load two files: One jpg image and a point cloud"
   ]
  },
  {
   "cell_type": "code",
   "execution_count": 2,
   "metadata": {},
   "outputs": [
    {
     "name": "stdout",
     "output_type": "stream",
     "text": [
      "PyntCloud\n",
      "37141 points with 3 scalar fields\n",
      "0 faces in mesh\n",
      "0 kdtrees\n",
      "0 voxelgrids\n",
      "Centroid: -0.035173606127500534, -0.0021644120570272207, 1.2302887439727783\n",
      "Other attributes:\n",
      "\n"
     ]
    },
    {
     "ename": "TypeError",
     "evalue": "'PyntCloud' object does not support indexing",
     "output_type": "error",
     "traceback": [
      "\u001b[0;31m---------------------------------------------------------------------------\u001b[0m",
      "\u001b[0;31mTypeError\u001b[0m                                 Traceback (most recent call last)",
      "\u001b[0;32m<ipython-input-2-ee62dfd014a8>\u001b[0m in \u001b[0;36m<module>\u001b[0;34m\u001b[0m\n\u001b[1;32m     13\u001b[0m \u001b[0;34m\u001b[0m\u001b[0m\n\u001b[1;32m     14\u001b[0m \u001b[0mprint\u001b[0m \u001b[0;34m(\u001b[0m\u001b[0mfused_cloud\u001b[0m\u001b[0;34m)\u001b[0m\u001b[0;34m\u001b[0m\u001b[0m\n\u001b[0;32m---> 15\u001b[0;31m \u001b[0mprint\u001b[0m \u001b[0;34m(\u001b[0m\u001b[0mfused_cloud\u001b[0m\u001b[0;34m[\u001b[0m\u001b[0;36m0\u001b[0m\u001b[0;34m]\u001b[0m\u001b[0;34m)\u001b[0m\u001b[0;34m\u001b[0m\u001b[0m\n\u001b[0m\u001b[1;32m     16\u001b[0m \u001b[0;34m\u001b[0m\u001b[0m\n\u001b[1;32m     17\u001b[0m \u001b[0;31m#fused_cloud.plot()\u001b[0m\u001b[0;34m\u001b[0m\u001b[0;34m\u001b[0m\u001b[0m\n",
      "\u001b[0;31mTypeError\u001b[0m: 'PyntCloud' object does not support indexing"
     ]
    }
   ],
   "source": [
    "#pcd_file = r'/whhdata/person/MH_WHH_0001/measurements/1536913319075/pc/pc_MH_WHH_0001_1536913319075_104_000.pcd'\n",
    "#jpg_file = r'/whhdata/person/MH_WHH_0001/measurements/1536913319075/rgb/rgb_MH_WHH_0001_1536913319075_104_7137.838129759.jpg'\n",
    "\n",
    "\n",
    "#f = Fusion()\n",
    "\n",
    "cali_file = '/home/cpfitzner/notebooks/cgm-ml/calibration.xml'\n",
    "pcd_file  = '/home/cpfitzner/pc_MH_WHH_0001_1536913319075_104_000.pcd'\n",
    "jpg_file  = '/home/cpfitzner/rgb_MH_WHH_0001_1536913319075_104_7137.838129759.jpg'\n",
    "\n",
    "\n",
    "fused_cloud = apply_fusion(cali_file, pcd_file, jpg_file)\n",
    "    \n",
    "print (fused_cloud)\n"
   ]
  },
  {
   "cell_type": "code",
   "execution_count": null,
   "metadata": {},
   "outputs": [],
   "source": []
  }
 ],
 "metadata": {
  "kernelspec": {
   "display_name": "cgm",
   "language": "python",
   "name": "cgm"
  },
  "language_info": {
   "codemirror_mode": {
    "name": "ipython",
    "version": 3
   },
   "file_extension": ".py",
   "mimetype": "text/x-python",
   "name": "python",
   "nbconvert_exporter": "python",
   "pygments_lexer": "ipython3",
   "version": "3.6.0"
  }
 },
 "nbformat": 4,
 "nbformat_minor": 2
}
