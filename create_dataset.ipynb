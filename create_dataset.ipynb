{
 "cells": [
  {
   "cell_type": "markdown",
   "metadata": {},
   "source": [
    "# Dataset-Generator."
   ]
  },
  {
   "cell_type": "code",
   "execution_count": 1,
   "metadata": {},
   "outputs": [
    {
     "name": "stderr",
     "output_type": "stream",
     "text": [
      "Using TensorFlow backend.\n"
     ]
    }
   ],
   "source": [
    "import os\n",
    "from datagenerator import DataGenerator\n",
    "import pickle\n",
    "import random\n",
    "import datetime"
   ]
  },
  {
   "cell_type": "markdown",
   "metadata": {},
   "source": [
    "# Setting the parameters."
   ]
  },
  {
   "cell_type": "code",
   "execution_count": 2,
   "metadata": {},
   "outputs": [],
   "source": [
    "if os.path.exists(\"datasetpath.txt\"):\n",
    "    dataset_path = open(\"datasetpath.txt\", \"r\").read().replace(\"\\n\", \"\")\n",
    "else:\n",
    "    dataset_path = \"../data\"\n",
    "\n",
    "# For creating voxelgrids.\n",
    "dataset_parameters_voxelgrids = {}\n",
    "dataset_parameters_voxelgrids[\"input_type\"] = \"voxelgrid\"\n",
    "dataset_parameters_voxelgrids[\"output_targets\"] = [\"height\", \"weight\"]    \n",
    "dataset_parameters_voxelgrids[\"random_seed\"] = 666\n",
    "dataset_parameters_voxelgrids[\"voxelgrid_target_shape\"] = (32, 32, 32)\n",
    "dataset_parameters_voxelgrids[\"voxel_size_meters\"] = 0.1\n",
    "dataset_parameters_voxelgrids[\"voxelgrid_random_rotation\"] = True\n",
    "dataset_parameters_voxelgrids[\"dataset_size_train\"] = 6000\n",
    "dataset_parameters_voxelgrids[\"dataset_size_test\"] = 1000\n",
    "\n",
    "# For creating pointclouds.\n",
    "dataset_parameters_pointclouds = {}\n",
    "dataset_parameters_pointclouds[\"input_type\"] = \"pointcloud\"\n",
    "dataset_parameters_pointclouds[\"output_targets\"] = [\"height\", \"weight\"]    \n",
    "dataset_parameters_pointclouds[\"random_seed\"] = 666\n",
    "dataset_parameters_pointclouds[\"pointcloud_target_size\"] = 30000\n",
    "dataset_parameters_pointclouds[\"pointcloud_random_rotation\"] = True\n",
    "dataset_parameters_pointclouds[\"dataset_size_train\"] = 3000\n",
    "dataset_parameters_pointclouds[\"dataset_size_test\"] = 500"
   ]
  },
  {
   "cell_type": "markdown",
   "metadata": {},
   "source": [
    "# Creating the data-generator.\n",
    "Makes use of the parameters."
   ]
  },
  {
   "cell_type": "code",
   "execution_count": 3,
   "metadata": {},
   "outputs": [],
   "source": [
    "def create_datagenerator(dataset_parameters):\n",
    "    print(\"Creating data-generator...\")\n",
    "    datagenerator = DataGenerator(\n",
    "        dataset_path=dataset_path, \n",
    "        input_type=dataset_parameters[\"input_type\"], \n",
    "        output_targets=dataset_parameters[\"output_targets\"],\n",
    "        voxelgrid_target_shape=dataset_parameters.get(\"voxelgrid_target_shape\", None),\n",
    "        voxel_size_meters=dataset_parameters.get(\"voxel_size_meters\", None),\n",
    "        voxelgrid_random_rotation=dataset_parameters.get(\"voxelgrid_random_rotation\", None),\n",
    "        pointcloud_target_size=dataset_parameters.get(\"pointcloud_target_size\", None),\n",
    "        pointcloud_random_rotation=dataset_parameters.get(\"pointcloud_random_rotation\", None)\n",
    "    )\n",
    "    datagenerator.print_statistics()\n",
    "    return datagenerator"
   ]
  },
  {
   "cell_type": "markdown",
   "metadata": {},
   "source": [
    "# Analysis."
   ]
  },
  {
   "cell_type": "code",
   "execution_count": 4,
   "metadata": {},
   "outputs": [],
   "source": [
    "def analyze(datagenerator):\n",
    "    datagenerator.analyze_files()\n",
    "    datagenerator.analyze_targets()\n",
    "    datagenerator.analyze_pointclouds()\n",
    "    datagenerator.analyze_voxelgrids()"
   ]
  },
  {
   "cell_type": "markdown",
   "metadata": {},
   "source": [
    "# Do the train-test-split and generate."
   ]
  },
  {
   "cell_type": "code",
   "execution_count": 5,
   "metadata": {},
   "outputs": [],
   "source": [
    "def split_and_generate(datagenerator, dataset_parameters):\n",
    "\n",
    "    # Do the split.\n",
    "    random.seed(dataset_parameters[\"random_seed\"])\n",
    "    qrcodes_shuffle = datagenerator.qrcodes[:]\n",
    "    random.shuffle(qrcodes_shuffle)\n",
    "    split_index = int(0.8 * len(qrcodes_shuffle))\n",
    "    qrcodes_train = sorted(qrcodes_shuffle[:split_index])\n",
    "    qrcodes_test = sorted(qrcodes_shuffle[split_index:])\n",
    "    del qrcodes_shuffle\n",
    "    print(\"\")\n",
    "\n",
    "    print(\"QR-Codes for training:\", \" \".join(qrcodes_train))\n",
    "    print(\"\")\n",
    "    print(\"QR-Codes for testing:\", \" \".join(qrcodes_test))\n",
    "    print(\"\")\n",
    "\n",
    "    print(\"Generating training data...\")\n",
    "    dataset_train = next(datagenerator.generate(size=dataset_parameters[\"dataset_size_train\"], qrcodes_to_use=qrcodes_train, verbose=True))\n",
    "\n",
    "    print(\"Generating testing data...\")\n",
    "    dataset_test = next(datagenerator.generate(size=dataset_parameters[\"dataset_size_test\"], qrcodes_to_use=qrcodes_test, verbose=True))\n",
    "\n",
    "    print(\"Done.\")\n",
    "    return dataset_train, dataset_test"
   ]
  },
  {
   "cell_type": "markdown",
   "metadata": {},
   "source": [
    "# Method for saving dataset."
   ]
  },
  {
   "cell_type": "code",
   "execution_count": 6,
   "metadata": {},
   "outputs": [],
   "source": [
    "def save_dataset(dataset_train, dataset_test, dataset_parameters):\n",
    "    print(\"Saving dataset...\")\n",
    "    datetime_string = datetime.datetime.now().strftime(\"%Y%m%d-%H%M\")\n",
    "    dataset_name = datetime_string + \"-\" + dataset_parameters[\"input_type\"] + \"-dataset.p\"\n",
    "    pickle.dump((dataset_train, dataset_test, dataset_parameters), open(dataset_name, \"wb\"))\n",
    "    print(\"Saved \" + dataset_name)"
   ]
  },
  {
   "cell_type": "markdown",
   "metadata": {},
   "source": [
    "# Generate with parameters."
   ]
  },
  {
   "cell_type": "code",
   "execution_count": 7,
   "metadata": {},
   "outputs": [
    {
     "name": "stdout",
     "output_type": "stream",
     "text": [
      "Creating data-generator...\n",
      "/Users/tristanbehrens/Datasets/welthungerhilfe/20180727\n",
      "QR-Code SAM-GOV-025 has 1 different manual measurements\n",
      "   Target [67, 6.7] with 160 JPGs and 51 PCDs.\n",
      "QR-Code SAM-GOV-003 has 2 different manual measurements\n",
      "   Target [92.7, 9.7] with 0 JPGs and 0 PCDs.\n",
      "   Target [75.3, 7.1] with 0 JPGs and 0 PCDs.\n",
      "QR-Code SAM-SNG-073 has 3 different manual measurements\n",
      "   Target [82, 8.8] with 122 JPGs and 41 PCDs.\n",
      "   Target [82, 8.8] with 136 JPGs and 40 PCDs.\n",
      "   Target [82, 8.5] with 0 JPGs and 0 PCDs.\n",
      "QR-Code SAM-GOV-014 has 1 different manual measurements\n",
      "   Target [91.1, 11.1] with 279 JPGs and 77 PCDs.\n",
      "QR-Code SAM-GOV-087 has 1 different manual measurements\n",
      "   Target [85.7, 10.2] with 225 JPGs and 60 PCDs.\n",
      "QR-Code SAM-GOV-004 has 1 different manual measurements\n",
      "   Target [76.2, 8.3] with 235 JPGs and 71 PCDs.\n",
      "QR-Code SAM-GOV-026 has 1 different manual measurements\n",
      "   Target [80.1, 9.2] with 145 JPGs and 47 PCDs.\n",
      "QR-Code SAM-GOV-068 has 1 different manual measurements\n",
      "   Target [73.3, 7.4] with 0 JPGs and 0 PCDs.\n",
      "QR-Code SAM-SNG-013 has 1 different manual measurements\n",
      "   Target [93.7, 11.2] with 0 JPGs and 0 PCDs.\n",
      "QR-Code SAM-SNG-072 has 1 different manual measurements\n",
      "   Target [73, 6.7] with 0 JPGs and 0 PCDs.\n",
      "QR-Code SAM-SNG-088 has 1 different manual measurements\n",
      "   Target [85.5, 10.3] with 169 JPGs and 48 PCDs.\n",
      "QR-Code SAM-GOV-045 has 1 different manual measurements\n",
      "   Target [72.1, 6.8] with 107 JPGs and 34 PCDs.\n",
      "QR-Code SAM-GOV-036 has 1 different manual measurements\n",
      "   Target [68.5, 6.3] with 457 JPGs and 141 PCDs.\n",
      "QR-Code SAM-SNG-059 has 1 different manual measurements\n",
      "   Target [78.8, 8.8] with 154 JPGs and 60 PCDs.\n",
      "QR-Code SAM-GOV-049 has 2 different manual measurements\n",
      "   Target [96.4, 11.9] with 80 JPGs and 22 PCDs.\n",
      "   Target [95.4, 11.9] with 80 JPGs and 22 PCDs.\n",
      "QR-Code prod_test_1 has 2 different manual measurements\n",
      "   Target [68.3, 6.5] with 0 JPGs and 0 PCDs.\n",
      "   Target [98.2, 15.3] with 0 JPGs and 0 PCDs.\n",
      "QR-Code SAM-SNG-083 has 1 different manual measurements\n",
      "   Target [102.1, 14.3] with 100 JPGs and 34 PCDs.\n",
      "QR-Code SAM-GOV-066 has 1 different manual measurements\n",
      "   Target [62.2, 5.8] with 77 JPGs and 24 PCDs.\n",
      "QR-Code SAM-GOV-088 has 1 different manual measurements\n",
      "   Target [57.8, 5.7] with 124 JPGs and 39 PCDs.\n",
      "QR-Code SAM-SNG-075 has 1 different manual measurements\n",
      "   Target [92.7, 9.6] with 50 JPGs and 14 PCDs.\n",
      "QR-Code SAM-GOV-051 has 1 different manual measurements\n",
      "   Target [75.3, 7.3] with 118 JPGs and 40 PCDs.\n",
      "QR-Code SAM-GOV-033 has 1 different manual measurements\n",
      "   Target [68.7, 6.4] with 192 JPGs and 57 PCDs.\n",
      "QR-Code SAM-SNG-076 has 1 different manual measurements\n",
      "   Target [80, 8.9] with 149 JPGs and 37 PCDs.\n",
      "QR-Code SAM-GOV-042 has 1 different manual measurements\n",
      "   Target [96, 12.7] with 136 JPGs and 40 PCDs.\n",
      "QR-Code SAM-SNG-012 has 1 different manual measurements\n",
      "   Target [67, 6.9] with 0 JPGs and 0 PCDs.\n",
      "QR-Code SAM-GOV-034 has 1 different manual measurements\n",
      "   Target [84.8, 11.1] with 216 JPGs and 64 PCDs.\n",
      "QR-Code SAM-GOV-035 has 1 different manual measurements\n",
      "   Target [70.1, 7.1] with 118 JPGs and 38 PCDs.\n",
      "QR-Code SAM-SNG-070 has 1 different manual measurements\n",
      "   Target [66.4, 5.6] with 180 JPGs and 53 PCDs.\n",
      "QR-Code SAM-GOV-023 has 1 different manual measurements\n",
      "   Target [69.5, 6.5] with 162 JPGs and 50 PCDs.\n",
      "QR-Code SAM-GOV-054 has 1 different manual measurements\n",
      "   Target [93.4, 10.8] with 80 JPGs and 24 PCDs.\n",
      "QR-Code SAM-GOV-052 has 1 different manual measurements\n",
      "   Target [80.3, 9.3] with 112 JPGs and 33 PCDs.\n",
      "QR-Code SAM-GOV-037 has 1 different manual measurements\n",
      "   Target [65.3, 6.1] with 165 JPGs and 51 PCDs.\n",
      "QR-Code SAM-GOV-089 has 1 different manual measurements\n",
      "   Target [96.6, 12.2] with 108 JPGs and 31 PCDs.\n",
      "QR-Code SAM-SNG-095 has 2 different manual measurements\n",
      "   Target [87.7, 10.6] with 256 JPGs and 72 PCDs.\n",
      "   Target [87.7, 10.9] with 170 JPGs and 49 PCDs.\n",
      "QR-Code SAM-SNG-081 has 1 different manual measurements\n",
      "   Target [78.6, 8.1] with 278 JPGs and 75 PCDs.\n",
      "QR-Code SAM-SNG-099 has 1 different manual measurements\n",
      "   Target [75.2, 8.2] with 64 JPGs and 17 PCDs.\n",
      "QR-Code SAM-SNG-061 has 1 different manual measurements\n",
      "   Target [79, 8.5] with 236 JPGs and 74 PCDs.\n",
      "QR-Code SAM-GOV-038 has 1 different manual measurements\n",
      "   Target [67.2, 7.6] with 141 JPGs and 40 PCDs.\n",
      "QR-Code SAM-GOV-041 has 1 different manual measurements\n",
      "   Target [68.2, 7.1] with 149 JPGs and 48 PCDs.\n",
      "QR-Code SAM-SNG-098 has 1 different manual measurements\n",
      "   Target [81.7, 8.7] with 388 JPGs and 119 PCDs.\n",
      "QR-Code SAM-GOV-090 has 1 different manual measurements\n",
      "   Target [68.1, 6.4] with 141 JPGs and 47 PCDs.\n",
      "QR-Code SAM-SNG-086 has 1 different manual measurements\n",
      "   Target [86.5, 9.7] with 143 JPGs and 41 PCDs.\n",
      "QR-Code SAM-SNG-096 has 2 different manual measurements\n",
      "   Target [100.3, 12.4] with 70 JPGs and 21 PCDs.\n",
      "   Target [100.3, 12.5] with 0 JPGs and 0 PCDs.\n",
      "QR-Code SAM-SNG-085 has 1 different manual measurements\n",
      "   Target [92.2, 10.8] with 171 JPGs and 53 PCDs.\n",
      "QR-Code SAM-SNG-067 has 1 different manual measurements\n",
      "   Target [78, 8.3] with 150 JPGs and 40 PCDs.\n",
      "QR-Code SAM-SNG-011 has 1 different manual measurements\n",
      "   Target [71, 6.2] with 0 JPGs and 0 PCDs.\n",
      "QR-Code SAM-GOV-043 has 1 different manual measurements\n",
      "   Target [69.3, 7.6] with 183 JPGs and 56 PCDs.\n",
      "QR-Code SAM-SNG-014 has 2 different manual measurements\n",
      "   Target [82.3, 8.9] with 0 JPGs and 0 PCDs.\n",
      "   Target [82.3, 8.7] with 224 JPGs and 73 PCDs.\n",
      "QR-Code SAM-GOV-013 has 1 different manual measurements\n",
      "   Target [63, 6.1] with 136 JPGs and 42 PCDs.\n",
      "QR-Code SAM-SNG-084 has 2 different manual measurements\n",
      "   Target [86, 10] with 137 JPGs and 42 PCDs.\n",
      "   Target [86, 10.1] with 137 JPGs and 50 PCDs.\n",
      "QR-Code SAM-SNG-087 has 2 different manual measurements\n",
      "   Target [90.4, 9.8] with 233 JPGs and 71 PCDs.\n",
      "   Target [88.5, 10] with 188 JPGs and 61 PCDs.\n",
      "QR-Code SAM-GOV-002 has 1 different manual measurements\n",
      "   Target [67.2, 6.2] with 144 JPGs and 46 PCDs.\n",
      "QR-Code SAM-GOV-050 has 1 different manual measurements\n",
      "   Target [97.4, 11.3] with 210 JPGs and 63 PCDs.\n",
      "QR-Code SAM-GOV-046 has 1 different manual measurements\n",
      "   Target [76, 7.2] with 0 JPGs and 0 PCDs.\n",
      "QR-Code SAM-GOV-011 has 1 different manual measurements\n",
      "   Target [85.5, 10.8] with 174 JPGs and 51 PCDs.\n",
      "QR-Code SAM-SNG-015 has 1 different manual measurements\n",
      "   Target [89.5, 10.5] with 0 JPGs and 0 PCDs.\n",
      "QR-Code SAM-GOV-005 has 1 different manual measurements\n",
      "   Target [76.5, 8.4] with 262 JPGs and 77 PCDs.\n",
      "QR-Code SAM-GOV-044 has 1 different manual measurements\n",
      "   Target [64.9, 7.9] with 142 JPGs and 45 PCDs.\n",
      "QR-Code SAM-GOV-012 has 1 different manual measurements\n",
      "   Target [77.1, 8.1] with 157 JPGs and 46 PCDs.\n",
      "QR-Code SAM-SNG-091 has 1 different manual measurements\n",
      "   Target [68.5, 6] with 0 JPGs and 0 PCDs.\n",
      "QR-Code SAM-GOV-008 has 1 different manual measurements\n",
      "   Target [73.7, 7.1] with 162 JPGs and 55 PCDs.\n",
      "QR-Code SAM-SNG-074 has 1 different manual measurements\n",
      "   Target [77.5, 8.3] with 144 JPGs and 41 PCDs.\n",
      "QR-Code SAM-SNG-036 has 1 different manual measurements\n",
      "   Target [78, 7.9] with 90 JPGs and 24 PCDs.\n",
      "QR-Code SAM-GOV-099 has 1 different manual measurements\n",
      "   Target [89.3, 10.8] with 122 JPGs and 35 PCDs.\n",
      "QR-Code SAM-SNG-021 has 1 different manual measurements\n",
      "   Target [101.2, 13.6] with 0 JPGs and 0 PCDs.\n",
      "QR-Code test1 has 1 different manual measurements\n",
      "   Target [50.79999923706055, 3.568000078201294] with 0 JPGs and 0 PCDs.\n",
      "QR-Code SAM-SNG-016 has 1 different manual measurements\n",
      "   Target [95, 11.9] with 0 JPGs and 0 PCDs.\n",
      "QR-Code SAM-SNG-066 has 2 different manual measurements\n",
      "   Target [89.4, 9.9] with 133 JPGs and 36 PCDs.\n",
      "   Target [89.4, 10.2] with 0 JPGs and 0 PCDs.\n",
      "\n",
      "QR-Codes for training: SAM-02-003-01 SAM-GOV-002 SAM-GOV-003 SAM-GOV-004 SAM-GOV-005 SAM-GOV-011 SAM-GOV-012 SAM-GOV-014 SAM-GOV-023 SAM-GOV-025 SAM-GOV-026 SAM-GOV-033 SAM-GOV-035 SAM-GOV-036 SAM-GOV-037 SAM-GOV-038 SAM-GOV-041 SAM-GOV-042 SAM-GOV-043 SAM-GOV-044 SAM-GOV-046 SAM-GOV-049 SAM-GOV-050 SAM-GOV-051 SAM-GOV-054 SAM-GOV-066 SAM-GOV-068 SAM-GOV-087 SAM-GOV-088 SAM-GOV-089 SAM-GOV-099 SAM-SNG-011 SAM-SNG-012 SAM-SNG-014 SAM-SNG-016 SAM-SNG-021 SAM-SNG-036 SAM-SNG-059 SAM-SNG-061 SAM-SNG-067 SAM-SNG-068 SAM-SNG-070 SAM-SNG-073 SAM-SNG-074 SAM-SNG-076 SAM-SNG-084 SAM-SNG-085 SAM-SNG-086 SAM-SNG-087 SAM-SNG-088 SAM-SNG-095 SAM-SNG-096 SAM-SNG-097 SAM-SNG-098 SAM-SNG-099 prod_test_1 test1\n",
      "\n",
      "QR-Codes for testing: SAM-GOV-001 SAM-GOV-008 SAM-GOV-013 SAM-GOV-034 SAM-GOV-045 SAM-GOV-052 SAM-GOV-090 SAM-SNG-013 SAM-SNG-015 SAM-SNG-066 SAM-SNG-072 SAM-SNG-075 SAM-SNG-081 SAM-SNG-083 SAM-SNG-091\n",
      "\n",
      "Generating training data...\n",
      "Generating using QR-codes: ['SAM-02-003-01', 'SAM-GOV-002', 'SAM-GOV-003', 'SAM-GOV-004', 'SAM-GOV-005', 'SAM-GOV-011', 'SAM-GOV-012', 'SAM-GOV-014', 'SAM-GOV-023', 'SAM-GOV-025', 'SAM-GOV-026', 'SAM-GOV-033', 'SAM-GOV-035', 'SAM-GOV-036', 'SAM-GOV-037', 'SAM-GOV-038', 'SAM-GOV-041', 'SAM-GOV-042', 'SAM-GOV-043', 'SAM-GOV-044', 'SAM-GOV-046', 'SAM-GOV-049', 'SAM-GOV-050', 'SAM-GOV-051', 'SAM-GOV-054', 'SAM-GOV-066', 'SAM-GOV-068', 'SAM-GOV-087', 'SAM-GOV-088', 'SAM-GOV-089', 'SAM-GOV-099', 'SAM-SNG-011', 'SAM-SNG-012', 'SAM-SNG-014', 'SAM-SNG-016', 'SAM-SNG-021', 'SAM-SNG-036', 'SAM-SNG-059', 'SAM-SNG-061', 'SAM-SNG-067', 'SAM-SNG-068', 'SAM-SNG-070', 'SAM-SNG-073', 'SAM-SNG-074', 'SAM-SNG-076', 'SAM-SNG-084', 'SAM-SNG-085', 'SAM-SNG-086', 'SAM-SNG-087', 'SAM-SNG-088', 'SAM-SNG-095', 'SAM-SNG-096', 'SAM-SNG-097', 'SAM-SNG-098', 'SAM-SNG-099', 'prod_test_1', 'test1']\n"
     ]
    },
    {
     "name": "stderr",
     "output_type": "stream",
     "text": [
      "  4% (147 of 3000) |#                    | Elapsed Time: 0:00:50 ETA:   0:15:03"
     ]
    },
    {
     "name": "stdout",
     "output_type": "stream",
     "text": [
      "Wrong number of columns at line 26769\n"
     ]
    },
    {
     "name": "stderr",
     "output_type": "stream",
     "text": [
      "  6% (203 of 3000) |#                    | Elapsed Time: 0:01:10 ETA:   0:16:46"
     ]
    },
    {
     "name": "stdout",
     "output_type": "stream",
     "text": [
      "Wrong number of columns at line 26558\n"
     ]
    },
    {
     "name": "stderr",
     "output_type": "stream",
     "text": [
      "  7% (223 of 3000) |#                    | Elapsed Time: 0:01:18 ETA:   0:17:56"
     ]
    },
    {
     "name": "stdout",
     "output_type": "stream",
     "text": [
      "Wrong number of columns at line 26553\n"
     ]
    },
    {
     "name": "stderr",
     "output_type": "stream",
     "text": [
      "  8% (258 of 3000) |#                    | Elapsed Time: 0:01:30 ETA:   0:15:53"
     ]
    },
    {
     "name": "stdout",
     "output_type": "stream",
     "text": [
      "Wrong number of columns at line 33561\n"
     ]
    },
    {
     "name": "stderr",
     "output_type": "stream",
     "text": [
      " 13% (404 of 3000) |##                   | Elapsed Time: 0:02:21 ETA:   0:14:10"
     ]
    },
    {
     "name": "stdout",
     "output_type": "stream",
     "text": [
      "Wrong number of columns at line 26769\n"
     ]
    },
    {
     "name": "stderr",
     "output_type": "stream",
     "text": [
      " 20% (627 of 3000) |####                 | Elapsed Time: 0:03:35 ETA:   0:12:50"
     ]
    },
    {
     "name": "stdout",
     "output_type": "stream",
     "text": [
      "Wrong number of columns at line 26553\n"
     ]
    },
    {
     "name": "stderr",
     "output_type": "stream",
     "text": [
      " 22% (661 of 3000) |####                 | Elapsed Time: 0:03:46 ETA:   0:12:48"
     ]
    },
    {
     "name": "stdout",
     "output_type": "stream",
     "text": [
      "Wrong number of columns at line 26670\n"
     ]
    },
    {
     "name": "stderr",
     "output_type": "stream",
     "text": [
      " 22% (670 of 3000) |####                 | Elapsed Time: 0:03:50 ETA:   0:12:50"
     ]
    },
    {
     "name": "stdout",
     "output_type": "stream",
     "text": [
      "Wrong number of columns at line 25616\n"
     ]
    },
    {
     "name": "stderr",
     "output_type": "stream",
     "text": [
      " 22% (676 of 3000) |####                 | Elapsed Time: 0:03:52 ETA:   0:13:49"
     ]
    },
    {
     "name": "stdout",
     "output_type": "stream",
     "text": [
      "Wrong number of columns at line 26736\n"
     ]
    },
    {
     "name": "stderr",
     "output_type": "stream",
     "text": [
      " 24% (720 of 3000) |#####                | Elapsed Time: 0:04:08 ETA:   0:15:12"
     ]
    },
    {
     "name": "stdout",
     "output_type": "stream",
     "text": [
      "Wrong number of columns at line 33561\n"
     ]
    },
    {
     "name": "stderr",
     "output_type": "stream",
     "text": [
      " 33% (1009 of 3000) |######              | Elapsed Time: 0:05:45 ETA:   0:11:11"
     ]
    },
    {
     "name": "stdout",
     "output_type": "stream",
     "text": [
      "Wrong number of columns at line 26636\n"
     ]
    },
    {
     "name": "stderr",
     "output_type": "stream",
     "text": [
      " 34% (1034 of 3000) |######              | Elapsed Time: 0:05:54 ETA:   0:11:06"
     ]
    },
    {
     "name": "stdout",
     "output_type": "stream",
     "text": [
      "Wrong number of columns at line 33561\n"
     ]
    },
    {
     "name": "stderr",
     "output_type": "stream",
     "text": [
      " 47% (1415 of 3000) |#########           | Elapsed Time: 0:07:54 ETA:   0:08:22"
     ]
    },
    {
     "name": "stdout",
     "output_type": "stream",
     "text": [
      "Wrong number of columns at line 26667\n"
     ]
    },
    {
     "name": "stderr",
     "output_type": "stream",
     "text": [
      " 47% (1417 of 3000) |#########           | Elapsed Time: 0:07:55 ETA:   0:09:27"
     ]
    },
    {
     "name": "stdout",
     "output_type": "stream",
     "text": [
      "Wrong number of columns at line 26636\n"
     ]
    },
    {
     "name": "stderr",
     "output_type": "stream",
     "text": [
      " 48% (1447 of 3000) |#########           | Elapsed Time: 0:08:05 ETA:   0:08:26"
     ]
    },
    {
     "name": "stdout",
     "output_type": "stream",
     "text": [
      "Wrong number of columns at line 33593\n"
     ]
    },
    {
     "name": "stderr",
     "output_type": "stream",
     "text": [
      " 48% (1450 of 3000) |#########           | Elapsed Time: 0:08:06 ETA:   0:09:31"
     ]
    },
    {
     "name": "stdout",
     "output_type": "stream",
     "text": [
      "Wrong number of columns at line 25919\n"
     ]
    },
    {
     "name": "stderr",
     "output_type": "stream",
     "text": [
      " 54% (1633 of 3000) |##########          | Elapsed Time: 0:09:06 ETA:   0:07:10"
     ]
    },
    {
     "name": "stdout",
     "output_type": "stream",
     "text": [
      "Wrong number of columns at line 26769\n"
     ]
    },
    {
     "name": "stderr",
     "output_type": "stream",
     "text": [
      " 57% (1729 of 3000) |###########         | Elapsed Time: 0:09:41 ETA:   0:06:55"
     ]
    },
    {
     "name": "stdout",
     "output_type": "stream",
     "text": [
      "Wrong number of columns at line 26636\n"
     ]
    },
    {
     "name": "stderr",
     "output_type": "stream",
     "text": [
      " 58% (1750 of 3000) |###########         | Elapsed Time: 0:09:48 ETA:   0:06:44"
     ]
    },
    {
     "name": "stdout",
     "output_type": "stream",
     "text": [
      "Wrong number of columns at line 25919\n",
      "Wrong number of columns at line 25616\n"
     ]
    },
    {
     "name": "stderr",
     "output_type": "stream",
     "text": [
      " 67% (2018 of 3000) |#############       | Elapsed Time: 0:11:19 ETA:   0:05:39"
     ]
    },
    {
     "name": "stdout",
     "output_type": "stream",
     "text": [
      "Wrong number of columns at line 33593\n"
     ]
    },
    {
     "name": "stderr",
     "output_type": "stream",
     "text": [
      " 67% (2032 of 3000) |#############       | Elapsed Time: 0:11:24 ETA:   0:05:13"
     ]
    },
    {
     "name": "stdout",
     "output_type": "stream",
     "text": [
      "Wrong number of columns at line 26769\n"
     ]
    },
    {
     "name": "stderr",
     "output_type": "stream",
     "text": [
      " 70% (2111 of 3000) |##############      | Elapsed Time: 0:11:49 ETA:   0:04:31"
     ]
    },
    {
     "name": "stdout",
     "output_type": "stream",
     "text": [
      "Wrong number of columns at line 26526\n"
     ]
    },
    {
     "name": "stderr",
     "output_type": "stream",
     "text": [
      " 72% (2165 of 3000) |##############      | Elapsed Time: 0:12:07 ETA:   0:04:22"
     ]
    },
    {
     "name": "stdout",
     "output_type": "stream",
     "text": [
      "Wrong number of columns at line 26736\n"
     ]
    },
    {
     "name": "stderr",
     "output_type": "stream",
     "text": [
      " 75% (2257 of 3000) |###############     | Elapsed Time: 0:12:36 ETA:   0:03:50"
     ]
    },
    {
     "name": "stdout",
     "output_type": "stream",
     "text": [
      "Wrong number of columns at line 26769\n"
     ]
    },
    {
     "name": "stderr",
     "output_type": "stream",
     "text": [
      " 78% (2357 of 3000) |###############     | Elapsed Time: 0:13:08 ETA:   0:03:29"
     ]
    },
    {
     "name": "stdout",
     "output_type": "stream",
     "text": [
      "Wrong number of columns at line 33683\n"
     ]
    },
    {
     "name": "stderr",
     "output_type": "stream",
     "text": [
      " 80% (2402 of 3000) |################    | Elapsed Time: 0:13:23 ETA:   0:03:10"
     ]
    },
    {
     "name": "stdout",
     "output_type": "stream",
     "text": [
      "Wrong number of columns at line 26222\n"
     ]
    },
    {
     "name": "stderr",
     "output_type": "stream",
     "text": [
      " 80% (2428 of 3000) |################    | Elapsed Time: 0:13:31 ETA:   0:03:08"
     ]
    },
    {
     "name": "stdout",
     "output_type": "stream",
     "text": [
      "Wrong number of columns at line 26650\n"
     ]
    },
    {
     "name": "stderr",
     "output_type": "stream",
     "text": [
      " 84% (2536 of 3000) |################    | Elapsed Time: 0:14:06 ETA:   0:02:22"
     ]
    },
    {
     "name": "stdout",
     "output_type": "stream",
     "text": [
      "Wrong number of columns at line 26558\n"
     ]
    },
    {
     "name": "stderr",
     "output_type": "stream",
     "text": [
      " 85% (2562 of 3000) |#################   | Elapsed Time: 0:14:14 ETA:   0:02:23"
     ]
    },
    {
     "name": "stdout",
     "output_type": "stream",
     "text": [
      "Wrong number of columns at line 26222\n"
     ]
    },
    {
     "name": "stderr",
     "output_type": "stream",
     "text": [
      " 97% (2925 of 3000) |################### | Elapsed Time: 0:16:18 ETA:   0:00:24"
     ]
    },
    {
     "name": "stdout",
     "output_type": "stream",
     "text": [
      "Wrong number of columns at line 25919\n"
     ]
    },
    {
     "name": "stderr",
     "output_type": "stream",
     "text": [
      "100% (3000 of 3000) |####################| Elapsed Time: 0:16:43 Time:  0:16:43\n"
     ]
    },
    {
     "name": "stdout",
     "output_type": "stream",
     "text": [
      "Generating testing data...\n",
      "Generating using QR-codes: ['SAM-GOV-001', 'SAM-GOV-008', 'SAM-GOV-013', 'SAM-GOV-034', 'SAM-GOV-045', 'SAM-GOV-052', 'SAM-GOV-090', 'SAM-SNG-013', 'SAM-SNG-015', 'SAM-SNG-066', 'SAM-SNG-072', 'SAM-SNG-075', 'SAM-SNG-081', 'SAM-SNG-083', 'SAM-SNG-091']\n"
     ]
    },
    {
     "name": "stderr",
     "output_type": "stream",
     "text": [
      " 25% (125 of 500) |#####                 | Elapsed Time: 0:00:42 ETA:   0:02:14"
     ]
    },
    {
     "name": "stdout",
     "output_type": "stream",
     "text": [
      "Wrong number of columns at line 25900\n"
     ]
    },
    {
     "name": "stderr",
     "output_type": "stream",
     "text": [
      " 56% (285 of 500) |############          | Elapsed Time: 0:01:34 ETA:   0:01:08"
     ]
    },
    {
     "name": "stdout",
     "output_type": "stream",
     "text": [
      "Wrong number of columns at line 25977\n"
     ]
    },
    {
     "name": "stderr",
     "output_type": "stream",
     "text": [
      "100% (500 of 500) |######################| Elapsed Time: 0:02:50 Time:  0:02:50\n"
     ]
    },
    {
     "name": "stdout",
     "output_type": "stream",
     "text": [
      "Done.\n",
      "Saved 20180731-1245-pointcloud-dataset.p\n",
      "Creating data-generator...\n",
      "/Users/tristanbehrens/Datasets/welthungerhilfe/20180727\n",
      "QR-Code SAM-GOV-025 has 1 different manual measurements\n",
      "   Target [67, 6.7] with 160 JPGs and 51 PCDs.\n",
      "QR-Code SAM-GOV-003 has 2 different manual measurements\n",
      "   Target [92.7, 9.7] with 0 JPGs and 0 PCDs.\n",
      "   Target [75.3, 7.1] with 0 JPGs and 0 PCDs.\n",
      "QR-Code SAM-SNG-073 has 3 different manual measurements\n",
      "   Target [82, 8.8] with 122 JPGs and 41 PCDs.\n",
      "   Target [82, 8.8] with 136 JPGs and 40 PCDs.\n",
      "   Target [82, 8.5] with 0 JPGs and 0 PCDs.\n",
      "QR-Code SAM-GOV-014 has 1 different manual measurements\n",
      "   Target [91.1, 11.1] with 279 JPGs and 77 PCDs.\n",
      "QR-Code SAM-GOV-087 has 1 different manual measurements\n",
      "   Target [85.7, 10.2] with 225 JPGs and 60 PCDs.\n",
      "QR-Code SAM-GOV-004 has 1 different manual measurements\n",
      "   Target [76.2, 8.3] with 235 JPGs and 71 PCDs.\n",
      "QR-Code SAM-GOV-026 has 1 different manual measurements\n",
      "   Target [80.1, 9.2] with 145 JPGs and 47 PCDs.\n",
      "QR-Code SAM-GOV-068 has 1 different manual measurements\n",
      "   Target [73.3, 7.4] with 0 JPGs and 0 PCDs.\n",
      "QR-Code SAM-SNG-013 has 1 different manual measurements\n",
      "   Target [93.7, 11.2] with 0 JPGs and 0 PCDs.\n",
      "QR-Code SAM-SNG-072 has 1 different manual measurements\n",
      "   Target [73, 6.7] with 0 JPGs and 0 PCDs.\n",
      "QR-Code SAM-SNG-088 has 1 different manual measurements\n",
      "   Target [85.5, 10.3] with 169 JPGs and 48 PCDs.\n",
      "QR-Code SAM-GOV-045 has 1 different manual measurements\n",
      "   Target [72.1, 6.8] with 107 JPGs and 34 PCDs.\n",
      "QR-Code SAM-GOV-036 has 1 different manual measurements\n",
      "   Target [68.5, 6.3] with 457 JPGs and 141 PCDs.\n",
      "QR-Code SAM-SNG-059 has 1 different manual measurements\n",
      "   Target [78.8, 8.8] with 154 JPGs and 60 PCDs.\n",
      "QR-Code SAM-GOV-049 has 2 different manual measurements\n",
      "   Target [96.4, 11.9] with 80 JPGs and 22 PCDs.\n",
      "   Target [95.4, 11.9] with 80 JPGs and 22 PCDs.\n",
      "QR-Code prod_test_1 has 2 different manual measurements\n",
      "   Target [68.3, 6.5] with 0 JPGs and 0 PCDs.\n",
      "   Target [98.2, 15.3] with 0 JPGs and 0 PCDs.\n",
      "QR-Code SAM-SNG-083 has 1 different manual measurements\n",
      "   Target [102.1, 14.3] with 100 JPGs and 34 PCDs.\n",
      "QR-Code SAM-GOV-066 has 1 different manual measurements\n",
      "   Target [62.2, 5.8] with 77 JPGs and 24 PCDs.\n",
      "QR-Code SAM-GOV-088 has 1 different manual measurements\n",
      "   Target [57.8, 5.7] with 124 JPGs and 39 PCDs.\n",
      "QR-Code SAM-SNG-075 has 1 different manual measurements\n",
      "   Target [92.7, 9.6] with 50 JPGs and 14 PCDs.\n",
      "QR-Code SAM-GOV-051 has 1 different manual measurements\n",
      "   Target [75.3, 7.3] with 118 JPGs and 40 PCDs.\n",
      "QR-Code SAM-GOV-033 has 1 different manual measurements\n",
      "   Target [68.7, 6.4] with 192 JPGs and 57 PCDs.\n",
      "QR-Code SAM-SNG-076 has 1 different manual measurements\n",
      "   Target [80, 8.9] with 149 JPGs and 37 PCDs.\n",
      "QR-Code SAM-GOV-042 has 1 different manual measurements\n",
      "   Target [96, 12.7] with 136 JPGs and 40 PCDs.\n",
      "QR-Code SAM-SNG-012 has 1 different manual measurements\n",
      "   Target [67, 6.9] with 0 JPGs and 0 PCDs.\n",
      "QR-Code SAM-GOV-034 has 1 different manual measurements\n",
      "   Target [84.8, 11.1] with 216 JPGs and 64 PCDs.\n",
      "QR-Code SAM-GOV-035 has 1 different manual measurements\n",
      "   Target [70.1, 7.1] with 118 JPGs and 38 PCDs.\n",
      "QR-Code SAM-SNG-070 has 1 different manual measurements\n",
      "   Target [66.4, 5.6] with 180 JPGs and 53 PCDs.\n",
      "QR-Code SAM-GOV-023 has 1 different manual measurements\n",
      "   Target [69.5, 6.5] with 162 JPGs and 50 PCDs.\n",
      "QR-Code SAM-GOV-054 has 1 different manual measurements\n",
      "   Target [93.4, 10.8] with 80 JPGs and 24 PCDs.\n",
      "QR-Code SAM-GOV-052 has 1 different manual measurements\n",
      "   Target [80.3, 9.3] with 112 JPGs and 33 PCDs.\n",
      "QR-Code SAM-GOV-037 has 1 different manual measurements\n",
      "   Target [65.3, 6.1] with 165 JPGs and 51 PCDs.\n",
      "QR-Code SAM-GOV-089 has 1 different manual measurements\n",
      "   Target [96.6, 12.2] with 108 JPGs and 31 PCDs.\n",
      "QR-Code SAM-SNG-095 has 2 different manual measurements\n",
      "   Target [87.7, 10.6] with 256 JPGs and 72 PCDs.\n",
      "   Target [87.7, 10.9] with 170 JPGs and 49 PCDs.\n",
      "QR-Code SAM-SNG-081 has 1 different manual measurements\n",
      "   Target [78.6, 8.1] with 278 JPGs and 75 PCDs.\n",
      "QR-Code SAM-SNG-099 has 1 different manual measurements\n",
      "   Target [75.2, 8.2] with 64 JPGs and 17 PCDs.\n",
      "QR-Code SAM-SNG-061 has 1 different manual measurements\n",
      "   Target [79, 8.5] with 236 JPGs and 74 PCDs.\n",
      "QR-Code SAM-GOV-038 has 1 different manual measurements\n",
      "   Target [67.2, 7.6] with 141 JPGs and 40 PCDs.\n",
      "QR-Code SAM-GOV-041 has 1 different manual measurements\n",
      "   Target [68.2, 7.1] with 149 JPGs and 48 PCDs.\n",
      "QR-Code SAM-SNG-098 has 1 different manual measurements\n",
      "   Target [81.7, 8.7] with 388 JPGs and 119 PCDs.\n",
      "QR-Code SAM-GOV-090 has 1 different manual measurements\n",
      "   Target [68.1, 6.4] with 141 JPGs and 47 PCDs.\n",
      "QR-Code SAM-SNG-086 has 1 different manual measurements\n",
      "   Target [86.5, 9.7] with 143 JPGs and 41 PCDs.\n",
      "QR-Code SAM-SNG-096 has 2 different manual measurements\n",
      "   Target [100.3, 12.4] with 70 JPGs and 21 PCDs.\n",
      "   Target [100.3, 12.5] with 0 JPGs and 0 PCDs.\n",
      "QR-Code SAM-SNG-085 has 1 different manual measurements\n",
      "   Target [92.2, 10.8] with 171 JPGs and 53 PCDs.\n",
      "QR-Code SAM-SNG-067 has 1 different manual measurements\n",
      "   Target [78, 8.3] with 150 JPGs and 40 PCDs.\n",
      "QR-Code SAM-SNG-011 has 1 different manual measurements\n",
      "   Target [71, 6.2] with 0 JPGs and 0 PCDs.\n",
      "QR-Code SAM-GOV-043 has 1 different manual measurements\n",
      "   Target [69.3, 7.6] with 183 JPGs and 56 PCDs.\n",
      "QR-Code SAM-SNG-014 has 2 different manual measurements\n",
      "   Target [82.3, 8.9] with 0 JPGs and 0 PCDs.\n",
      "   Target [82.3, 8.7] with 224 JPGs and 73 PCDs.\n",
      "QR-Code SAM-GOV-013 has 1 different manual measurements\n",
      "   Target [63, 6.1] with 136 JPGs and 42 PCDs.\n",
      "QR-Code SAM-SNG-084 has 2 different manual measurements\n",
      "   Target [86, 10] with 137 JPGs and 42 PCDs.\n",
      "   Target [86, 10.1] with 137 JPGs and 50 PCDs.\n",
      "QR-Code SAM-SNG-087 has 2 different manual measurements\n",
      "   Target [90.4, 9.8] with 233 JPGs and 71 PCDs.\n",
      "   Target [88.5, 10] with 188 JPGs and 61 PCDs.\n",
      "QR-Code SAM-GOV-002 has 1 different manual measurements\n",
      "   Target [67.2, 6.2] with 144 JPGs and 46 PCDs.\n",
      "QR-Code SAM-GOV-050 has 1 different manual measurements\n",
      "   Target [97.4, 11.3] with 210 JPGs and 63 PCDs.\n",
      "QR-Code SAM-GOV-046 has 1 different manual measurements\n",
      "   Target [76, 7.2] with 0 JPGs and 0 PCDs.\n",
      "QR-Code SAM-GOV-011 has 1 different manual measurements\n",
      "   Target [85.5, 10.8] with 174 JPGs and 51 PCDs.\n",
      "QR-Code SAM-SNG-015 has 1 different manual measurements\n",
      "   Target [89.5, 10.5] with 0 JPGs and 0 PCDs.\n",
      "QR-Code SAM-GOV-005 has 1 different manual measurements\n",
      "   Target [76.5, 8.4] with 262 JPGs and 77 PCDs.\n",
      "QR-Code SAM-GOV-044 has 1 different manual measurements\n",
      "   Target [64.9, 7.9] with 142 JPGs and 45 PCDs.\n",
      "QR-Code SAM-GOV-012 has 1 different manual measurements\n",
      "   Target [77.1, 8.1] with 157 JPGs and 46 PCDs.\n",
      "QR-Code SAM-SNG-091 has 1 different manual measurements\n",
      "   Target [68.5, 6] with 0 JPGs and 0 PCDs.\n",
      "QR-Code SAM-GOV-008 has 1 different manual measurements\n",
      "   Target [73.7, 7.1] with 162 JPGs and 55 PCDs.\n",
      "QR-Code SAM-SNG-074 has 1 different manual measurements\n",
      "   Target [77.5, 8.3] with 144 JPGs and 41 PCDs.\n",
      "QR-Code SAM-SNG-036 has 1 different manual measurements\n",
      "   Target [78, 7.9] with 90 JPGs and 24 PCDs.\n",
      "QR-Code SAM-GOV-099 has 1 different manual measurements\n",
      "   Target [89.3, 10.8] with 122 JPGs and 35 PCDs.\n",
      "QR-Code SAM-SNG-021 has 1 different manual measurements\n",
      "   Target [101.2, 13.6] with 0 JPGs and 0 PCDs.\n",
      "QR-Code test1 has 1 different manual measurements\n",
      "   Target [50.79999923706055, 3.568000078201294] with 0 JPGs and 0 PCDs.\n",
      "QR-Code SAM-SNG-016 has 1 different manual measurements\n",
      "   Target [95, 11.9] with 0 JPGs and 0 PCDs.\n",
      "QR-Code SAM-SNG-066 has 2 different manual measurements\n",
      "   Target [89.4, 9.9] with 133 JPGs and 36 PCDs.\n",
      "   Target [89.4, 10.2] with 0 JPGs and 0 PCDs.\n",
      "\n",
      "QR-Codes for training: SAM-02-003-01 SAM-GOV-002 SAM-GOV-003 SAM-GOV-004 SAM-GOV-005 SAM-GOV-011 SAM-GOV-012 SAM-GOV-014 SAM-GOV-023 SAM-GOV-025 SAM-GOV-026 SAM-GOV-033 SAM-GOV-035 SAM-GOV-036 SAM-GOV-037 SAM-GOV-038 SAM-GOV-041 SAM-GOV-042 SAM-GOV-043 SAM-GOV-044 SAM-GOV-046 SAM-GOV-049 SAM-GOV-050 SAM-GOV-051 SAM-GOV-054 SAM-GOV-066 SAM-GOV-068 SAM-GOV-087 SAM-GOV-088 SAM-GOV-089 SAM-GOV-099 SAM-SNG-011 SAM-SNG-012 SAM-SNG-014 SAM-SNG-016 SAM-SNG-021 SAM-SNG-036 SAM-SNG-059 SAM-SNG-061 SAM-SNG-067 SAM-SNG-068 SAM-SNG-070 SAM-SNG-073 SAM-SNG-074 SAM-SNG-076 SAM-SNG-084 SAM-SNG-085 SAM-SNG-086 SAM-SNG-087 SAM-SNG-088 SAM-SNG-095 SAM-SNG-096 SAM-SNG-097 SAM-SNG-098 SAM-SNG-099 prod_test_1 test1\n",
      "\n",
      "QR-Codes for testing: SAM-GOV-001 SAM-GOV-008 SAM-GOV-013 SAM-GOV-034 SAM-GOV-045 SAM-GOV-052 SAM-GOV-090 SAM-SNG-013 SAM-SNG-015 SAM-SNG-066 SAM-SNG-072 SAM-SNG-075 SAM-SNG-081 SAM-SNG-083 SAM-SNG-091\n",
      "\n",
      "Generating training data...\n",
      "Generating using QR-codes: ['SAM-02-003-01', 'SAM-GOV-002', 'SAM-GOV-003', 'SAM-GOV-004', 'SAM-GOV-005', 'SAM-GOV-011', 'SAM-GOV-012', 'SAM-GOV-014', 'SAM-GOV-023', 'SAM-GOV-025', 'SAM-GOV-026', 'SAM-GOV-033', 'SAM-GOV-035', 'SAM-GOV-036', 'SAM-GOV-037', 'SAM-GOV-038', 'SAM-GOV-041', 'SAM-GOV-042', 'SAM-GOV-043', 'SAM-GOV-044', 'SAM-GOV-046', 'SAM-GOV-049', 'SAM-GOV-050', 'SAM-GOV-051', 'SAM-GOV-054', 'SAM-GOV-066', 'SAM-GOV-068', 'SAM-GOV-087', 'SAM-GOV-088', 'SAM-GOV-089', 'SAM-GOV-099', 'SAM-SNG-011', 'SAM-SNG-012', 'SAM-SNG-014', 'SAM-SNG-016', 'SAM-SNG-021', 'SAM-SNG-036', 'SAM-SNG-059', 'SAM-SNG-061', 'SAM-SNG-067', 'SAM-SNG-068', 'SAM-SNG-070', 'SAM-SNG-073', 'SAM-SNG-074', 'SAM-SNG-076', 'SAM-SNG-084', 'SAM-SNG-085', 'SAM-SNG-086', 'SAM-SNG-087', 'SAM-SNG-088', 'SAM-SNG-095', 'SAM-SNG-096', 'SAM-SNG-097', 'SAM-SNG-098', 'SAM-SNG-099', 'prod_test_1', 'test1']\n"
     ]
    },
    {
     "name": "stderr",
     "output_type": "stream",
     "text": [
      "  2% (147 of 6000) |                     | Elapsed Time: 0:00:50 ETA:   0:30:09"
     ]
    },
    {
     "name": "stdout",
     "output_type": "stream",
     "text": [
      "Wrong number of columns at line 26769\n"
     ]
    },
    {
     "name": "stderr",
     "output_type": "stream",
     "text": [
      "  3% (203 of 6000) |                     | Elapsed Time: 0:01:09 ETA:   0:36:37"
     ]
    },
    {
     "name": "stdout",
     "output_type": "stream",
     "text": [
      "Wrong number of columns at line 26558\n"
     ]
    },
    {
     "name": "stderr",
     "output_type": "stream",
     "text": [
      "  3% (223 of 6000) |                     | Elapsed Time: 0:01:16 ETA:   0:30:44"
     ]
    },
    {
     "name": "stdout",
     "output_type": "stream",
     "text": [
      "Wrong number of columns at line 26553\n"
     ]
    },
    {
     "name": "stderr",
     "output_type": "stream",
     "text": [
      "  4% (258 of 6000) |                     | Elapsed Time: 0:01:27 ETA:   0:31:00"
     ]
    },
    {
     "name": "stdout",
     "output_type": "stream",
     "text": [
      "Wrong number of columns at line 33561\n"
     ]
    },
    {
     "name": "stderr",
     "output_type": "stream",
     "text": [
      "  6% (404 of 6000) |#                    | Elapsed Time: 0:02:16 ETA:   0:34:56"
     ]
    },
    {
     "name": "stdout",
     "output_type": "stream",
     "text": [
      "Wrong number of columns at line 26769\n"
     ]
    },
    {
     "name": "stderr",
     "output_type": "stream",
     "text": [
      " 10% (627 of 6000) |##                   | Elapsed Time: 0:03:40 ETA:   0:35:33"
     ]
    },
    {
     "name": "stdout",
     "output_type": "stream",
     "text": [
      "Wrong number of columns at line 26553\n"
     ]
    },
    {
     "name": "stderr",
     "output_type": "stream",
     "text": [
      " 11% (661 of 6000) |##                   | Elapsed Time: 0:03:52 ETA:   0:31:45"
     ]
    },
    {
     "name": "stdout",
     "output_type": "stream",
     "text": [
      "Wrong number of columns at line 26670\n"
     ]
    },
    {
     "name": "stderr",
     "output_type": "stream",
     "text": [
      " 11% (670 of 6000) |##                   | Elapsed Time: 0:03:55 ETA:   0:33:15"
     ]
    },
    {
     "name": "stdout",
     "output_type": "stream",
     "text": [
      "Wrong number of columns at line 25616\n"
     ]
    },
    {
     "name": "stderr",
     "output_type": "stream",
     "text": [
      " 11% (676 of 6000) |##                   | Elapsed Time: 0:03:58 ETA:   0:33:47"
     ]
    },
    {
     "name": "stdout",
     "output_type": "stream",
     "text": [
      "Wrong number of columns at line 26736\n"
     ]
    },
    {
     "name": "stderr",
     "output_type": "stream",
     "text": [
      " 12% (720 of 6000) |##                   | Elapsed Time: 0:04:13 ETA:   0:31:19"
     ]
    },
    {
     "name": "stdout",
     "output_type": "stream",
     "text": [
      "Wrong number of columns at line 33561\n"
     ]
    },
    {
     "name": "stderr",
     "output_type": "stream",
     "text": [
      " 16% (1009 of 6000) |###                 | Elapsed Time: 0:05:59 ETA:   0:27:50"
     ]
    },
    {
     "name": "stdout",
     "output_type": "stream",
     "text": [
      "Wrong number of columns at line 26636\n"
     ]
    },
    {
     "name": "stderr",
     "output_type": "stream",
     "text": [
      " 17% (1034 of 6000) |###                 | Elapsed Time: 0:06:08 ETA:   0:27:29"
     ]
    },
    {
     "name": "stdout",
     "output_type": "stream",
     "text": [
      "Wrong number of columns at line 33561\n"
     ]
    },
    {
     "name": "stderr",
     "output_type": "stream",
     "text": [
      " 23% (1415 of 6000) |####                | Elapsed Time: 0:08:14 ETA:   0:25:08"
     ]
    },
    {
     "name": "stdout",
     "output_type": "stream",
     "text": [
      "Wrong number of columns at line 26667\n"
     ]
    },
    {
     "name": "stderr",
     "output_type": "stream",
     "text": [
      " 23% (1417 of 6000) |####                | Elapsed Time: 0:08:15 ETA:   0:27:08"
     ]
    },
    {
     "name": "stdout",
     "output_type": "stream",
     "text": [
      "Wrong number of columns at line 26636\n"
     ]
    },
    {
     "name": "stderr",
     "output_type": "stream",
     "text": [
      " 24% (1447 of 6000) |####                | Elapsed Time: 0:08:25 ETA:   0:26:25"
     ]
    },
    {
     "name": "stdout",
     "output_type": "stream",
     "text": [
      "Wrong number of columns at line 33593\n"
     ]
    },
    {
     "name": "stderr",
     "output_type": "stream",
     "text": [
      " 24% (1450 of 6000) |####                | Elapsed Time: 0:08:26 ETA:   0:28:03"
     ]
    },
    {
     "name": "stdout",
     "output_type": "stream",
     "text": [
      "Wrong number of columns at line 25919\n"
     ]
    },
    {
     "name": "stderr",
     "output_type": "stream",
     "text": [
      " 27% (1633 of 6000) |#####               | Elapsed Time: 0:09:25 ETA:   0:23:30"
     ]
    },
    {
     "name": "stdout",
     "output_type": "stream",
     "text": [
      "Wrong number of columns at line 26769\n"
     ]
    },
    {
     "name": "stderr",
     "output_type": "stream",
     "text": [
      " 28% (1729 of 6000) |#####               | Elapsed Time: 0:09:56 ETA:   0:22:47"
     ]
    },
    {
     "name": "stdout",
     "output_type": "stream",
     "text": [
      "Wrong number of columns at line 26636\n"
     ]
    },
    {
     "name": "stderr",
     "output_type": "stream",
     "text": [
      " 29% (1750 of 6000) |#####               | Elapsed Time: 0:10:03 ETA:   0:22:32"
     ]
    },
    {
     "name": "stdout",
     "output_type": "stream",
     "text": [
      "Wrong number of columns at line 25919\n",
      "Wrong number of columns at line 25616\n"
     ]
    },
    {
     "name": "stderr",
     "output_type": "stream",
     "text": [
      " 33% (2018 of 6000) |######              | Elapsed Time: 0:11:36 ETA:   0:22:16"
     ]
    },
    {
     "name": "stdout",
     "output_type": "stream",
     "text": [
      "Wrong number of columns at line 33593\n"
     ]
    },
    {
     "name": "stderr",
     "output_type": "stream",
     "text": [
      " 33% (2032 of 6000) |######              | Elapsed Time: 0:11:41 ETA:   0:22:49"
     ]
    },
    {
     "name": "stdout",
     "output_type": "stream",
     "text": [
      "Wrong number of columns at line 26769\n"
     ]
    },
    {
     "name": "stderr",
     "output_type": "stream",
     "text": [
      " 35% (2111 of 6000) |#######             | Elapsed Time: 0:12:07 ETA:   0:20:53"
     ]
    },
    {
     "name": "stdout",
     "output_type": "stream",
     "text": [
      "Wrong number of columns at line 26526\n"
     ]
    },
    {
     "name": "stderr",
     "output_type": "stream",
     "text": [
      " 36% (2165 of 6000) |#######             | Elapsed Time: 0:12:25 ETA:   0:21:23"
     ]
    },
    {
     "name": "stdout",
     "output_type": "stream",
     "text": [
      "Wrong number of columns at line 26736\n"
     ]
    },
    {
     "name": "stderr",
     "output_type": "stream",
     "text": [
      " 37% (2257 of 6000) |#######             | Elapsed Time: 0:12:57 ETA:   0:20:18"
     ]
    },
    {
     "name": "stdout",
     "output_type": "stream",
     "text": [
      "Wrong number of columns at line 26769\n"
     ]
    },
    {
     "name": "stderr",
     "output_type": "stream",
     "text": [
      " 39% (2357 of 6000) |#######             | Elapsed Time: 0:13:31 ETA:   0:19:54"
     ]
    },
    {
     "name": "stdout",
     "output_type": "stream",
     "text": [
      "Wrong number of columns at line 33683\n"
     ]
    },
    {
     "name": "stderr",
     "output_type": "stream",
     "text": [
      " 40% (2402 of 6000) |########            | Elapsed Time: 0:13:46 ETA:   0:19:20"
     ]
    },
    {
     "name": "stdout",
     "output_type": "stream",
     "text": [
      "Wrong number of columns at line 26222\n"
     ]
    },
    {
     "name": "stderr",
     "output_type": "stream",
     "text": [
      " 40% (2428 of 6000) |########            | Elapsed Time: 0:13:55 ETA:   0:19:59"
     ]
    },
    {
     "name": "stdout",
     "output_type": "stream",
     "text": [
      "Wrong number of columns at line 26650\n"
     ]
    },
    {
     "name": "stderr",
     "output_type": "stream",
     "text": [
      " 42% (2536 of 6000) |########            | Elapsed Time: 0:14:31 ETA:   0:18:30"
     ]
    },
    {
     "name": "stdout",
     "output_type": "stream",
     "text": [
      "Wrong number of columns at line 26558\n"
     ]
    },
    {
     "name": "stderr",
     "output_type": "stream",
     "text": [
      " 42% (2562 of 6000) |########            | Elapsed Time: 0:14:40 ETA:   0:19:14"
     ]
    },
    {
     "name": "stdout",
     "output_type": "stream",
     "text": [
      "Wrong number of columns at line 26222\n"
     ]
    },
    {
     "name": "stderr",
     "output_type": "stream",
     "text": [
      " 48% (2925 of 6000) |#########           | Elapsed Time: 0:16:46 ETA:   0:17:22"
     ]
    },
    {
     "name": "stdout",
     "output_type": "stream",
     "text": [
      "Wrong number of columns at line 25919\n"
     ]
    },
    {
     "name": "stderr",
     "output_type": "stream",
     "text": [
      " 52% (3131 of 6000) |##########          | Elapsed Time: 0:17:59 ETA:   0:16:03"
     ]
    },
    {
     "name": "stdout",
     "output_type": "stream",
     "text": [
      "Wrong number of columns at line 33593\n"
     ]
    },
    {
     "name": "stderr",
     "output_type": "stream",
     "text": [
      " 53% (3185 of 6000) |##########          | Elapsed Time: 0:18:18 ETA:   0:15:49"
     ]
    },
    {
     "name": "stdout",
     "output_type": "stream",
     "text": [
      "Wrong number of columns at line 25969\n"
     ]
    },
    {
     "name": "stderr",
     "output_type": "stream",
     "text": [
      " 53% (3215 of 6000) |##########          | Elapsed Time: 0:18:29 ETA:   0:17:16"
     ]
    },
    {
     "name": "stdout",
     "output_type": "stream",
     "text": [
      "Wrong number of columns at line 26667\n"
     ]
    },
    {
     "name": "stderr",
     "output_type": "stream",
     "text": [
      " 54% (3244 of 6000) |##########          | Elapsed Time: 0:18:39 ETA:   0:15:56"
     ]
    },
    {
     "name": "stdout",
     "output_type": "stream",
     "text": [
      "Wrong number of columns at line 25021\n"
     ]
    },
    {
     "name": "stderr",
     "output_type": "stream",
     "text": [
      " 62% (3740 of 6000) |############        | Elapsed Time: 0:21:29 ETA:   0:12:10"
     ]
    },
    {
     "name": "stdout",
     "output_type": "stream",
     "text": [
      "Wrong number of columns at line 26650\n"
     ]
    },
    {
     "name": "stderr",
     "output_type": "stream",
     "text": [
      " 67% (4021 of 6000) |#############       | Elapsed Time: 0:23:01 ETA:   0:11:20"
     ]
    },
    {
     "name": "stdout",
     "output_type": "stream",
     "text": [
      "Wrong number of columns at line 26636\n"
     ]
    },
    {
     "name": "stderr",
     "output_type": "stream",
     "text": [
      " 68% (4122 of 6000) |#############       | Elapsed Time: 0:23:34 ETA:   0:09:51"
     ]
    },
    {
     "name": "stdout",
     "output_type": "stream",
     "text": [
      "Wrong number of columns at line 25919\n"
     ]
    },
    {
     "name": "stderr",
     "output_type": "stream",
     "text": [
      " 68% (4130 of 6000) |#############       | Elapsed Time: 0:23:37 ETA:   0:10:09"
     ]
    },
    {
     "name": "stdout",
     "output_type": "stream",
     "text": [
      "Wrong number of columns at line 26553\n"
     ]
    },
    {
     "name": "stderr",
     "output_type": "stream",
     "text": [
      " 71% (4289 of 6000) |##############      | Elapsed Time: 0:24:30 ETA:   0:09:22"
     ]
    },
    {
     "name": "stdout",
     "output_type": "stream",
     "text": [
      "Wrong number of columns at line 26065\n",
      "Wrong number of columns at line 25616\n"
     ]
    },
    {
     "name": "stderr",
     "output_type": "stream",
     "text": [
      " 74% (4481 of 6000) |##############      | Elapsed Time: 0:25:32 ETA:   0:08:01"
     ]
    },
    {
     "name": "stdout",
     "output_type": "stream",
     "text": [
      "Wrong number of columns at line 33481\n"
     ]
    },
    {
     "name": "stderr",
     "output_type": "stream",
     "text": [
      " 76% (4574 of 6000) |###############     | Elapsed Time: 0:26:03 ETA:   0:07:44"
     ]
    },
    {
     "name": "stdout",
     "output_type": "stream",
     "text": [
      "Wrong number of columns at line 25616\n"
     ]
    },
    {
     "name": "stderr",
     "output_type": "stream",
     "text": [
      " 76% (4619 of 6000) |###############     | Elapsed Time: 0:26:18 ETA:   0:07:37"
     ]
    },
    {
     "name": "stdout",
     "output_type": "stream",
     "text": [
      "Wrong number of columns at line 33593\n"
     ]
    },
    {
     "name": "stderr",
     "output_type": "stream",
     "text": [
      " 78% (4720 of 6000) |###############     | Elapsed Time: 0:26:51 ETA:   0:06:44"
     ]
    },
    {
     "name": "stdout",
     "output_type": "stream",
     "text": [
      "Wrong number of columns at line 26553\n"
     ]
    },
    {
     "name": "stderr",
     "output_type": "stream",
     "text": [
      " 82% (4950 of 6000) |################    | Elapsed Time: 0:28:06 ETA:   0:05:45"
     ]
    },
    {
     "name": "stdout",
     "output_type": "stream",
     "text": [
      "Wrong number of columns at line 26667\n"
     ]
    },
    {
     "name": "stderr",
     "output_type": "stream",
     "text": [
      " 83% (5024 of 6000) |################    | Elapsed Time: 0:28:30 ETA:   0:05:09"
     ]
    },
    {
     "name": "stdout",
     "output_type": "stream",
     "text": [
      "Wrong number of columns at line 25021\n"
     ]
    },
    {
     "name": "stderr",
     "output_type": "stream",
     "text": [
      " 84% (5061 of 6000) |################    | Elapsed Time: 0:28:42 ETA:   0:05:05"
     ]
    },
    {
     "name": "stdout",
     "output_type": "stream",
     "text": [
      "Wrong number of columns at line 33593\n"
     ]
    },
    {
     "name": "stderr",
     "output_type": "stream",
     "text": [
      " 84% (5084 of 6000) |################    | Elapsed Time: 0:28:50 ETA:   0:05:05"
     ]
    },
    {
     "name": "stdout",
     "output_type": "stream",
     "text": [
      "Wrong number of columns at line 33604\n"
     ]
    },
    {
     "name": "stderr",
     "output_type": "stream",
     "text": [
      " 86% (5207 of 6000) |#################   | Elapsed Time: 0:29:30 ETA:   0:04:13"
     ]
    },
    {
     "name": "stdout",
     "output_type": "stream",
     "text": [
      "Wrong number of columns at line 25021\n"
     ]
    },
    {
     "name": "stderr",
     "output_type": "stream",
     "text": [
      " 87% (5249 of 6000) |#################   | Elapsed Time: 0:29:44 ETA:   0:04:05"
     ]
    },
    {
     "name": "stdout",
     "output_type": "stream",
     "text": [
      "Wrong number of columns at line 25021\n"
     ]
    },
    {
     "name": "stderr",
     "output_type": "stream",
     "text": [
      " 88% (5322 of 6000) |#################   | Elapsed Time: 0:30:08 ETA:   0:03:35"
     ]
    },
    {
     "name": "stdout",
     "output_type": "stream",
     "text": [
      "Wrong number of columns at line 26553\n"
     ]
    },
    {
     "name": "stderr",
     "output_type": "stream",
     "text": [
      " 94% (5668 of 6000) |##################  | Elapsed Time: 0:32:00 ETA:   0:02:07"
     ]
    },
    {
     "name": "stdout",
     "output_type": "stream",
     "text": [
      "Wrong number of columns at line 33683\n"
     ]
    },
    {
     "name": "stderr",
     "output_type": "stream",
     "text": [
      " 96% (5813 of 6000) |################### | Elapsed Time: 0:32:47 ETA:   0:00:58"
     ]
    },
    {
     "name": "stdout",
     "output_type": "stream",
     "text": [
      "Wrong number of columns at line 26636\n"
     ]
    },
    {
     "name": "stderr",
     "output_type": "stream",
     "text": [
      "100% (6000 of 6000) |####################| Elapsed Time: 0:33:47 Time:  0:33:47\n"
     ]
    },
    {
     "name": "stdout",
     "output_type": "stream",
     "text": [
      "Generating testing data...\n",
      "Generating using QR-codes: ['SAM-GOV-001', 'SAM-GOV-008', 'SAM-GOV-013', 'SAM-GOV-034', 'SAM-GOV-045', 'SAM-GOV-052', 'SAM-GOV-090', 'SAM-SNG-013', 'SAM-SNG-015', 'SAM-SNG-066', 'SAM-SNG-072', 'SAM-SNG-075', 'SAM-SNG-081', 'SAM-SNG-083', 'SAM-SNG-091']\n"
     ]
    },
    {
     "name": "stderr",
     "output_type": "stream",
     "text": [
      " 20% (202 of 1000) |####                 | Elapsed Time: 0:01:04 ETA:   0:04:13"
     ]
    },
    {
     "name": "stdout",
     "output_type": "stream",
     "text": [
      "Wrong number of columns at line 25900\n"
     ]
    },
    {
     "name": "stderr",
     "output_type": "stream",
     "text": [
      " 25% (252 of 1000) |#####                | Elapsed Time: 0:01:20 ETA:   0:04:18"
     ]
    },
    {
     "name": "stdout",
     "output_type": "stream",
     "text": [
      "Wrong number of columns at line 25900\n"
     ]
    },
    {
     "name": "stderr",
     "output_type": "stream",
     "text": [
      " 99% (991 of 1000) |#################### | Elapsed Time: 0:05:16 ETA:   0:00:02"
     ]
    },
    {
     "name": "stdout",
     "output_type": "stream",
     "text": [
      "Wrong number of columns at line 25977\n"
     ]
    },
    {
     "name": "stderr",
     "output_type": "stream",
     "text": [
      "100% (1000 of 1000) |####################| Elapsed Time: 0:05:19 Time:  0:05:19\n"
     ]
    },
    {
     "name": "stdout",
     "output_type": "stream",
     "text": [
      "Done.\n",
      "Saved 20180731-1325-voxelgrid-dataset.p\n"
     ]
    }
   ],
   "source": [
    "dataset_parameters_to_use = []\n",
    "dataset_parameters_to_use.append(dataset_parameters_pointclouds)\n",
    "dataset_parameters_to_use.append(dataset_parameters_voxelgrids)\n",
    "\n",
    "for dataset_parameters in dataset_parameters_to_use:\n",
    "    \n",
    "    datagenerator = create_datagenerator(dataset_parameters)\n",
    "    #analyze(datagenerator)\n",
    "    \n",
    "    dataset_train, dataset_test = split_and_generate(datagenerator, dataset_parameters)\n",
    "    \n",
    "    save_dataset(dataset_train, dataset_test, dataset_parameters)\n",
    "    "
   ]
  }
 ],
 "metadata": {
  "kernelspec": {
   "display_name": "Python 3",
   "language": "python",
   "name": "python3"
  },
  "language_info": {
   "codemirror_mode": {
    "name": "ipython",
    "version": 3
   },
   "file_extension": ".py",
   "mimetype": "text/x-python",
   "name": "python",
   "nbconvert_exporter": "python",
   "pygments_lexer": "ipython3",
   "version": "3.6.5"
  }
 },
 "nbformat": 4,
 "nbformat_minor": 2
}
