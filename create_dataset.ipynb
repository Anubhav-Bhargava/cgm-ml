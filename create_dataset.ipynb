{
 "cells": [
  {
   "cell_type": "markdown",
   "metadata": {},
   "source": [
    "# Dataset-Generator."
   ]
  },
  {
   "cell_type": "code",
   "execution_count": 1,
   "metadata": {},
   "outputs": [
    {
     "name": "stderr",
     "output_type": "stream",
     "text": [
      "Using TensorFlow backend.\n"
     ]
    }
   ],
   "source": [
    "import os\n",
    "from datagenerator import DataGenerator\n",
    "import pickle\n",
    "import random\n",
    "import utils"
   ]
  },
  {
   "cell_type": "code",
   "execution_count": 2,
   "metadata": {},
   "outputs": [
    {
     "name": "stdout",
     "output_type": "stream",
     "text": [
      "Going to spawn 8 jobs...\n"
     ]
    }
   ],
   "source": [
    "import multiprocessing\n",
    "multiprocessing_jobs = multiprocessing.cpu_count()\n",
    "print(\"Going to spawn\", multiprocessing_jobs, \"jobs...\")"
   ]
  },
  {
   "cell_type": "markdown",
   "metadata": {},
   "source": [
    "# Setting the parameters."
   ]
  },
  {
   "cell_type": "code",
   "execution_count": 3,
   "metadata": {},
   "outputs": [],
   "source": [
    "if os.path.exists(\"datasetpath.txt\"):\n",
    "    dataset_path = open(\"datasetpath.txt\", \"r\").read().replace(\"\\n\", \"\")\n",
    "else:\n",
    "    dataset_path = \"../data\"\n",
    "\n",
    "# For creating voxelgrids.\n",
    "dataset_parameters_voxelgrids = {}\n",
    "dataset_parameters_voxelgrids[\"input_type\"] = \"voxelgrid\"\n",
    "dataset_parameters_voxelgrids[\"output_targets\"] = [\"height\", \"weight\"]    \n",
    "dataset_parameters_voxelgrids[\"random_seed\"] = 666\n",
    "dataset_parameters_voxelgrids[\"voxelgrid_target_shape\"] = (32, 32, 32)\n",
    "dataset_parameters_voxelgrids[\"voxel_size_meters\"] = 0.1\n",
    "dataset_parameters_voxelgrids[\"voxelgrid_random_rotation\"] = True\n",
    "dataset_parameters_voxelgrids[\"dataset_size_train\"] = 6000\n",
    "dataset_parameters_voxelgrids[\"dataset_size_test\"] = 1000\n",
    "\n",
    "# For creating pointclouds.\n",
    "dataset_parameters_pointclouds = {}\n",
    "dataset_parameters_pointclouds[\"input_type\"] = \"pointcloud\"\n",
    "dataset_parameters_pointclouds[\"output_targets\"] = [\"height\", \"weight\"]    \n",
    "dataset_parameters_pointclouds[\"random_seed\"] = 666\n",
    "dataset_parameters_pointclouds[\"pointcloud_target_size\"] = 30000\n",
    "dataset_parameters_pointclouds[\"pointcloud_random_rotation\"] = True\n",
    "dataset_parameters_pointclouds[\"dataset_size_train\"] = 3000\n",
    "dataset_parameters_pointclouds[\"dataset_size_test\"] = 500"
   ]
  },
  {
   "cell_type": "code",
   "execution_count": 4,
   "metadata": {},
   "outputs": [],
   "source": [
    "dataset_parameters_to_use = []\n",
    "dataset_parameters_to_use.append(dataset_parameters_pointclouds)\n",
    "dataset_parameters_to_use.append(dataset_parameters_voxelgrids)"
   ]
  },
  {
   "cell_type": "markdown",
   "metadata": {},
   "source": [
    "# Creating the data-generator.\n",
    "Makes use of the parameters."
   ]
  },
  {
   "cell_type": "code",
   "execution_count": 5,
   "metadata": {},
   "outputs": [],
   "source": [
    "def create_datagenerator(dataset_parameters):\n",
    "    print(\"Creating data-generator...\")\n",
    "    datagenerator = DataGenerator(\n",
    "        dataset_path=dataset_path, \n",
    "        input_type=dataset_parameters[\"input_type\"], \n",
    "        output_targets=dataset_parameters[\"output_targets\"],\n",
    "        voxelgrid_target_shape=dataset_parameters.get(\"voxelgrid_target_shape\", None),\n",
    "        voxel_size_meters=dataset_parameters.get(\"voxel_size_meters\", None),\n",
    "        voxelgrid_random_rotation=dataset_parameters.get(\"voxelgrid_random_rotation\", None),\n",
    "        pointcloud_target_size=dataset_parameters.get(\"pointcloud_target_size\", None),\n",
    "        pointcloud_random_rotation=dataset_parameters.get(\"pointcloud_random_rotation\", None)\n",
    "    )\n",
    "    datagenerator.print_statistics()\n",
    "    return datagenerator"
   ]
  },
  {
   "cell_type": "markdown",
   "metadata": {},
   "source": [
    "# Analysis."
   ]
  },
  {
   "cell_type": "code",
   "execution_count": 6,
   "metadata": {},
   "outputs": [
    {
     "name": "stdout",
     "output_type": "stream",
     "text": [
      "Creating data-generator...\n",
      "/Users/tristanbehrens/Datasets/welthungerhilfe/20180803\n",
      "QR-Code SAM-GOV-025 has 1 different manual measurements\n",
      "   Target [67, 6.7] with 0 JPGs and 51 PCDs.\n",
      "QR-Code SAM-SNG-073 has 3 different manual measurements\n",
      "   Target [82, 8.8] with 0 JPGs and 41 PCDs.\n",
      "   Target [82, 8.8] with 0 JPGs and 40 PCDs.\n",
      "   Target [82, 8.5] with 0 JPGs and 0 PCDs.\n",
      "QR-Code SAM-GOV-014 has 1 different manual measurements\n",
      "   Target [91.1, 11.1] with 0 JPGs and 77 PCDs.\n",
      "QR-Code SAM-GOV-087 has 1 different manual measurements\n",
      "   Target [85.7, 10.2] with 0 JPGs and 60 PCDs.\n",
      "QR-Code SAM-GOV-004 has 1 different manual measurements\n",
      "   Target [76.2, 8.3] with 0 JPGs and 71 PCDs.\n",
      "QR-Code SAM-GOV-026 has 1 different manual measurements\n",
      "   Target [80.1, 9.2] with 0 JPGs and 47 PCDs.\n",
      "QR-Code SAM-GOV-068 has 1 different manual measurements\n",
      "   Target [73.3, 7.4] with 0 JPGs and 39 PCDs.\n",
      "QR-Code SAM-SNG-013 has 1 different manual measurements\n",
      "   Target [93.7, 11.2] with 0 JPGs and 0 PCDs.\n",
      "QR-Code SAM-SNG-072 has 1 different manual measurements\n",
      "   Target [73, 6.7] with 0 JPGs and 0 PCDs.\n",
      "QR-Code SAM-SNG-088 has 1 different manual measurements\n",
      "   Target [85.5, 10.3] with 0 JPGs and 48 PCDs.\n",
      "QR-Code SAM-SNG-018 has 1 different manual measurements\n",
      "   Target [88.8, 9.8] with 0 JPGs and 0 PCDs.\n",
      "QR-Code SAM-GOV-045 has 1 different manual measurements\n",
      "   Target [72.1, 6.8] with 0 JPGs and 34 PCDs.\n",
      "QR-Code SAM-GOV-036 has 1 different manual measurements\n",
      "   Target [68.5, 6.3] with 0 JPGs and 141 PCDs.\n",
      "QR-Code SAM-SNG-059 has 2 different manual measurements\n",
      "   Target [78.8, 8.6] with 0 JPGs and 32 PCDs.\n",
      "   Target [78.8, 8.8] with 0 JPGs and 60 PCDs.\n",
      "QR-Code SAM-SNG-097 has 1 different manual measurements\n",
      "   Target [89.3, 10.9] with 0 JPGs and 52 PCDs.\n",
      "QR-Code SAM-GOV-049 has 2 different manual measurements\n",
      "   Target [96.4, 11.9] with 0 JPGs and 22 PCDs.\n",
      "   Target [95.4, 11.9] with 0 JPGs and 22 PCDs.\n",
      "QR-Code SAM-SNG-083 has 1 different manual measurements\n",
      "   Target [102.1, 14.3] with 0 JPGs and 34 PCDs.\n",
      "QR-Code SAM-GOV-066 has 1 different manual measurements\n",
      "   Target [62.2, 5.8] with 0 JPGs and 38 PCDs.\n",
      "QR-Code SAM-GOV-088 has 1 different manual measurements\n",
      "   Target [57.8, 5.7] with 0 JPGs and 39 PCDs.\n",
      "QR-Code SAM-SNG-075 has 1 different manual measurements\n",
      "   Target [92.7, 9.6] with 0 JPGs and 14 PCDs.\n",
      "QR-Code SAM-GOV-051 has 1 different manual measurements\n",
      "   Target [75.3, 7.3] with 0 JPGs and 40 PCDs.\n",
      "QR-Code SAM-GOV-033 has 1 different manual measurements\n",
      "   Target [68.7, 6.4] with 0 JPGs and 57 PCDs.\n",
      "QR-Code SAM-SNG-076 has 1 different manual measurements\n",
      "   Target [80, 8.9] with 0 JPGs and 37 PCDs.\n",
      "QR-Code SAM-GOV-067 has 1 different manual measurements\n",
      "   Target [61.6, 5.2] with 0 JPGs and 34 PCDs.\n",
      "QR-Code SAM-GOV-042 has 1 different manual measurements\n",
      "   Target [96, 12.7] with 0 JPGs and 40 PCDs.\n",
      "QR-Code SAM-SNG-012 has 1 different manual measurements\n",
      "   Target [67, 6.9] with 0 JPGs and 0 PCDs.\n",
      "QR-Code SAM-GOV-034 has 1 different manual measurements\n",
      "   Target [84.8, 11.1] with 0 JPGs and 64 PCDs.\n",
      "QR-Code SAM-GOV-035 has 1 different manual measurements\n",
      "   Target [70.1, 7.1] with 0 JPGs and 38 PCDs.\n",
      "QR-Code SAM-SNG-070 has 1 different manual measurements\n",
      "   Target [66.4, 5.6] with 0 JPGs and 53 PCDs.\n",
      "QR-Code SAM-GOV-023 has 1 different manual measurements\n",
      "   Target [69.5, 6.5] with 0 JPGs and 50 PCDs.\n",
      "QR-Code SAM-GOV-054 has 2 different manual measurements\n",
      "   Target [93.5, 11.2] with 0 JPGs and 94 PCDs.\n",
      "   Target [93.4, 10.8] with 0 JPGs and 24 PCDs.\n",
      "QR-Code SAM-GOV-052 has 1 different manual measurements\n",
      "   Target [80.3, 9.3] with 0 JPGs and 33 PCDs.\n",
      "QR-Code SAM-GOV-037 has 1 different manual measurements\n",
      "   Target [65.3, 6.1] with 0 JPGs and 51 PCDs.\n",
      "QR-Code SAM-GOV-089 has 1 different manual measurements\n",
      "   Target [96.6, 12.2] with 0 JPGs and 31 PCDs.\n",
      "QR-Code SAM-SNG-095 has 2 different manual measurements\n",
      "   Target [87.7, 10.6] with 0 JPGs and 72 PCDs.\n",
      "   Target [87.7, 10.9] with 0 JPGs and 49 PCDs.\n",
      "QR-Code SAM-SNG-081 has 1 different manual measurements\n",
      "   Target [78.6, 8.1] with 0 JPGs and 75 PCDs.\n",
      "QR-Code SAM-SNG-099 has 1 different manual measurements\n",
      "   Target [75.2, 8.2] with 0 JPGs and 17 PCDs.\n",
      "QR-Code SAM-SNG-061 has 1 different manual measurements\n",
      "   Target [79, 8.5] with 0 JPGs and 74 PCDs.\n",
      "QR-Code SAM-GOV-038 has 1 different manual measurements\n",
      "   Target [67.2, 7.6] with 0 JPGs and 40 PCDs.\n",
      "QR-Code SAM-GOV-041 has 1 different manual measurements\n",
      "   Target [68.2, 7.1] with 0 JPGs and 48 PCDs.\n",
      "QR-Code SAM-GOV-073 has 1 different manual measurements\n",
      "   Target [63.5, 6] with 0 JPGs and 0 PCDs.\n",
      "QR-Code SAM-SNG-098 has 2 different manual measurements\n",
      "   Target [81.7, 8.8] with 0 JPGs and 149 PCDs.\n",
      "   Target [81.7, 8.7] with 0 JPGs and 119 PCDs.\n",
      "QR-Code SAM-GOV-090 has 1 different manual measurements\n",
      "   Target [68.1, 6.4] with 0 JPGs and 47 PCDs.\n",
      "QR-Code SAM-SNG-086 has 1 different manual measurements\n",
      "   Target [86.5, 9.7] with 0 JPGs and 41 PCDs.\n",
      "QR-Code SAM-SNG-096 has 2 different manual measurements\n",
      "   Target [100.3, 12.4] with 0 JPGs and 21 PCDs.\n",
      "   Target [100.3, 12.5] with 0 JPGs and 0 PCDs.\n",
      "QR-Code SAM-SNG-085 has 1 different manual measurements\n",
      "   Target [92.2, 10.8] with 0 JPGs and 53 PCDs.\n",
      "QR-Code SAM-SNG-067 has 1 different manual measurements\n",
      "   Target [78, 8.3] with 0 JPGs and 40 PCDs.\n",
      "QR-Code SAM-SNG-011 has 1 different manual measurements\n",
      "   Target [71, 6.2] with 0 JPGs and 0 PCDs.\n",
      "QR-Code SAM-GOV-043 has 1 different manual measurements\n",
      "   Target [69.3, 7.6] with 0 JPGs and 56 PCDs.\n",
      "QR-Code SAM-SNG-014 has 2 different manual measurements\n",
      "   Target [82.3, 8.9] with 0 JPGs and 0 PCDs.\n",
      "   Target [82.3, 8.7] with 0 JPGs and 73 PCDs.\n",
      "QR-Code SAM-GOV-069 has 1 different manual measurements\n",
      "   Target [73.5, 8.1] with 0 JPGs and 0 PCDs.\n",
      "QR-Code SAM-GOV-013 has 1 different manual measurements\n",
      "   Target [63, 6.1] with 0 JPGs and 42 PCDs.\n",
      "QR-Code SAM-SNG-084 has 2 different manual measurements\n",
      "   Target [86, 10] with 0 JPGs and 42 PCDs.\n",
      "   Target [86, 10.1] with 0 JPGs and 50 PCDs.\n",
      "QR-Code SAM-SNG-087 has 2 different manual measurements\n",
      "   Target [90.4, 9.8] with 0 JPGs and 71 PCDs.\n",
      "   Target [88.5, 10] with 0 JPGs and 61 PCDs.\n",
      "QR-Code SAM-GOV-002 has 1 different manual measurements\n",
      "   Target [67.2, 6.2] with 0 JPGs and 46 PCDs.\n",
      "QR-Code SAM-GOV-050 has 1 different manual measurements\n",
      "   Target [97.4, 11.3] with 0 JPGs and 63 PCDs.\n",
      "QR-Code SAM-GOV-046 has 1 different manual measurements\n",
      "   Target [76, 7.2] with 0 JPGs and 0 PCDs.\n",
      "QR-Code SAM-GOV-011 has 1 different manual measurements\n",
      "   Target [85.5, 10.8] with 0 JPGs and 51 PCDs.\n",
      "QR-Code SAM-GOV-064 has 1 different manual measurements\n",
      "   Target [98.2, 11.6] with 0 JPGs and 39 PCDs.\n",
      "QR-Code SAM-SNG-015 has 1 different manual measurements\n",
      "   Target [89.5, 10.5] with 0 JPGs and 0 PCDs.\n",
      "QR-Code SAM-GOV-005 has 1 different manual measurements\n",
      "   Target [76.5, 8.4] with 0 JPGs and 77 PCDs.\n",
      "QR-Code SAM-GOV-063 has 1 different manual measurements\n",
      "   Target [72.4, 9.1] with 0 JPGs and 35 PCDs.\n",
      "QR-Code SAM-GOV-044 has 1 different manual measurements\n",
      "   Target [64.9, 7.9] with 0 JPGs and 45 PCDs.\n",
      "QR-Code SAM-GOV-012 has 1 different manual measurements\n",
      "   Target [77.1, 8.1] with 0 JPGs and 46 PCDs.\n",
      "QR-Code SAM-SNG-091 has 1 different manual measurements\n",
      "   Target [68.5, 6] with 0 JPGs and 0 PCDs.\n",
      "QR-Code SAM-GOV-008 has 1 different manual measurements\n",
      "   Target [73.7, 7.1] with 0 JPGs and 55 PCDs.\n",
      "QR-Code SAM-SNG-074 has 1 different manual measurements\n",
      "   Target [77.5, 8.3] with 0 JPGs and 41 PCDs.\n",
      "QR-Code SAM-SNG-036 has 1 different manual measurements\n",
      "   Target [78, 7.9] with 0 JPGs and 24 PCDs.\n",
      "QR-Code SAM-SNG-069 has 1 different manual measurements\n",
      "   Target [91.7, 10.9] with 0 JPGs and 0 PCDs.\n",
      "QR-Code SAM-GOV-099 has 1 different manual measurements\n",
      "   Target [89.3, 10.8] with 0 JPGs and 35 PCDs.\n",
      "QR-Code SAM-SNG-021 has 1 different manual measurements\n",
      "   Target [101.2, 13.6] with 0 JPGs and 0 PCDs.\n",
      "QR-Code SAM-SNG-016 has 1 different manual measurements\n",
      "   Target [95, 11.9] with 0 JPGs and 0 PCDs.\n",
      "QR-Code SAM-SNG-066 has 2 different manual measurements\n",
      "   Target [89.4, 9.9] with 0 JPGs and 36 PCDs.\n",
      "   Target [89.4, 10.2] with 0 JPGs and 0 PCDs.\n"
     ]
    }
   ],
   "source": [
    "datagenerator = create_datagenerator(dataset_parameters_to_use[0])"
   ]
  },
  {
   "cell_type": "code",
   "execution_count": 7,
   "metadata": {},
   "outputs": [
    {
     "name": "stdout",
     "output_type": "stream",
     "text": [
      "Number of JPGs: 0\n",
      "Number of PCDs: 3633\n",
      "Number of JSONs (personal): 83\n",
      "Number of JSONs (measures): 177\n"
     ]
    }
   ],
   "source": [
    "datagenerator.analyze_files()"
   ]
  },
  {
   "cell_type": "code",
   "execution_count": 8,
   "metadata": {},
   "outputs": [
    {
     "name": "stdout",
     "output_type": "stream",
     "text": [
      "Analyzing pointclouds...\n"
     ]
    },
    {
     "name": "stderr",
     "output_type": "stream",
     "text": [
      "100% (3633 of 3633) |####################| Elapsed Time: 0:35:18 Time:  0:35:18\n"
     ]
    },
    {
     "name": "stdout",
     "output_type": "stream",
     "text": [
      "Rendering histogram...\n"
     ]
    },
    {
     "data": {
      "image/png": "[encoded data removed]",
      "text/plain": [
       "<Figure size 432x288 with 1 Axes>"
      ]
     },
     "metadata": {},
     "output_type": "display_data"
    }
   ],
   "source": [
    "datagenerator.analyze_pointclouds()"
   ]
  },
  {
   "cell_type": "code",
   "execution_count": 9,
   "metadata": {},
   "outputs": [
    {
     "name": "stdout",
     "output_type": "stream",
     "text": [
      "Analyzing voxelgrids...\n"
     ]
    },
    {
     "name": "stderr",
     "output_type": "stream",
     "text": [
      "  3% (124 of 3633) |                     | Elapsed Time: 0:00:28 ETA:   0:11:21"
     ]
    },
    {
     "name": "stdout",
     "output_type": "stream",
     "text": [
      "/Users/tristanbehrens/Datasets/welthungerhilfe/20180803/storage/person/SAM-SNG-059/measurements/1531912975783/pc/pc_SAM-SNG-059_1531912975783_104_009.pcd\n",
      "Wrong number of columns at line 25021\n"
     ]
    },
    {
     "name": "stderr",
     "output_type": "stream",
     "text": [
      "  9% (331 of 3633) |#                    | Elapsed Time: 0:01:22 ETA:   0:14:12"
     ]
    },
    {
     "name": "stdout",
     "output_type": "stream",
     "text": [
      "/Users/tristanbehrens/Datasets/welthungerhilfe/20180803/storage/person/SAM-SNG-068/measurements/1531721652325/pc/pc_SAM-SNG-068_1531721652325_104_003.pcd\n",
      "Wrong number of columns at line 26440\n"
     ]
    },
    {
     "name": "stderr",
     "output_type": "stream",
     "text": [
      "  9% (338 of 3633) |#                    | Elapsed Time: 0:01:24 ETA:   0:13:48"
     ]
    },
    {
     "name": "stdout",
     "output_type": "stream",
     "text": [
      "/Users/tristanbehrens/Datasets/welthungerhilfe/20180803/storage/person/SAM-SNG-068/measurements/1531721652325/pc/pc_SAM-SNG-068_1531721652325_107_014.pcd\n",
      "Wrong number of columns at line 26454\n"
     ]
    },
    {
     "name": "stderr",
     "output_type": "stream",
     "text": [
      "  9% (345 of 3633) |#                    | Elapsed Time: 0:01:25 ETA:   0:13:49"
     ]
    },
    {
     "name": "stdout",
     "output_type": "stream",
     "text": [
      "/Users/tristanbehrens/Datasets/welthungerhilfe/20180803/storage/person/SAM-SNG-068/measurements/1531721652325/pc/pc_SAM-SNG-068_1531721652325_107_007.pcd\n",
      "Wrong number of columns at line 33272\n"
     ]
    },
    {
     "name": "stderr",
     "output_type": "stream",
     "text": [
      " 10% (370 of 3633) |##                   | Elapsed Time: 0:01:32 ETA:   0:13:12"
     ]
    },
    {
     "name": "stdout",
     "output_type": "stream",
     "text": [
      "/Users/tristanbehrens/Datasets/welthungerhilfe/20180803/storage/person/SAM-SNG-067/measurements/1530771667078/pc/pc_SAM-SNG-067_1530771667078_110_019.pcd\n",
      "Wrong number of columns at line 26636\n"
     ]
    },
    {
     "name": "stderr",
     "output_type": "stream",
     "text": [
      " 10% (390 of 3633) |##                   | Elapsed Time: 0:01:37 ETA:   0:14:17"
     ]
    },
    {
     "name": "stdout",
     "output_type": "stream",
     "text": [
      "/Users/tristanbehrens/Datasets/welthungerhilfe/20180803/storage/person/SAM-SNG-067/measurements/1530771548441/pc/pc_SAM-SNG-067_1530771548441_107_009.pcd\n",
      "Wrong number of columns at line 33561\n"
     ]
    },
    {
     "name": "stderr",
     "output_type": "stream",
     "text": [
      " 10% (392 of 3633) |##                   | Elapsed Time: 0:01:38 ETA:   0:13:39"
     ]
    },
    {
     "name": "stdout",
     "output_type": "stream",
     "text": [
      "/Users/tristanbehrens/Datasets/welthungerhilfe/20180803/storage/person/SAM-SNG-067/measurements/1530771548441/pc/pc_SAM-SNG-067_1530771548441_107_012.pcd\n",
      "Wrong number of columns at line 26553\n"
     ]
    },
    {
     "name": "stderr",
     "output_type": "stream",
     "text": [
      " 11% (401 of 3633) |##                   | Elapsed Time: 0:01:40 ETA:   0:14:45"
     ]
    },
    {
     "name": "stdout",
     "output_type": "stream",
     "text": [
      "/Users/tristanbehrens/Datasets/welthungerhilfe/20180803/storage/person/SAM-SNG-067/measurements/1530771548441/pc/pc_SAM-SNG-067_1530771548441_104_007.pcd\n",
      "Wrong number of columns at line 33683\n"
     ]
    },
    {
     "name": "stderr",
     "output_type": "stream",
     "text": [
      " 11% (403 of 3633) |##                   | Elapsed Time: 0:01:41 ETA:   0:14:00"
     ]
    },
    {
     "name": "stdout",
     "output_type": "stream",
     "text": [
      "/Users/tristanbehrens/Datasets/welthungerhilfe/20180803/storage/person/SAM-SNG-067/measurements/1530771548441/pc/pc_SAM-SNG-067_1530771548441_104_002.pcd\n",
      "Wrong number of columns at line 26650\n"
     ]
    },
    {
     "name": "stderr",
     "output_type": "stream",
     "text": [
      " 41% (1510 of 3633) |########            | Elapsed Time: 0:06:30 ETA:   0:08:47"
     ]
    },
    {
     "name": "stdout",
     "output_type": "stream",
     "text": [
      "/Users/tristanbehrens/Datasets/welthungerhilfe/20180803/storage/person/SAM-SNG-087/measurements/1531981556882/pc/pc_SAM-SNG-087_1531981556882_107_016.pcd\n",
      "Wrong number of columns at line 32241\n"
     ]
    },
    {
     "name": "stderr",
     "output_type": "stream",
     "text": [
      " 42% (1542 of 3633) |########            | Elapsed Time: 0:06:38 ETA:   0:08:02"
     ]
    },
    {
     "name": "stdout",
     "output_type": "stream",
     "text": [
      "/Users/tristanbehrens/Datasets/welthungerhilfe/20180803/storage/person/SAM-SNG-087/measurements/1531981556882/pc/pc_SAM-SNG-087_1531981556882_107_025.pcd\n",
      "Wrong number of columns at line 26051\n"
     ]
    },
    {
     "name": "stderr",
     "output_type": "stream",
     "text": [
      " 42% (1560 of 3633) |########            | Elapsed Time: 0:06:43 ETA:   0:08:28"
     ]
    },
    {
     "name": "stdout",
     "output_type": "stream",
     "text": [
      "/Users/tristanbehrens/Datasets/welthungerhilfe/20180803/storage/person/SAM-SNG-087/measurements/1531375820597/pc/pc_SAM-SNG-087_1531375820597_104_000.pcd\n",
      "Wrong number of columns at line 26361\n"
     ]
    },
    {
     "name": "stderr",
     "output_type": "stream",
     "text": [
      " 43% (1590 of 3633) |########            | Elapsed Time: 0:06:50 ETA:   0:08:22"
     ]
    },
    {
     "name": "stdout",
     "output_type": "stream",
     "text": [
      "/Users/tristanbehrens/Datasets/welthungerhilfe/20180803/storage/person/SAM-SNG-073/measurements/1531992617745/pc/pc_SAM-SNG-073_1531992617745_110_039.pcd\n",
      "Wrong number of columns at line 25969\n"
     ]
    },
    {
     "name": "stderr",
     "output_type": "stream",
     "text": [
      " 45% (1653 of 3633) |#########           | Elapsed Time: 0:07:06 ETA:   0:08:33"
     ]
    },
    {
     "name": "stdout",
     "output_type": "stream",
     "text": [
      "/Users/tristanbehrens/Datasets/welthungerhilfe/20180803/storage/person/SAM-SNG-073/measurements/1531372466716/pc/pc_SAM-SNG-073_1531372466716_110_032.pcd\n",
      "Wrong number of columns at line 26670\n"
     ]
    },
    {
     "name": "stderr",
     "output_type": "stream",
     "text": [
      " 45% (1661 of 3633) |#########           | Elapsed Time: 0:07:08 ETA:   0:08:28"
     ]
    },
    {
     "name": "stdout",
     "output_type": "stream",
     "text": [
      "/Users/tristanbehrens/Datasets/welthungerhilfe/20180803/storage/person/SAM-SNG-073/measurements/1531372466716/pc/pc_SAM-SNG-073_1531372466716_107_017.pcd\n",
      "Wrong number of columns at line 26667\n"
     ]
    },
    {
     "name": "stderr",
     "output_type": "stream",
     "text": [
      " 46% (1673 of 3633) |#########           | Elapsed Time: 0:07:11 ETA:   0:08:17"
     ]
    },
    {
     "name": "stdout",
     "output_type": "stream",
     "text": [
      "/Users/tristanbehrens/Datasets/welthungerhilfe/20180803/storage/person/SAM-SNG-072/measurements/1531805886160/pc/pc_SAM-SNG-072_1531805886160_107_009.pcd\n",
      "Wrong number of columns at line 27708\n",
      "/Users/tristanbehrens/Datasets/welthungerhilfe/20180803/storage/person/SAM-SNG-072/measurements/1531805886160/pc/pc_SAM-SNG-072_1531805886160_107_010.pcd\n",
      "Wrong number of columns at line 27889\n"
     ]
    },
    {
     "name": "stderr",
     "output_type": "stream",
     "text": [
      " 46% (1679 of 3633) |#########           | Elapsed Time: 0:07:13 ETA:   0:07:53"
     ]
    },
    {
     "name": "stdout",
     "output_type": "stream",
     "text": [
      "/Users/tristanbehrens/Datasets/welthungerhilfe/20180803/storage/person/SAM-SNG-072/measurements/1531805886160/pc/pc_SAM-SNG-072_1531805886160_107_012.pcd\n",
      "Wrong number of columns at line 27808\n"
     ]
    },
    {
     "name": "stderr",
     "output_type": "stream",
     "text": [
      " 50% (1828 of 3633) |##########          | Elapsed Time: 0:07:51 ETA:   0:07:14"
     ]
    },
    {
     "name": "stdout",
     "output_type": "stream",
     "text": [
      "/Users/tristanbehrens/Datasets/welthungerhilfe/20180803/storage/person/SAM-SNG-088/measurements/1531393153524/pc/pc_SAM-SNG-088_1531393153524_110_039.pcd\n",
      "Wrong number of columns at line 25919\n"
     ]
    },
    {
     "name": "stderr",
     "output_type": "stream",
     "text": [
      " 51% (1873 of 3633) |##########          | Elapsed Time: 0:08:03 ETA:   0:07:29"
     ]
    },
    {
     "name": "stdout",
     "output_type": "stream",
     "text": [
      "/Users/tristanbehrens/Datasets/welthungerhilfe/20180803/storage/person/SAM-SNG-088/measurements/1531393153524/pc/pc_SAM-SNG-088_1531393153524_104_002.pcd\n",
      "Wrong number of columns at line 33593\n"
     ]
    },
    {
     "name": "stderr",
     "output_type": "stream",
     "text": [
      " 52% (1917 of 3633) |##########          | Elapsed Time: 0:08:15 ETA:   0:07:06"
     ]
    },
    {
     "name": "stdout",
     "output_type": "stream",
     "text": [
      "/Users/tristanbehrens/Datasets/welthungerhilfe/20180803/storage/person/SAM-SNG-098/measurements/1531722388458/pc/pc_SAM-SNG-098_1531722388458_104_002.pcd\n",
      "Wrong number of columns at line 26065\n"
     ]
    },
    {
     "name": "stderr",
     "output_type": "stream",
     "text": [
      " 53% (1936 of 3633) |##########          | Elapsed Time: 0:08:20 ETA:   0:07:30"
     ]
    },
    {
     "name": "stdout",
     "output_type": "stream",
     "text": [
      "/Users/tristanbehrens/Datasets/welthungerhilfe/20180803/storage/person/SAM-SNG-098/measurements/1531722388458/pc/pc_SAM-SNG-098_1531722388458_107_029.pcd\n",
      "Wrong number of columns at line 26526\n"
     ]
    },
    {
     "name": "stderr",
     "output_type": "stream",
     "text": [
      " 53% (1946 of 3633) |##########          | Elapsed Time: 0:08:22 ETA:   0:07:42"
     ]
    },
    {
     "name": "stdout",
     "output_type": "stream",
     "text": [
      "/Users/tristanbehrens/Datasets/welthungerhilfe/20180803/storage/person/SAM-SNG-098/measurements/1531722388458/pc/pc_SAM-SNG-098_1531722388458_107_026.pcd\n",
      "Wrong number of columns at line 33481\n"
     ]
    },
    {
     "name": "stderr",
     "output_type": "stream",
     "text": [
      " 53% (1959 of 3633) |##########          | Elapsed Time: 0:08:26 ETA:   0:07:43"
     ]
    },
    {
     "name": "stdout",
     "output_type": "stream",
     "text": [
      "/Users/tristanbehrens/Datasets/welthungerhilfe/20180803/storage/person/SAM-SNG-098/measurements/1531722388458/pc/pc_SAM-SNG-098_1531722388458_107_020.pcd\n",
      "Wrong number of columns at line 33604\n"
     ]
    },
    {
     "name": "stderr",
     "output_type": "stream",
     "text": [
      " 55% (2013 of 3633) |###########         | Elapsed Time: 0:08:39 ETA:   0:06:00"
     ]
    },
    {
     "name": "stdout",
     "output_type": "stream",
     "text": [
      "/Users/tristanbehrens/Datasets/welthungerhilfe/20180803/storage/person/SAM-SNG-098/measurements/1531722045496/pc/pc_SAM-SNG-098_1531722045496_107_017.pcd\n",
      "Wrong number of columns at line 25819\n"
     ]
    },
    {
     "name": "stderr",
     "output_type": "stream",
     "text": [
      " 60% (2213 of 3633) |############        | Elapsed Time: 0:09:28 ETA:   0:06:01"
     ]
    },
    {
     "name": "stdout",
     "output_type": "stream",
     "text": [
      "/Users/tristanbehrens/Datasets/welthungerhilfe/20180803/storage/person/SAM-SNG-097/measurements/1531200660089/pc/pc_SAM-SNG-097_1531200660089_104_004.pcd\n",
      "Wrong number of columns at line 31940\n"
     ]
    },
    {
     "name": "stderr",
     "output_type": "stream",
     "text": [
      " 61% (2218 of 3633) |############        | Elapsed Time: 0:09:29 ETA:   0:05:48"
     ]
    },
    {
     "name": "stdout",
     "output_type": "stream",
     "text": [
      "/Users/tristanbehrens/Datasets/welthungerhilfe/20180803/storage/person/SAM-SNG-097/measurements/1531200660089/pc/pc_SAM-SNG-097_1531200660089_104_005.pcd\n",
      "Wrong number of columns at line 32084\n"
     ]
    },
    {
     "name": "stderr",
     "output_type": "stream",
     "text": [
      " 61% (2222 of 3633) |############        | Elapsed Time: 0:09:30 ETA:   0:05:58"
     ]
    },
    {
     "name": "stdout",
     "output_type": "stream",
     "text": [
      "/Users/tristanbehrens/Datasets/welthungerhilfe/20180803/storage/person/SAM-SNG-097/measurements/1531200660089/pc/pc_SAM-SNG-097_1531200660089_104_006.pcd\n",
      "Wrong number of columns at line 32517\n"
     ]
    },
    {
     "name": "stderr",
     "output_type": "stream",
     "text": [
      " 61% (2226 of 3633) |############        | Elapsed Time: 0:09:31 ETA:   0:05:31"
     ]
    },
    {
     "name": "stdout",
     "output_type": "stream",
     "text": [
      "/Users/tristanbehrens/Datasets/welthungerhilfe/20180803/storage/person/SAM-SNG-097/measurements/1531200660089/pc/pc_SAM-SNG-097_1531200660089_104_002.pcd\n",
      "Wrong number of columns at line 31545\n",
      "/Users/tristanbehrens/Datasets/welthungerhilfe/20180803/storage/person/SAM-SNG-097/measurements/1531200660089/pc/pc_SAM-SNG-097_1531200660089_104_003.pcd\n",
      "Wrong number of columns at line 31603\n"
     ]
    },
    {
     "name": "stderr",
     "output_type": "stream",
     "text": [
      " 61% (2228 of 3633) |############        | Elapsed Time: 0:09:32 ETA:   0:05:14"
     ]
    },
    {
     "name": "stdout",
     "output_type": "stream",
     "text": [
      "/Users/tristanbehrens/Datasets/welthungerhilfe/20180803/storage/person/SAM-SNG-097/measurements/1531200660089/pc/pc_SAM-SNG-097_1531200660089_104_017.pcd\n",
      "Wrong number of columns at line 25896\n"
     ]
    },
    {
     "name": "stderr",
     "output_type": "stream",
     "text": [
      " 61% (2233 of 3633) |############        | Elapsed Time: 0:09:33 ETA:   0:05:22"
     ]
    },
    {
     "name": "stdout",
     "output_type": "stream",
     "text": [
      "/Users/tristanbehrens/Datasets/welthungerhilfe/20180803/storage/person/SAM-SNG-097/measurements/1531200660089/pc/pc_SAM-SNG-097_1531200660089_104_000.pcd\n",
      "Wrong number of columns at line 32573\n"
     ]
    },
    {
     "name": "stderr",
     "output_type": "stream",
     "text": [
      " 92% (3345 of 3633) |##################  | Elapsed Time: 0:14:19 ETA:   0:01:01"
     ]
    },
    {
     "name": "stdout",
     "output_type": "stream",
     "text": [
      "/Users/tristanbehrens/Datasets/welthungerhilfe/20180803/storage/person/SAM-SNG-084/measurements/1531379403081/pc/pc_SAM-SNG-084_1531379403081_107_030.pcd\n",
      "Wrong number of columns at line 26239\n"
     ]
    },
    {
     "name": "stderr",
     "output_type": "stream",
     "text": [
      " 92% (3348 of 3633) |##################  | Elapsed Time: 0:14:19 ETA:   0:01:00"
     ]
    },
    {
     "name": "stdout",
     "output_type": "stream",
     "text": [
      "/Users/tristanbehrens/Datasets/welthungerhilfe/20180803/storage/person/SAM-SNG-084/measurements/1531379403081/pc/pc_SAM-SNG-084_1531379403081_107_019.pcd\n",
      "Wrong number of columns at line 26222\n"
     ]
    },
    {
     "name": "stderr",
     "output_type": "stream",
     "text": [
      " 92% (3372 of 3633) |##################  | Elapsed Time: 0:14:25 ETA:   0:00:59"
     ]
    },
    {
     "name": "stdout",
     "output_type": "stream",
     "text": [
      "/Users/tristanbehrens/Datasets/welthungerhilfe/20180803/storage/person/SAM-SNG-084/measurements/1531379403081/pc/pc_SAM-SNG-084_1531379403081_104_007.pcd\n",
      "Wrong number of columns at line 25616\n"
     ]
    },
    {
     "name": "stderr",
     "output_type": "stream",
     "text": [
      " 92% (3377 of 3633) |##################  | Elapsed Time: 0:14:26 ETA:   0:00:57"
     ]
    },
    {
     "name": "stdout",
     "output_type": "stream",
     "text": [
      "/Users/tristanbehrens/Datasets/welthungerhilfe/20180803/storage/person/SAM-SNG-084/measurements/1531379403081/pc/pc_SAM-SNG-084_1531379403081_110_035.pcd\n",
      "Wrong number of columns at line 26323\n"
     ]
    },
    {
     "name": "stderr",
     "output_type": "stream",
     "text": [
      " 94% (3437 of 3633) |##################  | Elapsed Time: 0:14:41 ETA:   0:00:47"
     ]
    },
    {
     "name": "stdout",
     "output_type": "stream",
     "text": [
      "/Users/tristanbehrens/Datasets/welthungerhilfe/20180803/storage/person/SAM-SNG-083/measurements/1531379712442/pc/pc_SAM-SNG-083_1531379712442_107_012.pcd\n",
      "Wrong number of columns at line 25900\n"
     ]
    },
    {
     "name": "stderr",
     "output_type": "stream",
     "text": [
      " 94% (3451 of 3633) |##################  | Elapsed Time: 0:14:44 ETA:   0:00:38"
     ]
    },
    {
     "name": "stdout",
     "output_type": "stream",
     "text": [
      "/Users/tristanbehrens/Datasets/welthungerhilfe/20180803/storage/person/SAM-SNG-083/measurements/1531379712442/pc/pc_SAM-SNG-083_1531379712442_104_006.pcd\n",
      "Wrong number of columns at line 25977\n"
     ]
    },
    {
     "name": "stderr",
     "output_type": "stream",
     "text": [
      " 96% (3495 of 3633) |################### | Elapsed Time: 0:14:55 ETA:   0:00:33"
     ]
    },
    {
     "name": "stdout",
     "output_type": "stream",
     "text": [
      "/Users/tristanbehrens/Datasets/welthungerhilfe/20180803/storage/person/SAM-SNG-014/measurements/1531291318886/pc/pc_SAM-SNG-014_1531291318886_110_039.pcd\n",
      "Wrong number of columns at line 26558\n"
     ]
    },
    {
     "name": "stderr",
     "output_type": "stream",
     "text": [
      " 98% (3576 of 3633) |################### | Elapsed Time: 0:15:15 ETA:   0:00:13"
     ]
    },
    {
     "name": "stdout",
     "output_type": "stream",
     "text": [
      "/Users/tristanbehrens/Datasets/welthungerhilfe/20180803/storage/person/SAM-SNG-076/measurements/1532324695162/pc/pc_SAM-SNG-076_1532324695162_107_016.pcd\n",
      "Wrong number of columns at line 26736\n"
     ]
    },
    {
     "name": "stderr",
     "output_type": "stream",
     "text": [
      " 98% (3578 of 3633) |################### | Elapsed Time: 0:15:15 ETA:   0:00:13"
     ]
    },
    {
     "name": "stdout",
     "output_type": "stream",
     "text": [
      "/Users/tristanbehrens/Datasets/welthungerhilfe/20180803/storage/person/SAM-SNG-076/measurements/1532324695162/pc/pc_SAM-SNG-076_1532324695162_107_015.pcd\n",
      "Wrong number of columns at line 26769\n"
     ]
    },
    {
     "name": "stderr",
     "output_type": "stream",
     "text": [
      "100% (3633 of 3633) |####################| Elapsed Time: 0:15:28 Time:  0:15:28\n"
     ]
    },
    {
     "name": "stdout",
     "output_type": "stream",
     "text": [
      "Getting the PCDs with the lowest voxel densities...\n",
      "0 : /Users/tristanbehrens/Datasets/welthungerhilfe/20180803/storage/person/SAM-SNG-073/measurements/1531992617745/pc/pc_SAM-SNG-073_1531992617745_110_039.pcd\n",
      "0 : /Users/tristanbehrens/Datasets/welthungerhilfe/20180803/storage/person/SAM-SNG-098/measurements/1531722388458/pc/pc_SAM-SNG-098_1531722388458_107_026.pcd\n",
      "0 : /Users/tristanbehrens/Datasets/welthungerhilfe/20180803/storage/person/SAM-SNG-067/measurements/1530771667078/pc/pc_SAM-SNG-067_1530771667078_110_019.pcd\n",
      "0 : /Users/tristanbehrens/Datasets/welthungerhilfe/20180803/storage/person/SAM-SNG-098/measurements/1531722388458/pc/pc_SAM-SNG-098_1531722388458_107_029.pcd\n",
      "0 : /Users/tristanbehrens/Datasets/welthungerhilfe/20180803/storage/person/SAM-SNG-098/measurements/1531722388458/pc/pc_SAM-SNG-098_1531722388458_104_002.pcd\n",
      "0 : /Users/tristanbehrens/Datasets/welthungerhilfe/20180803/storage/person/SAM-SNG-067/measurements/1530771548441/pc/pc_SAM-SNG-067_1530771548441_107_009.pcd\n",
      "0 : /Users/tristanbehrens/Datasets/welthungerhilfe/20180803/storage/person/SAM-SNG-067/measurements/1530771548441/pc/pc_SAM-SNG-067_1530771548441_107_012.pcd\n",
      "0 : /Users/tristanbehrens/Datasets/welthungerhilfe/20180803/storage/person/SAM-SNG-067/measurements/1530771548441/pc/pc_SAM-SNG-067_1530771548441_104_007.pcd\n",
      "0 : /Users/tristanbehrens/Datasets/welthungerhilfe/20180803/storage/person/SAM-SNG-098/measurements/1531722388458/pc/pc_SAM-SNG-098_1531722388458_107_020.pcd\n",
      "0 : /Users/tristanbehrens/Datasets/welthungerhilfe/20180803/storage/person/SAM-SNG-067/measurements/1530771548441/pc/pc_SAM-SNG-067_1530771548441_104_002.pcd\n",
      "0 : /Users/tristanbehrens/Datasets/welthungerhilfe/20180803/storage/person/SAM-SNG-097/measurements/1531200660089/pc/pc_SAM-SNG-097_1531200660089_104_005.pcd\n",
      "0 : /Users/tristanbehrens/Datasets/welthungerhilfe/20180803/storage/person/SAM-SNG-097/measurements/1531200660089/pc/pc_SAM-SNG-097_1531200660089_104_006.pcd\n",
      "0 : /Users/tristanbehrens/Datasets/welthungerhilfe/20180803/storage/person/SAM-SNG-097/measurements/1531200660089/pc/pc_SAM-SNG-097_1531200660089_104_002.pcd\n",
      "0 : /Users/tristanbehrens/Datasets/welthungerhilfe/20180803/storage/person/SAM-SNG-076/measurements/1532324695162/pc/pc_SAM-SNG-076_1532324695162_107_016.pcd\n",
      "0 : /Users/tristanbehrens/Datasets/welthungerhilfe/20180803/storage/person/SAM-SNG-097/measurements/1531200660089/pc/pc_SAM-SNG-097_1531200660089_104_003.pcd\n",
      "0 : /Users/tristanbehrens/Datasets/welthungerhilfe/20180803/storage/person/SAM-SNG-076/measurements/1532324695162/pc/pc_SAM-SNG-076_1532324695162_107_015.pcd\n",
      "0 : /Users/tristanbehrens/Datasets/welthungerhilfe/20180803/storage/person/SAM-SNG-097/measurements/1531200660089/pc/pc_SAM-SNG-097_1531200660089_104_017.pcd\n",
      "0 : /Users/tristanbehrens/Datasets/welthungerhilfe/20180803/storage/person/SAM-SNG-097/measurements/1531200660089/pc/pc_SAM-SNG-097_1531200660089_104_004.pcd\n",
      "0 : /Users/tristanbehrens/Datasets/welthungerhilfe/20180803/storage/person/SAM-SNG-088/measurements/1531393153524/pc/pc_SAM-SNG-088_1531393153524_104_002.pcd\n",
      "0 : /Users/tristanbehrens/Datasets/welthungerhilfe/20180803/storage/person/SAM-SNG-014/measurements/1531291318886/pc/pc_SAM-SNG-014_1531291318886_110_039.pcd\n",
      "Rendering histograms...\n"
     ]
    },
    {
     "data": {
      "image/png": "[encoded data removed]",
      "text/plain": [
       "<Figure size 432x288 with 1 Axes>"
      ]
     },
     "metadata": {},
     "output_type": "display_data"
    },
    {
     "data": {
      "image/png": "[encoded data removed]",
      "text/plain": [
       "<Figure size 432x288 with 1 Axes>"
      ]
     },
     "metadata": {},
     "output_type": "display_data"
    },
    {
     "data": {
      "image/png": "[encoded data removed]",
      "text/plain": [
       "<Figure size 432x288 with 1 Axes>"
      ]
     },
     "metadata": {},
     "output_type": "display_data"
    }
   ],
   "source": [
    "datagenerator.analyze_voxelgrids()"
   ]
  },
  {
   "cell_type": "markdown",
   "metadata": {},
   "source": [
    "# Do the train-test-split and generate."
   ]
  },
  {
   "cell_type": "code",
   "execution_count": 10,
   "metadata": {},
   "outputs": [],
   "source": [
    "def split_and_generate(datagenerator, dataset_parameters):\n",
    "\n",
    "    # Do the split.\n",
    "    random.seed(dataset_parameters[\"random_seed\"])\n",
    "    qrcodes_shuffle = datagenerator.qrcodes[:]\n",
    "    random.shuffle(qrcodes_shuffle)\n",
    "    split_index = int(0.8 * len(qrcodes_shuffle))\n",
    "    qrcodes_train = sorted(qrcodes_shuffle[:split_index])\n",
    "    qrcodes_test = sorted(qrcodes_shuffle[split_index:])\n",
    "    del qrcodes_shuffle\n",
    "    print(\"\")\n",
    "\n",
    "    print(\"QR-Codes for training:\", \" \".join(qrcodes_train))\n",
    "    print(\"\")\n",
    "    print(\"QR-Codes for testing:\", \" \".join(qrcodes_test))\n",
    "    print(\"\")\n",
    "\n",
    "    print(\"Generating training data...\")\n",
    "    dataset_train = next(datagenerator.generate(size=dataset_parameters[\"dataset_size_train\"], qrcodes_to_use=qrcodes_train, yield_file_paths=True, verbose=True, multiprocessing_jobs=multiprocessing_jobs))\n",
    "\n",
    "    print(\"Generating testing data...\")\n",
    "    dataset_test = next(datagenerator.generate(size=dataset_parameters[\"dataset_size_test\"], qrcodes_to_use=qrcodes_test, yield_file_paths=True, verbose=True, multiprocessing_jobs=multiprocessing_jobs))\n",
    "\n",
    "    print(\"Done.\")\n",
    "    return dataset_train, dataset_test"
   ]
  },
  {
   "cell_type": "markdown",
   "metadata": {},
   "source": [
    "# Method for saving dataset."
   ]
  },
  {
   "cell_type": "code",
   "execution_count": 11,
   "metadata": {},
   "outputs": [],
   "source": [
    "def save_dataset(dataset_train, dataset_test, dataset_parameters):\n",
    "    print(\"Saving dataset...\")\n",
    "    datetime_string = utils.get_datetime_string()\n",
    "    dataset_name = datetime_string + \"-\" + dataset_parameters[\"input_type\"] + \"-dataset.p\"\n",
    "    pickle.dump((dataset_train, dataset_test, dataset_parameters), open(dataset_name, \"wb\"))\n",
    "    print(\"Saved \" + dataset_name)"
   ]
  },
  {
   "cell_type": "markdown",
   "metadata": {},
   "source": [
    "# Generate with parameters."
   ]
  },
  {
   "cell_type": "code",
   "execution_count": 12,
   "metadata": {},
   "outputs": [
    {
     "name": "stdout",
     "output_type": "stream",
     "text": [
      "Creating data-generator...\n",
      "/Users/tristanbehrens/Datasets/welthungerhilfe/20180803\n",
      "QR-Code SAM-GOV-025 has 1 different manual measurements\n",
      "   Target [67, 6.7] with 0 JPGs and 51 PCDs.\n",
      "QR-Code SAM-SNG-073 has 3 different manual measurements\n",
      "   Target [82, 8.8] with 0 JPGs and 41 PCDs.\n",
      "   Target [82, 8.8] with 0 JPGs and 40 PCDs.\n",
      "   Target [82, 8.5] with 0 JPGs and 0 PCDs.\n",
      "QR-Code SAM-GOV-014 has 1 different manual measurements\n",
      "   Target [91.1, 11.1] with 0 JPGs and 77 PCDs.\n",
      "QR-Code SAM-GOV-087 has 1 different manual measurements\n",
      "   Target [85.7, 10.2] with 0 JPGs and 60 PCDs.\n",
      "QR-Code SAM-GOV-004 has 1 different manual measurements\n",
      "   Target [76.2, 8.3] with 0 JPGs and 71 PCDs.\n",
      "QR-Code SAM-GOV-026 has 1 different manual measurements\n",
      "   Target [80.1, 9.2] with 0 JPGs and 47 PCDs.\n",
      "QR-Code SAM-GOV-068 has 1 different manual measurements\n",
      "   Target [73.3, 7.4] with 0 JPGs and 39 PCDs.\n",
      "QR-Code SAM-SNG-013 has 1 different manual measurements\n",
      "   Target [93.7, 11.2] with 0 JPGs and 0 PCDs.\n",
      "QR-Code SAM-SNG-072 has 1 different manual measurements\n",
      "   Target [73, 6.7] with 0 JPGs and 0 PCDs.\n",
      "QR-Code SAM-SNG-088 has 1 different manual measurements\n",
      "   Target [85.5, 10.3] with 0 JPGs and 48 PCDs.\n",
      "QR-Code SAM-SNG-018 has 1 different manual measurements\n",
      "   Target [88.8, 9.8] with 0 JPGs and 0 PCDs.\n",
      "QR-Code SAM-GOV-045 has 1 different manual measurements\n",
      "   Target [72.1, 6.8] with 0 JPGs and 34 PCDs.\n",
      "QR-Code SAM-GOV-036 has 1 different manual measurements\n",
      "   Target [68.5, 6.3] with 0 JPGs and 141 PCDs.\n",
      "QR-Code SAM-SNG-059 has 2 different manual measurements\n",
      "   Target [78.8, 8.6] with 0 JPGs and 32 PCDs.\n",
      "   Target [78.8, 8.8] with 0 JPGs and 60 PCDs.\n",
      "QR-Code SAM-SNG-097 has 1 different manual measurements\n",
      "   Target [89.3, 10.9] with 0 JPGs and 52 PCDs.\n",
      "QR-Code SAM-GOV-049 has 2 different manual measurements\n",
      "   Target [96.4, 11.9] with 0 JPGs and 22 PCDs.\n",
      "   Target [95.4, 11.9] with 0 JPGs and 22 PCDs.\n",
      "QR-Code SAM-SNG-083 has 1 different manual measurements\n",
      "   Target [102.1, 14.3] with 0 JPGs and 34 PCDs.\n",
      "QR-Code SAM-GOV-066 has 1 different manual measurements\n",
      "   Target [62.2, 5.8] with 0 JPGs and 38 PCDs.\n",
      "QR-Code SAM-GOV-088 has 1 different manual measurements\n",
      "   Target [57.8, 5.7] with 0 JPGs and 39 PCDs.\n",
      "QR-Code SAM-SNG-075 has 1 different manual measurements\n",
      "   Target [92.7, 9.6] with 0 JPGs and 14 PCDs.\n",
      "QR-Code SAM-GOV-051 has 1 different manual measurements\n",
      "   Target [75.3, 7.3] with 0 JPGs and 40 PCDs.\n",
      "QR-Code SAM-GOV-033 has 1 different manual measurements\n",
      "   Target [68.7, 6.4] with 0 JPGs and 57 PCDs.\n",
      "QR-Code SAM-SNG-076 has 1 different manual measurements\n",
      "   Target [80, 8.9] with 0 JPGs and 37 PCDs.\n",
      "QR-Code SAM-GOV-067 has 1 different manual measurements\n",
      "   Target [61.6, 5.2] with 0 JPGs and 34 PCDs.\n",
      "QR-Code SAM-GOV-042 has 1 different manual measurements\n",
      "   Target [96, 12.7] with 0 JPGs and 40 PCDs.\n",
      "QR-Code SAM-SNG-012 has 1 different manual measurements\n",
      "   Target [67, 6.9] with 0 JPGs and 0 PCDs.\n",
      "QR-Code SAM-GOV-034 has 1 different manual measurements\n",
      "   Target [84.8, 11.1] with 0 JPGs and 64 PCDs.\n",
      "QR-Code SAM-GOV-035 has 1 different manual measurements\n",
      "   Target [70.1, 7.1] with 0 JPGs and 38 PCDs.\n",
      "QR-Code SAM-SNG-070 has 1 different manual measurements\n",
      "   Target [66.4, 5.6] with 0 JPGs and 53 PCDs.\n",
      "QR-Code SAM-GOV-023 has 1 different manual measurements\n",
      "   Target [69.5, 6.5] with 0 JPGs and 50 PCDs.\n",
      "QR-Code SAM-GOV-054 has 2 different manual measurements\n",
      "   Target [93.5, 11.2] with 0 JPGs and 94 PCDs.\n",
      "   Target [93.4, 10.8] with 0 JPGs and 24 PCDs.\n",
      "QR-Code SAM-GOV-052 has 1 different manual measurements\n",
      "   Target [80.3, 9.3] with 0 JPGs and 33 PCDs.\n",
      "QR-Code SAM-GOV-037 has 1 different manual measurements\n",
      "   Target [65.3, 6.1] with 0 JPGs and 51 PCDs.\n",
      "QR-Code SAM-GOV-089 has 1 different manual measurements\n",
      "   Target [96.6, 12.2] with 0 JPGs and 31 PCDs.\n",
      "QR-Code SAM-SNG-095 has 2 different manual measurements\n",
      "   Target [87.7, 10.6] with 0 JPGs and 72 PCDs.\n",
      "   Target [87.7, 10.9] with 0 JPGs and 49 PCDs.\n",
      "QR-Code SAM-SNG-081 has 1 different manual measurements\n",
      "   Target [78.6, 8.1] with 0 JPGs and 75 PCDs.\n",
      "QR-Code SAM-SNG-099 has 1 different manual measurements\n",
      "   Target [75.2, 8.2] with 0 JPGs and 17 PCDs.\n",
      "QR-Code SAM-SNG-061 has 1 different manual measurements\n",
      "   Target [79, 8.5] with 0 JPGs and 74 PCDs.\n",
      "QR-Code SAM-GOV-038 has 1 different manual measurements\n",
      "   Target [67.2, 7.6] with 0 JPGs and 40 PCDs.\n",
      "QR-Code SAM-GOV-041 has 1 different manual measurements\n",
      "   Target [68.2, 7.1] with 0 JPGs and 48 PCDs.\n",
      "QR-Code SAM-GOV-073 has 1 different manual measurements\n",
      "   Target [63.5, 6] with 0 JPGs and 0 PCDs.\n",
      "QR-Code SAM-SNG-098 has 2 different manual measurements\n",
      "   Target [81.7, 8.8] with 0 JPGs and 149 PCDs.\n",
      "   Target [81.7, 8.7] with 0 JPGs and 119 PCDs.\n",
      "QR-Code SAM-GOV-090 has 1 different manual measurements\n",
      "   Target [68.1, 6.4] with 0 JPGs and 47 PCDs.\n",
      "QR-Code SAM-SNG-086 has 1 different manual measurements\n",
      "   Target [86.5, 9.7] with 0 JPGs and 41 PCDs.\n",
      "QR-Code SAM-SNG-096 has 2 different manual measurements\n",
      "   Target [100.3, 12.4] with 0 JPGs and 21 PCDs.\n",
      "   Target [100.3, 12.5] with 0 JPGs and 0 PCDs.\n",
      "QR-Code SAM-SNG-085 has 1 different manual measurements\n",
      "   Target [92.2, 10.8] with 0 JPGs and 53 PCDs.\n",
      "QR-Code SAM-SNG-067 has 1 different manual measurements\n",
      "   Target [78, 8.3] with 0 JPGs and 40 PCDs.\n",
      "QR-Code SAM-SNG-011 has 1 different manual measurements\n",
      "   Target [71, 6.2] with 0 JPGs and 0 PCDs.\n",
      "QR-Code SAM-GOV-043 has 1 different manual measurements\n",
      "   Target [69.3, 7.6] with 0 JPGs and 56 PCDs.\n",
      "QR-Code SAM-SNG-014 has 2 different manual measurements\n",
      "   Target [82.3, 8.9] with 0 JPGs and 0 PCDs.\n",
      "   Target [82.3, 8.7] with 0 JPGs and 73 PCDs.\n",
      "QR-Code SAM-GOV-069 has 1 different manual measurements\n",
      "   Target [73.5, 8.1] with 0 JPGs and 0 PCDs.\n",
      "QR-Code SAM-GOV-013 has 1 different manual measurements\n",
      "   Target [63, 6.1] with 0 JPGs and 42 PCDs.\n",
      "QR-Code SAM-SNG-084 has 2 different manual measurements\n",
      "   Target [86, 10] with 0 JPGs and 42 PCDs.\n",
      "   Target [86, 10.1] with 0 JPGs and 50 PCDs.\n",
      "QR-Code SAM-SNG-087 has 2 different manual measurements\n",
      "   Target [90.4, 9.8] with 0 JPGs and 71 PCDs.\n",
      "   Target [88.5, 10] with 0 JPGs and 61 PCDs.\n",
      "QR-Code SAM-GOV-002 has 1 different manual measurements\n",
      "   Target [67.2, 6.2] with 0 JPGs and 46 PCDs.\n",
      "QR-Code SAM-GOV-050 has 1 different manual measurements\n",
      "   Target [97.4, 11.3] with 0 JPGs and 63 PCDs.\n",
      "QR-Code SAM-GOV-046 has 1 different manual measurements\n",
      "   Target [76, 7.2] with 0 JPGs and 0 PCDs.\n",
      "QR-Code SAM-GOV-011 has 1 different manual measurements\n",
      "   Target [85.5, 10.8] with 0 JPGs and 51 PCDs.\n",
      "QR-Code SAM-GOV-064 has 1 different manual measurements\n",
      "   Target [98.2, 11.6] with 0 JPGs and 39 PCDs.\n",
      "QR-Code SAM-SNG-015 has 1 different manual measurements\n",
      "   Target [89.5, 10.5] with 0 JPGs and 0 PCDs.\n",
      "QR-Code SAM-GOV-005 has 1 different manual measurements\n",
      "   Target [76.5, 8.4] with 0 JPGs and 77 PCDs.\n",
      "QR-Code SAM-GOV-063 has 1 different manual measurements\n",
      "   Target [72.4, 9.1] with 0 JPGs and 35 PCDs.\n",
      "QR-Code SAM-GOV-044 has 1 different manual measurements\n",
      "   Target [64.9, 7.9] with 0 JPGs and 45 PCDs.\n",
      "QR-Code SAM-GOV-012 has 1 different manual measurements\n",
      "   Target [77.1, 8.1] with 0 JPGs and 46 PCDs.\n",
      "QR-Code SAM-SNG-091 has 1 different manual measurements\n",
      "   Target [68.5, 6] with 0 JPGs and 0 PCDs.\n",
      "QR-Code SAM-GOV-008 has 1 different manual measurements\n",
      "   Target [73.7, 7.1] with 0 JPGs and 55 PCDs.\n",
      "QR-Code SAM-SNG-074 has 1 different manual measurements\n",
      "   Target [77.5, 8.3] with 0 JPGs and 41 PCDs.\n",
      "QR-Code SAM-SNG-036 has 1 different manual measurements\n",
      "   Target [78, 7.9] with 0 JPGs and 24 PCDs.\n",
      "QR-Code SAM-SNG-069 has 1 different manual measurements\n",
      "   Target [91.7, 10.9] with 0 JPGs and 0 PCDs.\n",
      "QR-Code SAM-GOV-099 has 1 different manual measurements\n",
      "   Target [89.3, 10.8] with 0 JPGs and 35 PCDs.\n",
      "QR-Code SAM-SNG-021 has 1 different manual measurements\n",
      "   Target [101.2, 13.6] with 0 JPGs and 0 PCDs.\n",
      "QR-Code SAM-SNG-016 has 1 different manual measurements\n",
      "   Target [95, 11.9] with 0 JPGs and 0 PCDs.\n",
      "QR-Code SAM-SNG-066 has 2 different manual measurements\n",
      "   Target [89.4, 9.9] with 0 JPGs and 36 PCDs.\n",
      "   Target [89.4, 10.2] with 0 JPGs and 0 PCDs.\n",
      "\n",
      "QR-Codes for training: SAM-GOV-001 SAM-GOV-004 SAM-GOV-005 SAM-GOV-008 SAM-GOV-011 SAM-GOV-013 SAM-GOV-014 SAM-GOV-023 SAM-GOV-025 SAM-GOV-026 SAM-GOV-033 SAM-GOV-034 SAM-GOV-035 SAM-GOV-037 SAM-GOV-038 SAM-GOV-042 SAM-GOV-043 SAM-GOV-044 SAM-GOV-045 SAM-GOV-046 SAM-GOV-049 SAM-GOV-050 SAM-GOV-051 SAM-GOV-052 SAM-GOV-054 SAM-GOV-063 SAM-GOV-064 SAM-GOV-066 SAM-GOV-067 SAM-GOV-068 SAM-GOV-069 SAM-GOV-073 SAM-GOV-089 SAM-GOV-090 SAM-GOV-099 SAM-SNG-011 SAM-SNG-013 SAM-SNG-014 SAM-SNG-015 SAM-SNG-016 SAM-SNG-018 SAM-SNG-059 SAM-SNG-061 SAM-SNG-066 SAM-SNG-067 SAM-SNG-068 SAM-SNG-070 SAM-SNG-075 SAM-SNG-076 SAM-SNG-081 SAM-SNG-083 SAM-SNG-085 SAM-SNG-086 SAM-SNG-088 SAM-SNG-091 SAM-SNG-095 SAM-SNG-096 SAM-SNG-097 SAM-SNG-098 SAM-SNG-099\n",
      "\n",
      "QR-Codes for testing: SAM-GOV-002 SAM-GOV-012 SAM-GOV-036 SAM-GOV-041 SAM-GOV-087 SAM-GOV-088 SAM-SNG-012 SAM-SNG-021 SAM-SNG-036 SAM-SNG-069 SAM-SNG-072 SAM-SNG-073 SAM-SNG-074 SAM-SNG-084 SAM-SNG-087\n",
      "\n",
      "Generating training data...\n"
     ]
    },
    {
     "name": "stdout",
     "output_type": "stream",
     "text": [
      "Generating using QR-codes: ['SAM-GOV-001', 'SAM-GOV-004', 'SAM-GOV-005', 'SAM-GOV-008', 'SAM-GOV-011', 'SAM-GOV-013', 'SAM-GOV-014', 'SAM-GOV-023', 'SAM-GOV-025', 'SAM-GOV-026', 'SAM-GOV-033', 'SAM-GOV-034', 'SAM-GOV-035', 'SAM-GOV-037', 'SAM-GOV-038', 'SAM-GOV-042', 'SAM-GOV-043', 'SAM-GOV-044', 'SAM-GOV-045', 'SAM-GOV-046', 'SAM-GOV-049', 'SAM-GOV-050', 'SAM-GOV-051', 'SAM-GOV-052', 'SAM-GOV-054', 'SAM-GOV-063', 'SAM-GOV-064', 'SAM-GOV-066', 'SAM-GOV-067', 'SAM-GOV-068', 'SAM-GOV-069', 'SAM-GOV-073', 'SAM-GOV-089', 'SAM-GOV-090', 'SAM-GOV-099', 'SAM-SNG-011', 'SAM-SNG-013', 'SAM-SNG-014', 'SAM-SNG-015', 'SAM-SNG-016', 'SAM-SNG-018', 'SAM-SNG-059', 'SAM-SNG-061', 'SAM-SNG-066', 'SAM-SNG-067', 'SAM-SNG-068', 'SAM-SNG-070', 'SAM-SNG-075', 'SAM-SNG-076', 'SAM-SNG-081', 'SAM-SNG-083', 'SAM-SNG-085', 'SAM-SNG-086', 'SAM-SNG-088', 'SAM-SNG-091', 'SAM-SNG-095', 'SAM-SNG-096', 'SAM-SNG-097', 'SAM-SNG-098', 'SAM-SNG-099']\n",
      "Generating using QR-codes: ['SAM-GOV-001', 'SAM-GOV-004', 'SAM-GOV-005', 'SAM-GOV-008', 'SAM-GOV-011', 'SAM-GOV-013', 'SAM-GOV-014', 'SAM-GOV-023', 'SAM-GOV-025', 'SAM-GOV-026', 'SAM-GOV-033', 'SAM-GOV-034', 'SAM-GOV-035', 'SAM-GOV-037', 'SAM-GOV-038', 'SAM-GOV-042', 'SAM-GOV-043', 'SAM-GOV-044', 'SAM-GOV-045', 'SAM-GOV-046', 'SAM-GOV-049', 'SAM-GOV-050', 'SAM-GOV-051', 'SAM-GOV-052', 'SAM-GOV-054', 'SAM-GOV-063', 'SAM-GOV-064', 'SAM-GOV-066', 'SAM-GOV-067', 'SAM-GOV-068', 'SAM-GOV-069', 'SAM-GOV-073', 'SAM-GOV-089', 'SAM-GOV-090', 'SAM-GOV-099', 'SAM-SNG-011', 'SAM-SNG-013', 'SAM-SNG-014', 'SAM-SNG-015', 'SAM-SNG-016', 'SAM-SNG-018', 'SAM-SNG-059', 'SAM-SNG-061', 'SAM-SNG-066', 'SAM-SNG-067', 'SAM-SNG-068', 'SAM-SNG-070', 'SAM-SNG-075', 'SAM-SNG-076', 'SAM-SNG-081', 'SAM-SNG-083', 'SAM-SNG-085', 'SAM-SNG-086', 'SAM-SNG-088', 'SAM-SNG-091', 'SAM-SNG-095', 'SAM-SNG-096', 'SAM-SNG-097', 'SAM-SNG-098', 'SAM-SNG-099']\n",
      "Generating using QR-codes: ['SAM-GOV-001', 'SAM-GOV-004', 'SAM-GOV-005', 'SAM-GOV-008', 'SAM-GOV-011', 'SAM-GOV-013', 'SAM-GOV-014', 'SAM-GOV-023', 'SAM-GOV-025', 'SAM-GOV-026', 'SAM-GOV-033', 'SAM-GOV-034', 'SAM-GOV-035', 'SAM-GOV-037', 'SAM-GOV-038', 'SAM-GOV-042', 'SAM-GOV-043', 'SAM-GOV-044', 'SAM-GOV-045', 'SAM-GOV-046', 'SAM-GOV-049', 'SAM-GOV-050', 'SAM-GOV-051', 'SAM-GOV-052', 'SAM-GOV-054', 'SAM-GOV-063', 'SAM-GOV-064', 'SAM-GOV-066', 'SAM-GOV-067', 'SAM-GOV-068', 'SAM-GOV-069', 'SAM-GOV-073', 'SAM-GOV-089', 'SAM-GOV-090', 'SAM-GOV-099', 'SAM-SNG-011', 'SAM-SNG-013', 'SAM-SNG-014', 'SAM-SNG-015', 'SAM-SNG-016', 'SAM-SNG-018', 'SAM-SNG-059', 'SAM-SNG-061', 'SAM-SNG-066', 'SAM-SNG-067', 'SAM-SNG-068', 'SAM-SNG-070', 'SAM-SNG-075', 'SAM-SNG-076', 'SAM-SNG-081', 'SAM-SNG-083', 'SAM-SNG-085', 'SAM-SNG-086', 'SAM-SNG-088', 'SAM-SNG-091', 'SAM-SNG-095', 'SAM-SNG-096', 'SAM-SNG-097', 'SAM-SNG-098', 'SAM-SNG-099']\n",
      "Generating using QR-codes: ['SAM-GOV-001', 'SAM-GOV-004', 'SAM-GOV-005', 'SAM-GOV-008', 'SAM-GOV-011', 'SAM-GOV-013', 'SAM-GOV-014', 'SAM-GOV-023', 'SAM-GOV-025', 'SAM-GOV-026', 'SAM-GOV-033', 'SAM-GOV-034', 'SAM-GOV-035', 'SAM-GOV-037', 'SAM-GOV-038', 'SAM-GOV-042', 'SAM-GOV-043', 'SAM-GOV-044', 'SAM-GOV-045', 'SAM-GOV-046', 'SAM-GOV-049', 'SAM-GOV-050', 'SAM-GOV-051', 'SAM-GOV-052', 'SAM-GOV-054', 'SAM-GOV-063', 'SAM-GOV-064', 'SAM-GOV-066', 'SAM-GOV-067', 'SAM-GOV-068', 'SAM-GOV-069', 'SAM-GOV-073', 'SAM-GOV-089', 'SAM-GOV-090', 'SAM-GOV-099', 'SAM-SNG-011', 'SAM-SNG-013', 'SAM-SNG-014', 'SAM-SNG-015', 'SAM-SNG-016', 'SAM-SNG-018', 'SAM-SNG-059', 'SAM-SNG-061', 'SAM-SNG-066', 'SAM-SNG-067', 'SAM-SNG-068', 'SAM-SNG-070', 'SAM-SNG-075', 'SAM-SNG-076', 'SAM-SNG-081', 'SAM-SNG-083', 'SAM-SNG-085', 'SAM-SNG-086', 'SAM-SNG-088', 'SAM-SNG-091', 'SAM-SNG-095', 'SAM-SNG-096', 'SAM-SNG-097', 'SAM-SNG-098', 'SAM-SNG-099']\n",
      "Generating using QR-codes: ['SAM-GOV-001', 'SAM-GOV-004', 'SAM-GOV-005', 'SAM-GOV-008', 'SAM-GOV-011', 'SAM-GOV-013', 'SAM-GOV-014', 'SAM-GOV-023', 'SAM-GOV-025', 'SAM-GOV-026', 'SAM-GOV-033', 'SAM-GOV-034', 'SAM-GOV-035', 'SAM-GOV-037', 'SAM-GOV-038', 'SAM-GOV-042', 'SAM-GOV-043', 'SAM-GOV-044', 'SAM-GOV-045', 'SAM-GOV-046', 'SAM-GOV-049', 'SAM-GOV-050', 'SAM-GOV-051', 'SAM-GOV-052', 'SAM-GOV-054', 'SAM-GOV-063', 'SAM-GOV-064', 'SAM-GOV-066', 'SAM-GOV-067', 'SAM-GOV-068', 'SAM-GOV-069', 'SAM-GOV-073', 'SAM-GOV-089', 'SAM-GOV-090', 'SAM-GOV-099', 'SAM-SNG-011', 'SAM-SNG-013', 'SAM-SNG-014', 'SAM-SNG-015', 'SAM-SNG-016', 'SAM-SNG-018', 'SAM-SNG-059', 'SAM-SNG-061', 'SAM-SNG-066', 'SAM-SNG-067', 'SAM-SNG-068', 'SAM-SNG-070', 'SAM-SNG-075', 'SAM-SNG-076', 'SAM-SNG-081', 'SAM-SNG-083', 'SAM-SNG-085', 'SAM-SNG-086', 'SAM-SNG-088', 'SAM-SNG-091', 'SAM-SNG-095', 'SAM-SNG-096', 'SAM-SNG-097', 'SAM-SNG-098', 'SAM-SNG-099']\n",
      "Generating using QR-codes: ['SAM-GOV-001', 'SAM-GOV-004', 'SAM-GOV-005', 'SAM-GOV-008', 'SAM-GOV-011', 'SAM-GOV-013', 'SAM-GOV-014', 'SAM-GOV-023', 'SAM-GOV-025', 'SAM-GOV-026', 'SAM-GOV-033', 'SAM-GOV-034', 'SAM-GOV-035', 'SAM-GOV-037', 'SAM-GOV-038', 'SAM-GOV-042', 'SAM-GOV-043', 'SAM-GOV-044', 'SAM-GOV-045', 'SAM-GOV-046', 'SAM-GOV-049', 'SAM-GOV-050', 'SAM-GOV-051', 'SAM-GOV-052', 'SAM-GOV-054', 'SAM-GOV-063', 'SAM-GOV-064', 'SAM-GOV-066', 'SAM-GOV-067', 'SAM-GOV-068', 'SAM-GOV-069', 'SAM-GOV-073', 'SAM-GOV-089', 'SAM-GOV-090', 'SAM-GOV-099', 'SAM-SNG-011', 'SAM-SNG-013', 'SAM-SNG-014', 'SAM-SNG-015', 'SAM-SNG-016', 'SAM-SNG-018', 'SAM-SNG-059', 'SAM-SNG-061', 'SAM-SNG-066', 'SAM-SNG-067', 'SAM-SNG-068', 'SAM-SNG-070', 'SAM-SNG-075', 'SAM-SNG-076', 'SAM-SNG-081', 'SAM-SNG-083', 'SAM-SNG-085', 'SAM-SNG-086', 'SAM-SNG-088', 'SAM-SNG-091', 'SAM-SNG-095', 'SAM-SNG-096', 'SAM-SNG-097', 'SAM-SNG-098', 'SAM-SNG-099']\n",
      "Generating using QR-codes: ['SAM-GOV-001', 'SAM-GOV-004', 'SAM-GOV-005', 'SAM-GOV-008', 'SAM-GOV-011', 'SAM-GOV-013', 'SAM-GOV-014', 'SAM-GOV-023', 'SAM-GOV-025', 'SAM-GOV-026', 'SAM-GOV-033', 'SAM-GOV-034', 'SAM-GOV-035', 'SAM-GOV-037', 'SAM-GOV-038', 'SAM-GOV-042', 'SAM-GOV-043', 'SAM-GOV-044', 'SAM-GOV-045', 'SAM-GOV-046', 'SAM-GOV-049', 'SAM-GOV-050', 'SAM-GOV-051', 'SAM-GOV-052', 'SAM-GOV-054', 'SAM-GOV-063', 'SAM-GOV-064', 'SAM-GOV-066', 'SAM-GOV-067', 'SAM-GOV-068', 'SAM-GOV-069', 'SAM-GOV-073', 'SAM-GOV-089', 'SAM-GOV-090', 'SAM-GOV-099', 'SAM-SNG-011', 'SAM-SNG-013', 'SAM-SNG-014', 'SAM-SNG-015', 'SAM-SNG-016', 'SAM-SNG-018', 'SAM-SNG-059', 'SAM-SNG-061', 'SAM-SNG-066', 'SAM-SNG-067', 'SAM-SNG-068', 'SAM-SNG-070', 'SAM-SNG-075', 'SAM-SNG-076', 'SAM-SNG-081', 'SAM-SNG-083', 'SAM-SNG-085', 'SAM-SNG-086', 'SAM-SNG-088', 'SAM-SNG-091', 'SAM-SNG-095', 'SAM-SNG-096', 'SAM-SNG-097', 'SAM-SNG-098', 'SAM-SNG-099']\n",
      "Generating using QR-codes: ['SAM-GOV-001', 'SAM-GOV-004', 'SAM-GOV-005', 'SAM-GOV-008', 'SAM-GOV-011', 'SAM-GOV-013', 'SAM-GOV-014', 'SAM-GOV-023', 'SAM-GOV-025', 'SAM-GOV-026', 'SAM-GOV-033', 'SAM-GOV-034', 'SAM-GOV-035', 'SAM-GOV-037', 'SAM-GOV-038', 'SAM-GOV-042', 'SAM-GOV-043', 'SAM-GOV-044', 'SAM-GOV-045', 'SAM-GOV-046', 'SAM-GOV-049', 'SAM-GOV-050', 'SAM-GOV-051', 'SAM-GOV-052', 'SAM-GOV-054', 'SAM-GOV-063', 'SAM-GOV-064', 'SAM-GOV-066', 'SAM-GOV-067', 'SAM-GOV-068', 'SAM-GOV-069', 'SAM-GOV-073', 'SAM-GOV-089', 'SAM-GOV-090', 'SAM-GOV-099', 'SAM-SNG-011', 'SAM-SNG-013', 'SAM-SNG-014', 'SAM-SNG-015', 'SAM-SNG-016', 'SAM-SNG-018', 'SAM-SNG-059', 'SAM-SNG-061', 'SAM-SNG-066', 'SAM-SNG-067', 'SAM-SNG-068', 'SAM-SNG-070', 'SAM-SNG-075', 'SAM-SNG-076', 'SAM-SNG-081', 'SAM-SNG-083', 'SAM-SNG-085', 'SAM-SNG-086', 'SAM-SNG-088', 'SAM-SNG-091', 'SAM-SNG-095', 'SAM-SNG-096', 'SAM-SNG-097', 'SAM-SNG-098', 'SAM-SNG-099']\n"
     ]
    },
    {
     "name": "stderr",
     "output_type": "stream",
     "text": [
      "  2% (11 of 375) |                       | Elapsed Time: 0:00:06 ETA:   0:04:11"
     ]
    },
    {
     "name": "stdout",
     "output_type": "stream",
     "text": [
      "Wrong number of columns at line 26636\n"
     ]
    },
    {
     "name": "stderr",
     "output_type": "stream",
     "text": [
      "  5% (22 of 375) |#                      | Elapsed Time: 0:00:14 ETA:   0:04:22"
     ]
    },
    {
     "name": "stdout",
     "output_type": "stream",
     "text": [
      "Wrong number of columns at line 26736\n"
     ]
    },
    {
     "name": "stderr",
     "output_type": "stream",
     "text": [
      " 11% (42 of 375) |##                     | Elapsed Time: 0:00:29 ETA:   0:04:00"
     ]
    },
    {
     "name": "stdout",
     "output_type": "stream",
     "text": [
      "Wrong number of columns at line 25977\n"
     ]
    },
    {
     "name": "stderr",
     "output_type": "stream",
     "text": [
      " 14% (55 of 375) |###                    | Elapsed Time: 0:00:38 ETA:   0:03:54"
     ]
    },
    {
     "name": "stdout",
     "output_type": "stream",
     "text": [
      "Wrong number of columns at line 25977\n"
     ]
    },
    {
     "name": "stderr",
     "output_type": "stream",
     "text": [
      " 14% (56 of 375) |###                    | Elapsed Time: 0:00:40 ETA:   0:03:54"
     ]
    },
    {
     "name": "stdout",
     "output_type": "stream",
     "text": [
      "Wrong number of columns at line 25977\n"
     ]
    },
    {
     "name": "stderr",
     "output_type": "stream",
     "text": [
      " 25% (96 of 375) |#####                  | Elapsed Time: 0:01:14 ETA:   0:03:45"
     ]
    },
    {
     "name": "stdout",
     "output_type": "stream",
     "text": [
      "Wrong number of columns at line 26553\n"
     ]
    },
    {
     "name": "stderr",
     "output_type": "stream",
     "text": [
      " 37% (142 of 375) |########              | Elapsed Time: 0:01:51 ETA:   0:02:48"
     ]
    },
    {
     "name": "stdout",
     "output_type": "stream",
     "text": [
      "Wrong number of columns at line 33683\n"
     ]
    },
    {
     "name": "stderr",
     "output_type": "stream",
     "text": [
      " 45% (170 of 375) |#########             | Elapsed Time: 0:02:14 ETA:   0:02:32"
     ]
    },
    {
     "name": "stdout",
     "output_type": "stream",
     "text": [
      "Wrong number of columns at line 33683\n"
     ]
    },
    {
     "name": "stderr",
     "output_type": "stream",
     "text": [
      " 56% (212 of 375) |############          | Elapsed Time: 0:02:46 ETA:   0:02:02"
     ]
    },
    {
     "name": "stdout",
     "output_type": "stream",
     "text": [
      "Wrong number of columns at line 25919\n"
     ]
    },
    {
     "name": "stderr",
     "output_type": "stream",
     "text": [
      " 76% (288 of 375) |################      | Elapsed Time: 0:03:48 ETA:   0:01:06"
     ]
    },
    {
     "name": "stdout",
     "output_type": "stream",
     "text": [
      "Wrong number of columns at line 26736\n"
     ]
    },
    {
     "name": "stderr",
     "output_type": "stream",
     "text": [
      " 82% (311 of 375) |##################    | Elapsed Time: 0:04:08 ETA:   0:01:02"
     ]
    },
    {
     "name": "stdout",
     "output_type": "stream",
     "text": [
      "Wrong number of columns at line 33593\n"
     ]
    },
    {
     "name": "stderr",
     "output_type": "stream",
     "text": [
      "100% (375 of 375) |######################| Elapsed Time: 0:04:58 Time:  0:04:58\n",
      " 99% (372 of 375) |##################### | Elapsed Time: 0:04:59 ETA:   0:00:02"
     ]
    },
    {
     "name": "stdout",
     "output_type": "stream",
     "text": [
      "Wrong number of columns at line 26636\n"
     ]
    },
    {
     "name": "stderr",
     "output_type": "stream",
     "text": [
      "100% (375 of 375) |######################| Elapsed Time: 0:05:00 Time:  0:05:00\n",
      "100% (375 of 375) |######################| Elapsed Time: 0:05:00 Time:  0:05:00\n",
      "100% (375 of 375) |######################| Elapsed Time: 0:05:00 Time:  0:05:00\n",
      "100% (375 of 375) |######################| Elapsed Time: 0:05:01 Time:  0:05:01\n",
      "100% (375 of 375) |######################| Elapsed Time: 0:05:01 Time:  0:05:01\n",
      "100% (375 of 375) |######################| Elapsed Time: 0:05:01 Time:  0:05:01\n",
      "100% (375 of 375) |######################| Elapsed Time: 0:05:01 Time:  0:05:01\n"
     ]
    },
    {
     "name": "stdout",
     "output_type": "stream",
     "text": [
      "Generating testing data...\n",
      "Generating using QR-codes: ['SAM-GOV-002', 'SAM-GOV-012', 'SAM-GOV-036', 'SAM-GOV-041', 'SAM-GOV-087', 'SAM-GOV-088', 'SAM-SNG-012', 'SAM-SNG-021', 'SAM-SNG-036', 'SAM-SNG-069', 'SAM-SNG-072', 'SAM-SNG-073', 'SAM-SNG-074', 'SAM-SNG-084', 'SAM-SNG-087']\n",
      "Generating using QR-codes: ['SAM-GOV-002', 'SAM-GOV-012', 'SAM-GOV-036', 'SAM-GOV-041', 'SAM-GOV-087', 'SAM-GOV-088', 'SAM-SNG-012', 'SAM-SNG-021', 'SAM-SNG-036', 'SAM-SNG-069', 'SAM-SNG-072', 'SAM-SNG-073', 'SAM-SNG-074', 'SAM-SNG-084', 'SAM-SNG-087']\n",
      "Generating using QR-codes: ['SAM-GOV-002', 'SAM-GOV-012', 'SAM-GOV-036', 'SAM-GOV-041', 'SAM-GOV-087', 'SAM-GOV-088', 'SAM-SNG-012', 'SAM-SNG-021', 'SAM-SNG-036', 'SAM-SNG-069', 'SAM-SNG-072', 'SAM-SNG-073', 'SAM-SNG-074', 'SAM-SNG-084', 'SAM-SNG-087']\n",
      "Generating using QR-codes: ['SAM-GOV-002', 'SAM-GOV-012', 'SAM-GOV-036', 'SAM-GOV-041', 'SAM-GOV-087', 'SAM-GOV-088', 'SAM-SNG-012', 'SAM-SNG-021', 'SAM-SNG-036', 'SAM-SNG-069', 'SAM-SNG-072', 'SAM-SNG-073', 'SAM-SNG-074', 'SAM-SNG-084', 'SAM-SNG-087']\n",
      "Generating using QR-codes: ['SAM-GOV-002', 'SAM-GOV-012', 'SAM-GOV-036', 'SAM-GOV-041', 'SAM-GOV-087', 'SAM-GOV-088', 'SAM-SNG-012', 'SAM-SNG-021', 'SAM-SNG-036', 'SAM-SNG-069', 'SAM-SNG-072', 'SAM-SNG-073', 'SAM-SNG-074', 'SAM-SNG-084', 'SAM-SNG-087']\n",
      "Generating using QR-codes: ['SAM-GOV-002', 'SAM-GOV-012', 'SAM-GOV-036', 'SAM-GOV-041', 'SAM-GOV-087', 'SAM-GOV-088', 'SAM-SNG-012', 'SAM-SNG-021', 'SAM-SNG-036', 'SAM-SNG-069', 'SAM-SNG-072', 'SAM-SNG-073', 'SAM-SNG-074', 'SAM-SNG-084', 'SAM-SNG-087']\n",
      "Generating using QR-codes: ['SAM-GOV-002', 'SAM-GOV-012', 'SAM-GOV-036', 'SAM-GOV-041', 'SAM-GOV-087', 'SAM-GOV-088', 'SAM-SNG-012', 'SAM-SNG-021', 'SAM-SNG-036', 'SAM-SNG-069', 'SAM-SNG-072', 'SAM-SNG-073', 'SAM-SNG-074', 'SAM-SNG-084', 'SAM-SNG-087']\n",
      "Generating using QR-codes: ['SAM-GOV-002', 'SAM-GOV-012', 'SAM-GOV-036', 'SAM-GOV-041', 'SAM-GOV-087', 'SAM-GOV-088', 'SAM-SNG-012', 'SAM-SNG-021', 'SAM-SNG-036', 'SAM-SNG-069', 'SAM-SNG-072', 'SAM-SNG-073', 'SAM-SNG-074', 'SAM-SNG-084', 'SAM-SNG-087']\n",
      "Wrong number of columns at line 26051\n"
     ]
    },
    {
     "name": "stderr",
     "output_type": "stream",
     "text": [
      " 29% (18 of 62) |######                  | Elapsed Time: 0:00:12 ETA:   0:00:38"
     ]
    },
    {
     "name": "stdout",
     "output_type": "stream",
     "text": [
      "Wrong number of columns at line 26361\n"
     ]
    },
    {
     "name": "stderr",
     "output_type": "stream",
     "text": [
      " 67% (42 of 62) |################        | Elapsed Time: 0:00:30 ETA:   0:00:14"
     ]
    },
    {
     "name": "stdout",
     "output_type": "stream",
     "text": [
      "Wrong number of columns at line 26667\n"
     ]
    },
    {
     "name": "stderr",
     "output_type": "stream",
     "text": [
      " 85% (53 of 62) |####################    | Elapsed Time: 0:00:38 ETA:   0:00:06"
     ]
    },
    {
     "name": "stdout",
     "output_type": "stream",
     "text": [
      "Wrong number of columns at line 26670\n"
     ]
    },
    {
     "name": "stderr",
     "output_type": "stream",
     "text": [
      " 90% (56 of 62) |#####################   | Elapsed Time: 0:00:40 ETA:   0:00:04"
     ]
    },
    {
     "name": "stdout",
     "output_type": "stream",
     "text": [
      "Wrong number of columns at line 26361\n"
     ]
    },
    {
     "name": "stderr",
     "output_type": "stream",
     "text": [
      "100% (62 of 62) |########################| Elapsed Time: 0:00:45 Time:  0:00:45\n",
      "100% (62 of 62) |########################| Elapsed Time: 0:00:45 Time:  0:00:45\n",
      "100% (62 of 62) |########################| Elapsed Time: 0:00:45 Time:  0:00:45\n",
      "\n",
      "100% (62 of 62) |########################| Elapsed Time: 0:00:45 Time:  0:00:45\n",
      "100% (62 of 62) |########################| Elapsed Time: 0:00:45 Time:  0:00:45\n",
      "100% (62 of 62) |########################| Elapsed Time: 0:00:45 Time:  0:00:45\n",
      "100% (66 of 66) |########################| Elapsed Time: 0:00:46 Time:  0:00:46\n"
     ]
    },
    {
     "name": "stdout",
     "output_type": "stream",
     "text": [
      "Done.\n",
      "Saving dataset...\n",
      "Saved 20180807-1057-pointcloud-dataset.p\n",
      "Creating data-generator...\n",
      "/Users/tristanbehrens/Datasets/welthungerhilfe/20180803\n",
      "QR-Code SAM-GOV-025 has 1 different manual measurements\n",
      "   Target [67, 6.7] with 0 JPGs and 51 PCDs.\n",
      "QR-Code SAM-SNG-073 has 3 different manual measurements\n",
      "   Target [82, 8.8] with 0 JPGs and 41 PCDs.\n",
      "   Target [82, 8.8] with 0 JPGs and 40 PCDs.\n",
      "   Target [82, 8.5] with 0 JPGs and 0 PCDs.\n",
      "QR-Code SAM-GOV-014 has 1 different manual measurements\n",
      "   Target [91.1, 11.1] with 0 JPGs and 77 PCDs.\n",
      "QR-Code SAM-GOV-087 has 1 different manual measurements\n",
      "   Target [85.7, 10.2] with 0 JPGs and 60 PCDs.\n",
      "QR-Code SAM-GOV-004 has 1 different manual measurements\n",
      "   Target [76.2, 8.3] with 0 JPGs and 71 PCDs.\n",
      "QR-Code SAM-GOV-026 has 1 different manual measurements\n",
      "   Target [80.1, 9.2] with 0 JPGs and 47 PCDs.\n",
      "QR-Code SAM-GOV-068 has 1 different manual measurements\n",
      "   Target [73.3, 7.4] with 0 JPGs and 39 PCDs.\n",
      "QR-Code SAM-SNG-013 has 1 different manual measurements\n",
      "   Target [93.7, 11.2] with 0 JPGs and 0 PCDs.\n",
      "QR-Code SAM-SNG-072 has 1 different manual measurements\n",
      "   Target [73, 6.7] with 0 JPGs and 0 PCDs.\n",
      "QR-Code SAM-SNG-088 has 1 different manual measurements\n",
      "   Target [85.5, 10.3] with 0 JPGs and 48 PCDs.\n",
      "QR-Code SAM-SNG-018 has 1 different manual measurements\n",
      "   Target [88.8, 9.8] with 0 JPGs and 0 PCDs.\n",
      "QR-Code SAM-GOV-045 has 1 different manual measurements\n",
      "   Target [72.1, 6.8] with 0 JPGs and 34 PCDs.\n",
      "QR-Code SAM-GOV-036 has 1 different manual measurements\n",
      "   Target [68.5, 6.3] with 0 JPGs and 141 PCDs.\n",
      "QR-Code SAM-SNG-059 has 2 different manual measurements\n",
      "   Target [78.8, 8.6] with 0 JPGs and 32 PCDs.\n",
      "   Target [78.8, 8.8] with 0 JPGs and 60 PCDs.\n",
      "QR-Code SAM-SNG-097 has 1 different manual measurements\n",
      "   Target [89.3, 10.9] with 0 JPGs and 52 PCDs.\n",
      "QR-Code SAM-GOV-049 has 2 different manual measurements\n",
      "   Target [96.4, 11.9] with 0 JPGs and 22 PCDs.\n",
      "   Target [95.4, 11.9] with 0 JPGs and 22 PCDs.\n",
      "QR-Code SAM-SNG-083 has 1 different manual measurements\n",
      "   Target [102.1, 14.3] with 0 JPGs and 34 PCDs.\n",
      "QR-Code SAM-GOV-066 has 1 different manual measurements\n",
      "   Target [62.2, 5.8] with 0 JPGs and 38 PCDs.\n",
      "QR-Code SAM-GOV-088 has 1 different manual measurements\n",
      "   Target [57.8, 5.7] with 0 JPGs and 39 PCDs.\n",
      "QR-Code SAM-SNG-075 has 1 different manual measurements\n",
      "   Target [92.7, 9.6] with 0 JPGs and 14 PCDs.\n",
      "QR-Code SAM-GOV-051 has 1 different manual measurements\n",
      "   Target [75.3, 7.3] with 0 JPGs and 40 PCDs.\n",
      "QR-Code SAM-GOV-033 has 1 different manual measurements\n",
      "   Target [68.7, 6.4] with 0 JPGs and 57 PCDs.\n",
      "QR-Code SAM-SNG-076 has 1 different manual measurements\n",
      "   Target [80, 8.9] with 0 JPGs and 37 PCDs.\n",
      "QR-Code SAM-GOV-067 has 1 different manual measurements\n",
      "   Target [61.6, 5.2] with 0 JPGs and 34 PCDs.\n",
      "QR-Code SAM-GOV-042 has 1 different manual measurements\n",
      "   Target [96, 12.7] with 0 JPGs and 40 PCDs.\n",
      "QR-Code SAM-SNG-012 has 1 different manual measurements\n",
      "   Target [67, 6.9] with 0 JPGs and 0 PCDs.\n",
      "QR-Code SAM-GOV-034 has 1 different manual measurements\n",
      "   Target [84.8, 11.1] with 0 JPGs and 64 PCDs.\n",
      "QR-Code SAM-GOV-035 has 1 different manual measurements\n",
      "   Target [70.1, 7.1] with 0 JPGs and 38 PCDs.\n",
      "QR-Code SAM-SNG-070 has 1 different manual measurements\n",
      "   Target [66.4, 5.6] with 0 JPGs and 53 PCDs.\n",
      "QR-Code SAM-GOV-023 has 1 different manual measurements\n",
      "   Target [69.5, 6.5] with 0 JPGs and 50 PCDs.\n",
      "QR-Code SAM-GOV-054 has 2 different manual measurements\n",
      "   Target [93.5, 11.2] with 0 JPGs and 94 PCDs.\n",
      "   Target [93.4, 10.8] with 0 JPGs and 24 PCDs.\n",
      "QR-Code SAM-GOV-052 has 1 different manual measurements\n",
      "   Target [80.3, 9.3] with 0 JPGs and 33 PCDs.\n",
      "QR-Code SAM-GOV-037 has 1 different manual measurements\n",
      "   Target [65.3, 6.1] with 0 JPGs and 51 PCDs.\n",
      "QR-Code SAM-GOV-089 has 1 different manual measurements\n",
      "   Target [96.6, 12.2] with 0 JPGs and 31 PCDs.\n",
      "QR-Code SAM-SNG-095 has 2 different manual measurements\n",
      "   Target [87.7, 10.6] with 0 JPGs and 72 PCDs.\n",
      "   Target [87.7, 10.9] with 0 JPGs and 49 PCDs.\n",
      "QR-Code SAM-SNG-081 has 1 different manual measurements\n",
      "   Target [78.6, 8.1] with 0 JPGs and 75 PCDs.\n",
      "QR-Code SAM-SNG-099 has 1 different manual measurements\n",
      "   Target [75.2, 8.2] with 0 JPGs and 17 PCDs.\n",
      "QR-Code SAM-SNG-061 has 1 different manual measurements\n",
      "   Target [79, 8.5] with 0 JPGs and 74 PCDs.\n",
      "QR-Code SAM-GOV-038 has 1 different manual measurements\n",
      "   Target [67.2, 7.6] with 0 JPGs and 40 PCDs.\n",
      "QR-Code SAM-GOV-041 has 1 different manual measurements\n",
      "   Target [68.2, 7.1] with 0 JPGs and 48 PCDs.\n",
      "QR-Code SAM-GOV-073 has 1 different manual measurements\n",
      "   Target [63.5, 6] with 0 JPGs and 0 PCDs.\n",
      "QR-Code SAM-SNG-098 has 2 different manual measurements\n",
      "   Target [81.7, 8.8] with 0 JPGs and 149 PCDs.\n",
      "   Target [81.7, 8.7] with 0 JPGs and 119 PCDs.\n",
      "QR-Code SAM-GOV-090 has 1 different manual measurements\n",
      "   Target [68.1, 6.4] with 0 JPGs and 47 PCDs.\n",
      "QR-Code SAM-SNG-086 has 1 different manual measurements\n",
      "   Target [86.5, 9.7] with 0 JPGs and 41 PCDs.\n",
      "QR-Code SAM-SNG-096 has 2 different manual measurements\n",
      "   Target [100.3, 12.4] with 0 JPGs and 21 PCDs.\n",
      "   Target [100.3, 12.5] with 0 JPGs and 0 PCDs.\n",
      "QR-Code SAM-SNG-085 has 1 different manual measurements\n",
      "   Target [92.2, 10.8] with 0 JPGs and 53 PCDs.\n",
      "QR-Code SAM-SNG-067 has 1 different manual measurements\n",
      "   Target [78, 8.3] with 0 JPGs and 40 PCDs.\n",
      "QR-Code SAM-SNG-011 has 1 different manual measurements\n",
      "   Target [71, 6.2] with 0 JPGs and 0 PCDs.\n",
      "QR-Code SAM-GOV-043 has 1 different manual measurements\n",
      "   Target [69.3, 7.6] with 0 JPGs and 56 PCDs.\n",
      "QR-Code SAM-SNG-014 has 2 different manual measurements\n",
      "   Target [82.3, 8.9] with 0 JPGs and 0 PCDs.\n",
      "   Target [82.3, 8.7] with 0 JPGs and 73 PCDs.\n",
      "QR-Code SAM-GOV-069 has 1 different manual measurements\n",
      "   Target [73.5, 8.1] with 0 JPGs and 0 PCDs.\n",
      "QR-Code SAM-GOV-013 has 1 different manual measurements\n",
      "   Target [63, 6.1] with 0 JPGs and 42 PCDs.\n",
      "QR-Code SAM-SNG-084 has 2 different manual measurements\n",
      "   Target [86, 10] with 0 JPGs and 42 PCDs.\n",
      "   Target [86, 10.1] with 0 JPGs and 50 PCDs.\n",
      "QR-Code SAM-SNG-087 has 2 different manual measurements\n",
      "   Target [90.4, 9.8] with 0 JPGs and 71 PCDs.\n",
      "   Target [88.5, 10] with 0 JPGs and 61 PCDs.\n",
      "QR-Code SAM-GOV-002 has 1 different manual measurements\n",
      "   Target [67.2, 6.2] with 0 JPGs and 46 PCDs.\n",
      "QR-Code SAM-GOV-050 has 1 different manual measurements\n",
      "   Target [97.4, 11.3] with 0 JPGs and 63 PCDs.\n",
      "QR-Code SAM-GOV-046 has 1 different manual measurements\n",
      "   Target [76, 7.2] with 0 JPGs and 0 PCDs.\n",
      "QR-Code SAM-GOV-011 has 1 different manual measurements\n",
      "   Target [85.5, 10.8] with 0 JPGs and 51 PCDs.\n",
      "QR-Code SAM-GOV-064 has 1 different manual measurements\n",
      "   Target [98.2, 11.6] with 0 JPGs and 39 PCDs.\n",
      "QR-Code SAM-SNG-015 has 1 different manual measurements\n",
      "   Target [89.5, 10.5] with 0 JPGs and 0 PCDs.\n",
      "QR-Code SAM-GOV-005 has 1 different manual measurements\n",
      "   Target [76.5, 8.4] with 0 JPGs and 77 PCDs.\n",
      "QR-Code SAM-GOV-063 has 1 different manual measurements\n",
      "   Target [72.4, 9.1] with 0 JPGs and 35 PCDs.\n",
      "QR-Code SAM-GOV-044 has 1 different manual measurements\n",
      "   Target [64.9, 7.9] with 0 JPGs and 45 PCDs.\n",
      "QR-Code SAM-GOV-012 has 1 different manual measurements\n",
      "   Target [77.1, 8.1] with 0 JPGs and 46 PCDs.\n",
      "QR-Code SAM-SNG-091 has 1 different manual measurements\n",
      "   Target [68.5, 6] with 0 JPGs and 0 PCDs.\n",
      "QR-Code SAM-GOV-008 has 1 different manual measurements\n",
      "   Target [73.7, 7.1] with 0 JPGs and 55 PCDs.\n",
      "QR-Code SAM-SNG-074 has 1 different manual measurements\n",
      "   Target [77.5, 8.3] with 0 JPGs and 41 PCDs.\n",
      "QR-Code SAM-SNG-036 has 1 different manual measurements\n",
      "   Target [78, 7.9] with 0 JPGs and 24 PCDs.\n",
      "QR-Code SAM-SNG-069 has 1 different manual measurements\n",
      "   Target [91.7, 10.9] with 0 JPGs and 0 PCDs.\n",
      "QR-Code SAM-GOV-099 has 1 different manual measurements\n",
      "   Target [89.3, 10.8] with 0 JPGs and 35 PCDs.\n",
      "QR-Code SAM-SNG-021 has 1 different manual measurements\n",
      "   Target [101.2, 13.6] with 0 JPGs and 0 PCDs.\n",
      "QR-Code SAM-SNG-016 has 1 different manual measurements\n",
      "   Target [95, 11.9] with 0 JPGs and 0 PCDs.\n",
      "QR-Code SAM-SNG-066 has 2 different manual measurements\n",
      "   Target [89.4, 9.9] with 0 JPGs and 36 PCDs.\n",
      "   Target [89.4, 10.2] with 0 JPGs and 0 PCDs.\n",
      "\n",
      "QR-Codes for training: SAM-GOV-001 SAM-GOV-004 SAM-GOV-005 SAM-GOV-008 SAM-GOV-011 SAM-GOV-013 SAM-GOV-014 SAM-GOV-023 SAM-GOV-025 SAM-GOV-026 SAM-GOV-033 SAM-GOV-034 SAM-GOV-035 SAM-GOV-037 SAM-GOV-038 SAM-GOV-042 SAM-GOV-043 SAM-GOV-044 SAM-GOV-045 SAM-GOV-046 SAM-GOV-049 SAM-GOV-050 SAM-GOV-051 SAM-GOV-052 SAM-GOV-054 SAM-GOV-063 SAM-GOV-064 SAM-GOV-066 SAM-GOV-067 SAM-GOV-068 SAM-GOV-069 SAM-GOV-073 SAM-GOV-089 SAM-GOV-090 SAM-GOV-099 SAM-SNG-011 SAM-SNG-013 SAM-SNG-014 SAM-SNG-015 SAM-SNG-016 SAM-SNG-018 SAM-SNG-059 SAM-SNG-061 SAM-SNG-066 SAM-SNG-067 SAM-SNG-068 SAM-SNG-070 SAM-SNG-075 SAM-SNG-076 SAM-SNG-081 SAM-SNG-083 SAM-SNG-085 SAM-SNG-086 SAM-SNG-088 SAM-SNG-091 SAM-SNG-095 SAM-SNG-096 SAM-SNG-097 SAM-SNG-098 SAM-SNG-099\n",
      "\n",
      "QR-Codes for testing: SAM-GOV-002 SAM-GOV-012 SAM-GOV-036 SAM-GOV-041 SAM-GOV-087 SAM-GOV-088 SAM-SNG-012 SAM-SNG-021 SAM-SNG-036 SAM-SNG-069 SAM-SNG-072 SAM-SNG-073 SAM-SNG-074 SAM-SNG-084 SAM-SNG-087\n",
      "\n",
      "Generating training data...\n"
     ]
    },
    {
     "name": "stdout",
     "output_type": "stream",
     "text": [
      "Generating using QR-codes: ['SAM-GOV-001', 'SAM-GOV-004', 'SAM-GOV-005', 'SAM-GOV-008', 'SAM-GOV-011', 'SAM-GOV-013', 'SAM-GOV-014', 'SAM-GOV-023', 'SAM-GOV-025', 'SAM-GOV-026', 'SAM-GOV-033', 'SAM-GOV-034', 'SAM-GOV-035', 'SAM-GOV-037', 'SAM-GOV-038', 'SAM-GOV-042', 'SAM-GOV-043', 'SAM-GOV-044', 'SAM-GOV-045', 'SAM-GOV-046', 'SAM-GOV-049', 'SAM-GOV-050', 'SAM-GOV-051', 'SAM-GOV-052', 'SAM-GOV-054', 'SAM-GOV-063', 'SAM-GOV-064', 'SAM-GOV-066', 'SAM-GOV-067', 'SAM-GOV-068', 'SAM-GOV-069', 'SAM-GOV-073', 'SAM-GOV-089', 'SAM-GOV-090', 'SAM-GOV-099', 'SAM-SNG-011', 'SAM-SNG-013', 'SAM-SNG-014', 'SAM-SNG-015', 'SAM-SNG-016', 'SAM-SNG-018', 'SAM-SNG-059', 'SAM-SNG-061', 'SAM-SNG-066', 'SAM-SNG-067', 'SAM-SNG-068', 'SAM-SNG-070', 'SAM-SNG-075', 'SAM-SNG-076', 'SAM-SNG-081', 'SAM-SNG-083', 'SAM-SNG-085', 'SAM-SNG-086', 'SAM-SNG-088', 'SAM-SNG-091', 'SAM-SNG-095', 'SAM-SNG-096', 'SAM-SNG-097', 'SAM-SNG-098', 'SAM-SNG-099']\n",
      "Generating using QR-codes: ['SAM-GOV-001', 'SAM-GOV-004', 'SAM-GOV-005', 'SAM-GOV-008', 'SAM-GOV-011', 'SAM-GOV-013', 'SAM-GOV-014', 'SAM-GOV-023', 'SAM-GOV-025', 'SAM-GOV-026', 'SAM-GOV-033', 'SAM-GOV-034', 'SAM-GOV-035', 'SAM-GOV-037', 'SAM-GOV-038', 'SAM-GOV-042', 'SAM-GOV-043', 'SAM-GOV-044', 'SAM-GOV-045', 'SAM-GOV-046', 'SAM-GOV-049', 'SAM-GOV-050', 'SAM-GOV-051', 'SAM-GOV-052', 'SAM-GOV-054', 'SAM-GOV-063', 'SAM-GOV-064', 'SAM-GOV-066', 'SAM-GOV-067', 'SAM-GOV-068', 'SAM-GOV-069', 'SAM-GOV-073', 'SAM-GOV-089', 'SAM-GOV-090', 'SAM-GOV-099', 'SAM-SNG-011', 'SAM-SNG-013', 'SAM-SNG-014', 'SAM-SNG-015', 'SAM-SNG-016', 'SAM-SNG-018', 'SAM-SNG-059', 'SAM-SNG-061', 'SAM-SNG-066', 'SAM-SNG-067', 'SAM-SNG-068', 'SAM-SNG-070', 'SAM-SNG-075', 'SAM-SNG-076', 'SAM-SNG-081', 'SAM-SNG-083', 'SAM-SNG-085', 'SAM-SNG-086', 'SAM-SNG-088', 'SAM-SNG-091', 'SAM-SNG-095', 'SAM-SNG-096', 'SAM-SNG-097', 'SAM-SNG-098', 'SAM-SNG-099']\n",
      "Generating using QR-codes: ['SAM-GOV-001', 'SAM-GOV-004', 'SAM-GOV-005', 'SAM-GOV-008', 'SAM-GOV-011', 'SAM-GOV-013', 'SAM-GOV-014', 'SAM-GOV-023', 'SAM-GOV-025', 'SAM-GOV-026', 'SAM-GOV-033', 'SAM-GOV-034', 'SAM-GOV-035', 'SAM-GOV-037', 'SAM-GOV-038', 'SAM-GOV-042', 'SAM-GOV-043', 'SAM-GOV-044', 'SAM-GOV-045', 'SAM-GOV-046', 'SAM-GOV-049', 'SAM-GOV-050', 'SAM-GOV-051', 'SAM-GOV-052', 'SAM-GOV-054', 'SAM-GOV-063', 'SAM-GOV-064', 'SAM-GOV-066', 'SAM-GOV-067', 'SAM-GOV-068', 'SAM-GOV-069', 'SAM-GOV-073', 'SAM-GOV-089', 'SAM-GOV-090', 'SAM-GOV-099', 'SAM-SNG-011', 'SAM-SNG-013', 'SAM-SNG-014', 'SAM-SNG-015', 'SAM-SNG-016', 'SAM-SNG-018', 'SAM-SNG-059', 'SAM-SNG-061', 'SAM-SNG-066', 'SAM-SNG-067', 'SAM-SNG-068', 'SAM-SNG-070', 'SAM-SNG-075', 'SAM-SNG-076', 'SAM-SNG-081', 'SAM-SNG-083', 'SAM-SNG-085', 'SAM-SNG-086', 'SAM-SNG-088', 'SAM-SNG-091', 'SAM-SNG-095', 'SAM-SNG-096', 'SAM-SNG-097', 'SAM-SNG-098', 'SAM-SNG-099']\n",
      "Generating using QR-codes: ['SAM-GOV-001', 'SAM-GOV-004', 'SAM-GOV-005', 'SAM-GOV-008', 'SAM-GOV-011', 'SAM-GOV-013', 'SAM-GOV-014', 'SAM-GOV-023', 'SAM-GOV-025', 'SAM-GOV-026', 'SAM-GOV-033', 'SAM-GOV-034', 'SAM-GOV-035', 'SAM-GOV-037', 'SAM-GOV-038', 'SAM-GOV-042', 'SAM-GOV-043', 'SAM-GOV-044', 'SAM-GOV-045', 'SAM-GOV-046', 'SAM-GOV-049', 'SAM-GOV-050', 'SAM-GOV-051', 'SAM-GOV-052', 'SAM-GOV-054', 'SAM-GOV-063', 'SAM-GOV-064', 'SAM-GOV-066', 'SAM-GOV-067', 'SAM-GOV-068', 'SAM-GOV-069', 'SAM-GOV-073', 'SAM-GOV-089', 'SAM-GOV-090', 'SAM-GOV-099', 'SAM-SNG-011', 'SAM-SNG-013', 'SAM-SNG-014', 'SAM-SNG-015', 'SAM-SNG-016', 'SAM-SNG-018', 'SAM-SNG-059', 'SAM-SNG-061', 'SAM-SNG-066', 'SAM-SNG-067', 'SAM-SNG-068', 'SAM-SNG-070', 'SAM-SNG-075', 'SAM-SNG-076', 'SAM-SNG-081', 'SAM-SNG-083', 'SAM-SNG-085', 'SAM-SNG-086', 'SAM-SNG-088', 'SAM-SNG-091', 'SAM-SNG-095', 'SAM-SNG-096', 'SAM-SNG-097', 'SAM-SNG-098', 'SAM-SNG-099']\n",
      "Generating using QR-codes: ['SAM-GOV-001', 'SAM-GOV-004', 'SAM-GOV-005', 'SAM-GOV-008', 'SAM-GOV-011', 'SAM-GOV-013', 'SAM-GOV-014', 'SAM-GOV-023', 'SAM-GOV-025', 'SAM-GOV-026', 'SAM-GOV-033', 'SAM-GOV-034', 'SAM-GOV-035', 'SAM-GOV-037', 'SAM-GOV-038', 'SAM-GOV-042', 'SAM-GOV-043', 'SAM-GOV-044', 'SAM-GOV-045', 'SAM-GOV-046', 'SAM-GOV-049', 'SAM-GOV-050', 'SAM-GOV-051', 'SAM-GOV-052', 'SAM-GOV-054', 'SAM-GOV-063', 'SAM-GOV-064', 'SAM-GOV-066', 'SAM-GOV-067', 'SAM-GOV-068', 'SAM-GOV-069', 'SAM-GOV-073', 'SAM-GOV-089', 'SAM-GOV-090', 'SAM-GOV-099', 'SAM-SNG-011', 'SAM-SNG-013', 'SAM-SNG-014', 'SAM-SNG-015', 'SAM-SNG-016', 'SAM-SNG-018', 'SAM-SNG-059', 'SAM-SNG-061', 'SAM-SNG-066', 'SAM-SNG-067', 'SAM-SNG-068', 'SAM-SNG-070', 'SAM-SNG-075', 'SAM-SNG-076', 'SAM-SNG-081', 'SAM-SNG-083', 'SAM-SNG-085', 'SAM-SNG-086', 'SAM-SNG-088', 'SAM-SNG-091', 'SAM-SNG-095', 'SAM-SNG-096', 'SAM-SNG-097', 'SAM-SNG-098', 'SAM-SNG-099']\n",
      "Generating using QR-codes: ['SAM-GOV-001', 'SAM-GOV-004', 'SAM-GOV-005', 'SAM-GOV-008', 'SAM-GOV-011', 'SAM-GOV-013', 'SAM-GOV-014', 'SAM-GOV-023', 'SAM-GOV-025', 'SAM-GOV-026', 'SAM-GOV-033', 'SAM-GOV-034', 'SAM-GOV-035', 'SAM-GOV-037', 'SAM-GOV-038', 'SAM-GOV-042', 'SAM-GOV-043', 'SAM-GOV-044', 'SAM-GOV-045', 'SAM-GOV-046', 'SAM-GOV-049', 'SAM-GOV-050', 'SAM-GOV-051', 'SAM-GOV-052', 'SAM-GOV-054', 'SAM-GOV-063', 'SAM-GOV-064', 'SAM-GOV-066', 'SAM-GOV-067', 'SAM-GOV-068', 'SAM-GOV-069', 'SAM-GOV-073', 'SAM-GOV-089', 'SAM-GOV-090', 'SAM-GOV-099', 'SAM-SNG-011', 'SAM-SNG-013', 'SAM-SNG-014', 'SAM-SNG-015', 'SAM-SNG-016', 'SAM-SNG-018', 'SAM-SNG-059', 'SAM-SNG-061', 'SAM-SNG-066', 'SAM-SNG-067', 'SAM-SNG-068', 'SAM-SNG-070', 'SAM-SNG-075', 'SAM-SNG-076', 'SAM-SNG-081', 'SAM-SNG-083', 'SAM-SNG-085', 'SAM-SNG-086', 'SAM-SNG-088', 'SAM-SNG-091', 'SAM-SNG-095', 'SAM-SNG-096', 'SAM-SNG-097', 'SAM-SNG-098', 'SAM-SNG-099']\n",
      "Generating using QR-codes: ['SAM-GOV-001', 'SAM-GOV-004', 'SAM-GOV-005', 'SAM-GOV-008', 'SAM-GOV-011', 'SAM-GOV-013', 'SAM-GOV-014', 'SAM-GOV-023', 'SAM-GOV-025', 'SAM-GOV-026', 'SAM-GOV-033', 'SAM-GOV-034', 'SAM-GOV-035', 'SAM-GOV-037', 'SAM-GOV-038', 'SAM-GOV-042', 'SAM-GOV-043', 'SAM-GOV-044', 'SAM-GOV-045', 'SAM-GOV-046', 'SAM-GOV-049', 'SAM-GOV-050', 'SAM-GOV-051', 'SAM-GOV-052', 'SAM-GOV-054', 'SAM-GOV-063', 'SAM-GOV-064', 'SAM-GOV-066', 'SAM-GOV-067', 'SAM-GOV-068', 'SAM-GOV-069', 'SAM-GOV-073', 'SAM-GOV-089', 'SAM-GOV-090', 'SAM-GOV-099', 'SAM-SNG-011', 'SAM-SNG-013', 'SAM-SNG-014', 'SAM-SNG-015', 'SAM-SNG-016', 'SAM-SNG-018', 'SAM-SNG-059', 'SAM-SNG-061', 'SAM-SNG-066', 'SAM-SNG-067', 'SAM-SNG-068', 'SAM-SNG-070', 'SAM-SNG-075', 'SAM-SNG-076', 'SAM-SNG-081', 'SAM-SNG-083', 'SAM-SNG-085', 'SAM-SNG-086', 'SAM-SNG-088', 'SAM-SNG-091', 'SAM-SNG-095', 'SAM-SNG-096', 'SAM-SNG-097', 'SAM-SNG-098', 'SAM-SNG-099']\n",
      "Generating using QR-codes: ['SAM-GOV-001', 'SAM-GOV-004', 'SAM-GOV-005', 'SAM-GOV-008', 'SAM-GOV-011', 'SAM-GOV-013', 'SAM-GOV-014', 'SAM-GOV-023', 'SAM-GOV-025', 'SAM-GOV-026', 'SAM-GOV-033', 'SAM-GOV-034', 'SAM-GOV-035', 'SAM-GOV-037', 'SAM-GOV-038', 'SAM-GOV-042', 'SAM-GOV-043', 'SAM-GOV-044', 'SAM-GOV-045', 'SAM-GOV-046', 'SAM-GOV-049', 'SAM-GOV-050', 'SAM-GOV-051', 'SAM-GOV-052', 'SAM-GOV-054', 'SAM-GOV-063', 'SAM-GOV-064', 'SAM-GOV-066', 'SAM-GOV-067', 'SAM-GOV-068', 'SAM-GOV-069', 'SAM-GOV-073', 'SAM-GOV-089', 'SAM-GOV-090', 'SAM-GOV-099', 'SAM-SNG-011', 'SAM-SNG-013', 'SAM-SNG-014', 'SAM-SNG-015', 'SAM-SNG-016', 'SAM-SNG-018', 'SAM-SNG-059', 'SAM-SNG-061', 'SAM-SNG-066', 'SAM-SNG-067', 'SAM-SNG-068', 'SAM-SNG-070', 'SAM-SNG-075', 'SAM-SNG-076', 'SAM-SNG-081', 'SAM-SNG-083', 'SAM-SNG-085', 'SAM-SNG-086', 'SAM-SNG-088', 'SAM-SNG-091', 'SAM-SNG-095', 'SAM-SNG-096', 'SAM-SNG-097', 'SAM-SNG-098', 'SAM-SNG-099']\n"
     ]
    },
    {
     "name": "stderr",
     "output_type": "stream",
     "text": [
      "  2% (15 of 750) |                       | Elapsed Time: 0:00:10 ETA:   0:09:18"
     ]
    },
    {
     "name": "stdout",
     "output_type": "stream",
     "text": [
      "Wrong number of columns at line 25919\n"
     ]
    },
    {
     "name": "stderr",
     "output_type": "stream",
     "text": [
      "  4% (34 of 750) |#                      | Elapsed Time: 0:00:24 ETA:   0:10:59"
     ]
    },
    {
     "name": "stdout",
     "output_type": "stream",
     "text": [
      "Wrong number of columns at line 26553\n"
     ]
    },
    {
     "name": "stderr",
     "output_type": "stream",
     "text": [
      " 12% (94 of 750) |##                     | Elapsed Time: 0:01:12 ETA:   0:08:52"
     ]
    },
    {
     "name": "stdout",
     "output_type": "stream",
     "text": [
      "Wrong number of columns at line 25977\n"
     ]
    },
    {
     "name": "stderr",
     "output_type": "stream",
     "text": [
      " 14% (105 of 750) |###                   | Elapsed Time: 0:01:21 ETA:   0:09:05"
     ]
    },
    {
     "name": "stdout",
     "output_type": "stream",
     "text": [
      "Wrong number of columns at line 26526\n"
     ]
    },
    {
     "name": "stderr",
     "output_type": "stream",
     "text": [
      " 14% (112 of 750) |###                   | Elapsed Time: 0:01:26 ETA:   0:08:32"
     ]
    },
    {
     "name": "stdout",
     "output_type": "stream",
     "text": [
      "Wrong number of columns at line 33593\n"
     ]
    },
    {
     "name": "stderr",
     "output_type": "stream",
     "text": [
      " 18% (136 of 750) |###                   | Elapsed Time: 0:01:46 ETA:   0:08:31"
     ]
    },
    {
     "name": "stdout",
     "output_type": "stream",
     "text": [
      "Wrong number of columns at line 25977\n"
     ]
    },
    {
     "name": "stderr",
     "output_type": "stream",
     "text": [
      " 19% (146 of 750) |####                  | Elapsed Time: 0:01:53 ETA:   0:07:57"
     ]
    },
    {
     "name": "stdout",
     "output_type": "stream",
     "text": [
      "Wrong number of columns at line 25021\n"
     ]
    },
    {
     "name": "stderr",
     "output_type": "stream",
     "text": [
      "\r",
      "                                                                               \r",
      "\r",
      " 19% (145 of 750) |####                  | Elapsed Time: 0:01:53 ETA:   0:07:49"
     ]
    },
    {
     "name": "stdout",
     "output_type": "stream",
     "text": [
      "Wrong number of columns at line 26736\n"
     ]
    },
    {
     "name": "stderr",
     "output_type": "stream",
     "text": [
      " 23% (174 of 750) |#####                 | Elapsed Time: 0:02:16 ETA:   0:07:23"
     ]
    },
    {
     "name": "stdout",
     "output_type": "stream",
     "text": [
      "Wrong number of columns at line 25919\n"
     ]
    },
    {
     "name": "stderr",
     "output_type": "stream",
     "text": [
      " 25% (193 of 750) |#####                 | Elapsed Time: 0:02:32 ETA:   0:09:45"
     ]
    },
    {
     "name": "stdout",
     "output_type": "stream",
     "text": [
      "Wrong number of columns at line 26769\n"
     ]
    },
    {
     "name": "stderr",
     "output_type": "stream",
     "text": [
      " 30% (227 of 750) |######                | Elapsed Time: 0:03:04 ETA:   0:07:26"
     ]
    },
    {
     "name": "stdout",
     "output_type": "stream",
     "text": [
      "Wrong number of columns at line 26065\n"
     ]
    },
    {
     "name": "stderr",
     "output_type": "stream",
     "text": [
      " 30% (231 of 750) |######                | Elapsed Time: 0:03:07 ETA:   0:07:22"
     ]
    },
    {
     "name": "stdout",
     "output_type": "stream",
     "text": [
      "Wrong number of columns at line 33593\n"
     ]
    },
    {
     "name": "stderr",
     "output_type": "stream",
     "text": [
      " 30% (232 of 750) |######                | Elapsed Time: 0:03:09 ETA:   0:09:38"
     ]
    },
    {
     "name": "stdout",
     "output_type": "stream",
     "text": [
      "Wrong number of columns at line 26553\n"
     ]
    },
    {
     "name": "stderr",
     "output_type": "stream",
     "text": [
      " 31% (234 of 750) |######                | Elapsed Time: 0:03:11 ETA:   0:06:59"
     ]
    },
    {
     "name": "stdout",
     "output_type": "stream",
     "text": [
      "Wrong number of columns at line 26769\n"
     ]
    },
    {
     "name": "stderr",
     "output_type": "stream",
     "text": [
      " 32% (242 of 750) |#######               | Elapsed Time: 0:03:15 ETA:   0:07:01"
     ]
    },
    {
     "name": "stdout",
     "output_type": "stream",
     "text": [
      "Wrong number of columns at line 25977\n"
     ]
    },
    {
     "name": "stderr",
     "output_type": "stream",
     "text": [
      " 35% (266 of 750) |#######               | Elapsed Time: 0:03:36 ETA:   0:07:14"
     ]
    },
    {
     "name": "stdout",
     "output_type": "stream",
     "text": [
      "Wrong number of columns at line 26636\n"
     ]
    },
    {
     "name": "stderr",
     "output_type": "stream",
     "text": [
      " 36% (276 of 750) |########              | Elapsed Time: 0:03:44 ETA:   0:06:17"
     ]
    },
    {
     "name": "stdout",
     "output_type": "stream",
     "text": [
      "Wrong number of columns at line 26736\n"
     ]
    },
    {
     "name": "stderr",
     "output_type": "stream",
     "text": [
      " 46% (350 of 750) |##########            | Elapsed Time: 0:04:44 ETA:   0:05:13"
     ]
    },
    {
     "name": "stdout",
     "output_type": "stream",
     "text": [
      "Wrong number of columns at line 26650\n"
     ]
    },
    {
     "name": "stderr",
     "output_type": "stream",
     "text": [
      " 47% (358 of 750) |##########            | Elapsed Time: 0:04:51 ETA:   0:05:19"
     ]
    },
    {
     "name": "stdout",
     "output_type": "stream",
     "text": [
      "Wrong number of columns at line 26736\n"
     ]
    },
    {
     "name": "stderr",
     "output_type": "stream",
     "text": [
      " 51% (385 of 750) |###########           | Elapsed Time: 0:05:12 ETA:   0:04:52"
     ]
    },
    {
     "name": "stdout",
     "output_type": "stream",
     "text": [
      "Wrong number of columns at line 26553\n"
     ]
    },
    {
     "name": "stderr",
     "output_type": "stream",
     "text": [
      " 53% (401 of 750) |###########           | Elapsed Time: 0:05:25 ETA:   0:04:57"
     ]
    },
    {
     "name": "stdout",
     "output_type": "stream",
     "text": [
      "Wrong number of columns at line 26769\n"
     ]
    },
    {
     "name": "stderr",
     "output_type": "stream",
     "text": [
      " 53% (404 of 750) |###########           | Elapsed Time: 0:05:27 ETA:   0:04:41"
     ]
    },
    {
     "name": "stdout",
     "output_type": "stream",
     "text": [
      "Wrong number of columns at line 26553\n"
     ]
    },
    {
     "name": "stderr",
     "output_type": "stream",
     "text": [
      " 53% (401 of 750) |###########           | Elapsed Time: 0:05:28 ETA:   0:05:49"
     ]
    },
    {
     "name": "stdout",
     "output_type": "stream",
     "text": [
      "Wrong number of columns at line 33561\n"
     ]
    },
    {
     "name": "stderr",
     "output_type": "stream",
     "text": [
      " 57% (431 of 750) |############          | Elapsed Time: 0:05:51 ETA:   0:04:30"
     ]
    },
    {
     "name": "stdout",
     "output_type": "stream",
     "text": [
      "Wrong number of columns at line 25919\n"
     ]
    },
    {
     "name": "stderr",
     "output_type": "stream",
     "text": [
      " 61% (463 of 750) |#############         | Elapsed Time: 0:06:16 ETA:   0:04:02"
     ]
    },
    {
     "name": "stdout",
     "output_type": "stream",
     "text": [
      "Wrong number of columns at line 26736\n"
     ]
    },
    {
     "name": "stderr",
     "output_type": "stream",
     "text": [
      " 68% (510 of 750) |##############        | Elapsed Time: 0:06:55 ETA:   0:03:12"
     ]
    },
    {
     "name": "stdout",
     "output_type": "stream",
     "text": [
      "Wrong number of columns at line 33593\n"
     ]
    },
    {
     "name": "stderr",
     "output_type": "stream",
     "text": [
      " 72% (540 of 750) |###############       | Elapsed Time: 0:07:23 ETA:   0:02:42"
     ]
    },
    {
     "name": "stdout",
     "output_type": "stream",
     "text": [
      "Wrong number of columns at line 33683\n"
     ]
    },
    {
     "name": "stderr",
     "output_type": "stream",
     "text": [
      " 73% (549 of 750) |################      | Elapsed Time: 0:07:28 ETA:   0:02:37"
     ]
    },
    {
     "name": "stdout",
     "output_type": "stream",
     "text": [
      "Wrong number of columns at line 26736\n"
     ]
    },
    {
     "name": "stderr",
     "output_type": "stream",
     "text": [
      " 76% (572 of 750) |################      | Elapsed Time: 0:07:44 ETA:   0:02:26"
     ]
    },
    {
     "name": "stdout",
     "output_type": "stream",
     "text": [
      "Wrong number of columns at line 25919\n"
     ]
    },
    {
     "name": "stderr",
     "output_type": "stream",
     "text": [
      " 76% (574 of 750) |################      | Elapsed Time: 0:07:46 ETA:   0:02:22"
     ]
    },
    {
     "name": "stdout",
     "output_type": "stream",
     "text": [
      "Wrong number of columns at line 26636\n"
     ]
    },
    {
     "name": "stderr",
     "output_type": "stream",
     "text": [
      " 78% (586 of 750) |#################     | Elapsed Time: 0:07:55 ETA:   0:02:07"
     ]
    },
    {
     "name": "stdout",
     "output_type": "stream",
     "text": [
      "Wrong number of columns at line 26736\n"
     ]
    },
    {
     "name": "stderr",
     "output_type": "stream",
     "text": [
      " 80% (600 of 750) |#################     | Elapsed Time: 0:08:08 ETA:   0:02:06"
     ]
    },
    {
     "name": "stdout",
     "output_type": "stream",
     "text": [
      "Wrong number of columns at line 26650\n"
     ]
    },
    {
     "name": "stderr",
     "output_type": "stream",
     "text": [
      " 85% (643 of 750) |##################    | Elapsed Time: 0:08:45 ETA:   0:01:25"
     ]
    },
    {
     "name": "stdout",
     "output_type": "stream",
     "text": [
      "Wrong number of columns at line 26636\n"
     ]
    },
    {
     "name": "stderr",
     "output_type": "stream",
     "text": [
      " 86% (650 of 750) |###################   | Elapsed Time: 0:08:49 ETA:   0:01:16"
     ]
    },
    {
     "name": "stdout",
     "output_type": "stream",
     "text": [
      "Wrong number of columns at line 26736\n"
     ]
    },
    {
     "name": "stderr",
     "output_type": "stream",
     "text": [
      " 88% (666 of 750) |###################   | Elapsed Time: 0:09:05 ETA:   0:01:32"
     ]
    },
    {
     "name": "stdout",
     "output_type": "stream",
     "text": [
      "Wrong number of columns at line 26636\n"
     ]
    },
    {
     "name": "stderr",
     "output_type": "stream",
     "text": [
      " 91% (686 of 750) |####################  | Elapsed Time: 0:09:22 ETA:   0:00:49"
     ]
    },
    {
     "name": "stdout",
     "output_type": "stream",
     "text": [
      "Wrong number of columns at line 25021\n"
     ]
    },
    {
     "name": "stderr",
     "output_type": "stream",
     "text": [
      " 93% (704 of 750) |####################  | Elapsed Time: 0:09:33 ETA:   0:00:36"
     ]
    },
    {
     "name": "stdout",
     "output_type": "stream",
     "text": [
      "Wrong number of columns at line 33561\n"
     ]
    },
    {
     "name": "stderr",
     "output_type": "stream",
     "text": [
      " 94% (709 of 750) |####################  | Elapsed Time: 0:09:38 ETA:   0:00:32"
     ]
    },
    {
     "name": "stdout",
     "output_type": "stream",
     "text": [
      "Wrong number of columns at line 33561\n"
     ]
    },
    {
     "name": "stderr",
     "output_type": "stream",
     "text": [
      "100% (750 of 750) |######################| Elapsed Time: 0:10:09 Time:  0:10:09\n",
      "100% (750 of 750) |######################| Elapsed Time: 0:10:10 Time:  0:10:10\n",
      "100% (750 of 750) |######################| Elapsed Time: 0:10:11 Time:  0:10:11\n",
      "100% (750 of 750) |######################| Elapsed Time: 0:10:12 Time:  0:10:12\n",
      "100% (750 of 750) |######################| Elapsed Time: 0:10:12 Time:  0:10:12\n",
      "100% (750 of 750) |######################| Elapsed Time: 0:10:12 Time:  0:10:12\n",
      "100% (750 of 750) |######################| Elapsed Time: 0:10:12 Time:  0:10:12\n",
      "100% (750 of 750) |######################| Elapsed Time: 0:10:13 Time:  0:10:13\n"
     ]
    },
    {
     "name": "stdout",
     "output_type": "stream",
     "text": [
      "Generating testing data...\n",
      "Generating using QR-codes: ['SAM-GOV-002', 'SAM-GOV-012', 'SAM-GOV-036', 'SAM-GOV-041', 'SAM-GOV-087', 'SAM-GOV-088', 'SAM-SNG-012', 'SAM-SNG-021', 'SAM-SNG-036', 'SAM-SNG-069', 'SAM-SNG-072', 'SAM-SNG-073', 'SAM-SNG-074', 'SAM-SNG-084', 'SAM-SNG-087']\n",
      "Generating using QR-codes: ['SAM-GOV-002', 'SAM-GOV-012', 'SAM-GOV-036', 'SAM-GOV-041', 'SAM-GOV-087', 'SAM-GOV-088', 'SAM-SNG-012', 'SAM-SNG-021', 'SAM-SNG-036', 'SAM-SNG-069', 'SAM-SNG-072', 'SAM-SNG-073', 'SAM-SNG-074', 'SAM-SNG-084', 'SAM-SNG-087']\n",
      "Generating using QR-codes: ['SAM-GOV-002', 'SAM-GOV-012', 'SAM-GOV-036', 'SAM-GOV-041', 'SAM-GOV-087', 'SAM-GOV-088', 'SAM-SNG-012', 'SAM-SNG-021', 'SAM-SNG-036', 'SAM-SNG-069', 'SAM-SNG-072', 'SAM-SNG-073', 'SAM-SNG-074', 'SAM-SNG-084', 'SAM-SNG-087']\n",
      "Generating using QR-codes: ['SAM-GOV-002', 'SAM-GOV-012', 'SAM-GOV-036', 'SAM-GOV-041', 'SAM-GOV-087', 'SAM-GOV-088', 'SAM-SNG-012', 'SAM-SNG-021', 'SAM-SNG-036', 'SAM-SNG-069', 'SAM-SNG-072', 'SAM-SNG-073', 'SAM-SNG-074', 'SAM-SNG-084', 'SAM-SNG-087']\n",
      "Generating using QR-codes: ['SAM-GOV-002', 'SAM-GOV-012', 'SAM-GOV-036', 'SAM-GOV-041', 'SAM-GOV-087', 'SAM-GOV-088', 'SAM-SNG-012', 'SAM-SNG-021', 'SAM-SNG-036', 'SAM-SNG-069', 'SAM-SNG-072', 'SAM-SNG-073', 'SAM-SNG-074', 'SAM-SNG-084', 'SAM-SNG-087']\n",
      "Generating using QR-codes: ['SAM-GOV-002', 'SAM-GOV-012', 'SAM-GOV-036', 'SAM-GOV-041', 'SAM-GOV-087', 'SAM-GOV-088', 'SAM-SNG-012', 'SAM-SNG-021', 'SAM-SNG-036', 'SAM-SNG-069', 'SAM-SNG-072', 'SAM-SNG-073', 'SAM-SNG-074', 'SAM-SNG-084', 'SAM-SNG-087']\n",
      "Generating using QR-codes: ['SAM-GOV-002', 'SAM-GOV-012', 'SAM-GOV-036', 'SAM-GOV-041', 'SAM-GOV-087', 'SAM-GOV-088', 'SAM-SNG-012', 'SAM-SNG-021', 'SAM-SNG-036', 'SAM-SNG-069', 'SAM-SNG-072', 'SAM-SNG-073', 'SAM-SNG-074', 'SAM-SNG-084', 'SAM-SNG-087']\n",
      "Generating using QR-codes: ['SAM-GOV-002', 'SAM-GOV-012', 'SAM-GOV-036', 'SAM-GOV-041', 'SAM-GOV-087', 'SAM-GOV-088', 'SAM-SNG-012', 'SAM-SNG-021', 'SAM-SNG-036', 'SAM-SNG-069', 'SAM-SNG-072', 'SAM-SNG-073', 'SAM-SNG-074', 'SAM-SNG-084', 'SAM-SNG-087']\n"
     ]
    },
    {
     "name": "stderr",
     "output_type": "stream",
     "text": [
      "  1% (2 of 125) |                        | Elapsed Time: 0:00:01 ETA:   0:01:05"
     ]
    },
    {
     "name": "stdout",
     "output_type": "stream",
     "text": [
      "Wrong number of columns at line 26667\n"
     ]
    },
    {
     "name": "stderr",
     "output_type": "stream",
     "text": [
      "  5% (7 of 125) |#                       | Elapsed Time: 0:00:04 ETA:   0:01:21"
     ]
    },
    {
     "name": "stdout",
     "output_type": "stream",
     "text": [
      "Wrong number of columns at line 26667\n"
     ]
    },
    {
     "name": "stderr",
     "output_type": "stream",
     "text": [
      " 20% (26 of 125) |####                   | Elapsed Time: 0:00:20 ETA:   0:01:25"
     ]
    },
    {
     "name": "stdout",
     "output_type": "stream",
     "text": [
      "Wrong number of columns at line 26670\n"
     ]
    },
    {
     "name": "stderr",
     "output_type": "stream",
     "text": [
      " 31% (39 of 125) |#######                | Elapsed Time: 0:00:30 ETA:   0:01:10"
     ]
    },
    {
     "name": "stdout",
     "output_type": "stream",
     "text": [
      "Wrong number of columns at line 25616\n"
     ]
    },
    {
     "name": "stderr",
     "output_type": "stream",
     "text": [
      " 53% (67 of 125) |############           | Elapsed Time: 0:00:55 ETA:   0:00:51"
     ]
    },
    {
     "name": "stdout",
     "output_type": "stream",
     "text": [
      "Wrong number of columns at line 26051\n"
     ]
    },
    {
     "name": "stderr",
     "output_type": "stream",
     "text": [
      " 55% (69 of 125) |############           | Elapsed Time: 0:00:57 ETA:   0:00:47"
     ]
    },
    {
     "name": "stdout",
     "output_type": "stream",
     "text": [
      "Wrong number of columns at line 26222\n"
     ]
    },
    {
     "name": "stderr",
     "output_type": "stream",
     "text": [
      " 66% (83 of 125) |###############        | Elapsed Time: 0:01:09 ETA:   0:00:38"
     ]
    },
    {
     "name": "stdout",
     "output_type": "stream",
     "text": [
      "Wrong number of columns at line 26323\n"
     ]
    },
    {
     "name": "stderr",
     "output_type": "stream",
     "text": [
      " 69% (87 of 125) |################       | Elapsed Time: 0:01:13 ETA:   0:00:32"
     ]
    },
    {
     "name": "stdout",
     "output_type": "stream",
     "text": [
      "Wrong number of columns at line 26323\n"
     ]
    },
    {
     "name": "stderr",
     "output_type": "stream",
     "text": [
      "100% (125 of 125) |######################| Elapsed Time: 0:01:41 Time:  0:01:41\n",
      "100% (125 of 125) |######################| Elapsed Time: 0:01:41 Time:  0:01:41\n",
      "100% (125 of 125) |######################| Elapsed Time: 0:01:41 Time:  0:01:41\n",
      "100% (125 of 125) |######################| Elapsed Time: 0:01:41 Time:  0:01:41\n",
      "100% (125 of 125) |######################| Elapsed Time: 0:01:42 Time:  0:01:42\n",
      "100% (125 of 125) |######################| Elapsed Time: 0:01:42 Time:  0:01:42\n",
      "100% (125 of 125) |######################| Elapsed Time: 0:01:42 Time:  0:01:42\n",
      "100% (125 of 125) |######################| Elapsed Time: 0:01:42 Time:  0:01:42\n"
     ]
    },
    {
     "name": "stdout",
     "output_type": "stream",
     "text": [
      "Done.\n",
      "Saving dataset...\n",
      "Saved 20180807-1109-voxelgrid-dataset.p\n"
     ]
    }
   ],
   "source": [
    "for dataset_parameters in dataset_parameters_to_use:\n",
    "    \n",
    "    datagenerator = create_datagenerator(dataset_parameters)\n",
    "    dataset_train, dataset_test = split_and_generate(datagenerator, dataset_parameters)\n",
    "    save_dataset(dataset_train, dataset_test, dataset_parameters)    "
   ]
  },
  {
   "cell_type": "code",
   "execution_count": null,
   "metadata": {},
   "outputs": [],
   "source": []
  }
 ],
 "metadata": {
  "kernelspec": {
   "display_name": "Python 3",
   "language": "python",
   "name": "python3"
  },
  "language_info": {
   "codemirror_mode": {
    "name": "ipython",
    "version": 3
   },
   "file_extension": ".py",
   "mimetype": "text/x-python",
   "name": "python",
   "nbconvert_exporter": "python",
   "pygments_lexer": "ipython3",
   "version": "3.6.5"
  }
 },
 "nbformat": 4,
 "nbformat_minor": 2
}
