{
 "cells": [
  {
   "cell_type": "code",
   "execution_count": 1,
   "metadata": {},
   "outputs": [],
   "source": [
    "import warnings\n",
    "warnings.filterwarnings(\"ignore\")\n",
    "import dbutils\n",
    "\n",
    "main_connector = dbutils.connect_to_main_database()\n"
   ]
  },
  {
   "cell_type": "code",
   "execution_count": null,
   "metadata": {},
   "outputs": [],
   "source": [
    "sql_statement = \"SELECT * FROM artifacts_with_targets WHERE type='pcd';\"\n",
    "result = main_connector.execute(sql_statement, fetch_all=True)\n",
    "print(len(result), result[0:2])"
   ]
  },
  {
   "cell_type": "code",
   "execution_count": null,
   "metadata": {},
   "outputs": [],
   "source": [
    "sql_statement = \"SELECT COUNT(*) FROM artifact_quality WHERE key='number_of_points';\"\n",
    "result = main_connector.execute(sql_statement, fetch_all=True)\n",
    "print(len(result), result[0:2])"
   ]
  },
  {
   "cell_type": "code",
   "execution_count": null,
   "metadata": {},
   "outputs": [],
   "source": [
    "sql_statement = \"SELECT COUNT(*) FROM artifact_quality;\"\n",
    "result = main_connector.execute(sql_statement, fetch_all=True)\n",
    "print(result)"
   ]
  },
  {
   "cell_type": "code",
   "execution_count": null,
   "metadata": {},
   "outputs": [],
   "source": [
    "sql_statement = \"SELECT COUNT(*) FROM artifact WHERE path LIKE '%scantimestamp%';\"\n",
    "result = main_connector.execute(sql_statement, fetch_all=True)[0][0]\n",
    "print(result)\n",
    "\n",
    "sql_statement = \"SELECT COUNT(*) FROM artifact WHERE path LIKE '% %';\"\n",
    "print(sql_statement)\n",
    "result = main_connector.execute(sql_statement, fetch_all=True)[0][0]\n",
    "print(result)\n",
    "\n",
    "sql_statement = \"SELECT COUNT(*) FROM artifact WHERE path NOT LIKE '%scantimestamp%';\"\n",
    "result = main_connector.execute(sql_statement, fetch_all=True)[0][0]\n",
    "print(result)\n",
    "\n"
   ]
  },
  {
   "cell_type": "code",
   "execution_count": null,
   "metadata": {},
   "outputs": [],
   "source": [
    "sql_statement = \"SELECT id, tango_timestamp FROM artifact WHERE tango_timestamp = ROUND(tango_timestamp) AND type='pcd';\"\n",
    "result = main_connector.execute(sql_statement, fetch_all=True)\n",
    "print(len(result), result[0:2])\n",
    "\n",
    "sql_statement = \"SELECT id, tango_timestamp FROM artifact WHERE tango_timestamp != ROUND(tango_timestamp) AND type='pcd';\"\n",
    "result = main_connector.execute(sql_statement, fetch_all=True)\n",
    "print(len(result), result[0:2])\n",
    "\n",
    "#for r in result[0:10]:\n",
    "#    print(r[0], r[1])"
   ]
  },
  {
   "cell_type": "code",
   "execution_count": null,
   "metadata": {},
   "outputs": [],
   "source": [
    "sql_statement = \"SELECT id, tango_timestamp FROM artifact;\"\n",
    "result = main_connector.execute(sql_statement, fetch_all=True)\n",
    "result = result[:100]\n",
    "print(result[0:2])\n",
    "for r in result:\n",
    "    print(r[0], r[1])"
   ]
  },
  {
   "cell_type": "code",
   "execution_count": null,
   "metadata": {},
   "outputs": [],
   "source": [
    "sql_statement = \"SELECT COUNT(*) FROM artifact_quality WHERE key='confidence_avg';\"\n",
    "result = main_connector.execute(sql_statement, fetch_all=True)[0][0]\n",
    "print(result, \"artifact quality KPIs\")\n",
    "\n",
    "sql_statement = \"SELECT MIN(value) FROM artifact_quality WHERE key='number_of_points';\"\n",
    "result = main_connector.execute(sql_statement, fetch_all=True)[0][0]\n",
    "print(result, \"artifact quality KPIs\")"
   ]
  },
  {
   "cell_type": "code",
   "execution_count": null,
   "metadata": {},
   "outputs": [],
   "source": [
    "main_connector = dbutils.connect_to_main_database()\n",
    "\n",
    "sql_statement = \"SELECT COUNT(*) FROM artifact_quality;\"\n",
    "result = main_connector.execute(sql_statement, fetch_all=True)[0][0]\n",
    "print(result, \"entries in artifact_quality\")\n",
    "\n",
    "sql_statement = \"SELECT COUNT(*) FROM artifact_quality WHERE value=0.0;\"\n",
    "result = main_connector.execute(sql_statement, fetch_all=True)[0][0]\n",
    "print(result, \"entries in artifact_quality where value is 0.0\")\n",
    "\n",
    "sql_statement = \"SELECT COUNT(*) FROM artifact_quality WHERE key='confidence_avg';\"\n",
    "result = main_connector.execute(sql_statement, fetch_all=True)[0][0]\n",
    "print(result, \"entries in artifact_quality with key confidence_avg\")\n",
    "\n",
    "sql_statement = \"SELECT COUNT(*) FROM artifact_quality WHERE key='number_of_points';\"\n",
    "result = main_connector.execute(sql_statement, fetch_all=True)[0][0]\n",
    "print(result, \"entries in artifact_quality with key number_of_points\")\n",
    "\n",
    "sql_statement = \"SELECT COUNT(DISTINCT(artifact_id)) FROM artifact_quality;\"\n",
    "result = main_connector.execute(sql_statement, fetch_all=True)[0][0]\n",
    "print(result, \"distinct artifact_ids in artifact_quality\")\n",
    "\n",
    "sql_statement = \"SELECT COUNT(*) FROM artifact WHERE type='pcd';\"\n",
    "result = main_connector.execute(sql_statement, fetch_all=True)[0][0]\n",
    "print(result, \"PCDs in artifacts\")\n",
    "\n",
    "sql_statement = \"SELECT COUNT(*) FROM artifacts_with_targets WHERE type='pcd';\"\n",
    "result = main_connector.execute(sql_statement, fetch_all=True)[0][0]\n",
    "print(result, \"PCDs in artifacts_with_targets\")"
   ]
  },
  {
   "cell_type": "code",
   "execution_count": null,
   "metadata": {},
   "outputs": [],
   "source": [
    "#sql_statement = \"DELETE FROM artifact_quality WHERE value=0.0;\"\n",
    "#result = main_connector.execute(sql_statement, fetch_all=True)[0][0]"
   ]
  },
  {
   "cell_type": "code",
   "execution_count": null,
   "metadata": {},
   "outputs": [],
   "source": [
    "sql_statement = \"SELECT COUNT(*) FROM artifacts_with_targets WHERE type='pcd';\"\n",
    "result = main_connector.execute(sql_statement, fetch_all=True)[0][0]\n",
    "print(result, \"PCDs in artifacts_with_targets\")"
   ]
  },
  {
   "cell_type": "code",
   "execution_count": 10,
   "metadata": {},
   "outputs": [
    {
     "name": "stdout",
     "output_type": "stream",
     "text": [
      "45900 46252 PCDs in artifact_quality\n"
     ]
    }
   ],
   "source": [
    "main_connector = dbutils.connect_to_main_database()\n",
    "sql_statement = \"SELECT * FROM artifact_quality WHERE type='20190708-0919_2379-595height';\"\n",
    "result = main_connector.execute(sql_statement, fetch_all=True)\n",
    "print(last_check, len(result), \"PCDs in artifact_quality\")\n",
    "\n",
    "last_check = len(result)"
   ]
  },
  {
   "cell_type": "code",
   "execution_count": null,
   "metadata": {},
   "outputs": [],
   "source": []
  }
 ],
 "metadata": {
  "kernelspec": {
   "display_name": "Python 3.5",
   "language": "python",
   "name": "python3"
  },
  "language_info": {
   "codemirror_mode": {
    "name": "ipython",
    "version": 3
   },
   "file_extension": ".py",
   "mimetype": "text/x-python",
   "name": "python",
   "nbconvert_exporter": "python",
   "pygments_lexer": "ipython3",
   "version": "3.5.5"
  }
 },
 "nbformat": 4,
 "nbformat_minor": 2
}
