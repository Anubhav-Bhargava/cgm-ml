{
 "cells": [
  {
   "cell_type": "code",
   "execution_count": 13,
   "metadata": {},
   "outputs": [
    {
     "name": "stdout",
     "output_type": "stream",
     "text": [
      "6990 persons\n",
      "13739 measures\n",
      "7028 measures of type manual\n",
      "966811 artifacts\n",
      "743562 artifacts of type image\n",
      "223249 artifacts of type pointcloud\n",
      "633915 artifacts with measure\n",
      "332896 artifacts without measure\n",
      "378 GBs of data\n",
      "80 GBs of image data\n",
      "297 GBs of pointcloud data\n",
      "5215 distinct QR codes in artifacts\n",
      "1841 distinct QR codes in artifacts without measure_id\n"
     ]
    }
   ],
   "source": [
    "import warnings\n",
    "warnings.filterwarnings(\"ignore\")\n",
    "import dbutils\n",
    "\n",
    "main_connector = dbutils.connect_to_main_database()\n",
    "\n",
    "sql_statement = \"SELECT COUNT(*) FROM person;\"\n",
    "result = main_connector.execute(sql_statement, fetch_all=True)[0][0]\n",
    "print(result, \"persons\")\n",
    "\n",
    "sql_statement = \"SELECT COUNT(*) FROM measure;\"\n",
    "result = main_connector.execute(sql_statement, fetch_all=True)[0][0]\n",
    "print(result, \"measures\")\n",
    "\n",
    "sql_statement = \"SELECT COUNT(*) FROM measure WHERE type='manual';\"\n",
    "result = main_connector.execute(sql_statement, fetch_all=True)[0][0]\n",
    "print(result, \"measures of type manual\")\n",
    "   \n",
    "sql_statement = \"SELECT COUNT(*) FROM artifact;\"\n",
    "result = main_connector.execute(sql_statement, fetch_all=True)[0][0]\n",
    "print(result, \"artifacts\")\n",
    "\n",
    "sql_statement = \"SELECT COUNT(*) FROM artifact WHERE type='rgb';\"\n",
    "result = main_connector.execute(sql_statement, fetch_all=True)[0][0]\n",
    "print(result, \"artifacts of type image\")\n",
    "\n",
    "sql_statement = \"SELECT COUNT(*) FROM artifact WHERE type='pcd';\"\n",
    "result = main_connector.execute(sql_statement, fetch_all=True)[0][0]\n",
    "print(result, \"artifacts of type pointcloud\")\n",
    "\n",
    "sql_statement = \"SELECT COUNT(*) FROM artifact WHERE measure_id IS NOT NULL;\"\n",
    "result = main_connector.execute(sql_statement, fetch_all=True)[0][0]\n",
    "print(result, \"artifacts with measure\")\n",
    "\n",
    "sql_statement = \"SELECT COUNT(*) FROM artifact WHERE measure_id IS NULL;\"\n",
    "result = main_connector.execute(sql_statement, fetch_all=True)[0][0]\n",
    "print(result, \"artifacts without measure\")\n",
    "    \n",
    "sql_statement = \"SELECT SUM(file_size) FROM artifact;\"\n",
    "result = main_connector.execute(sql_statement, fetch_all=True)[0][0]\n",
    "print(int(result / (1024 * 1024 * 1024)), \"GBs of data\")\n",
    "\n",
    "sql_statement = \"SELECT SUM(file_size) FROM artifact  WHERE type='rgb';\"\n",
    "result = main_connector.execute(sql_statement, fetch_all=True)[0][0]\n",
    "print(int(result / (1024 * 1024 * 1024)), \"GBs of image data\")\n",
    "\n",
    "sql_statement = \"SELECT SUM(file_size) FROM artifact  WHERE type='pcd';\"\n",
    "result = main_connector.execute(sql_statement, fetch_all=True)[0][0]\n",
    "print(int(result / (1024 * 1024 * 1024)), \"GBs of pointcloud data\")\n",
    "\n",
    "sql_statement = \"SELECT COUNT(DISTINCT(qr_code)) FROM artifact;\"\n",
    "result = main_connector.execute(sql_statement, fetch_all=True)[0][0]\n",
    "print(result, \"distinct QR codes in artifacts\")\n",
    "\n",
    "sql_statement = \"SELECT COUNT(DISTINCT(qr_code)) FROM artifact WHERE measure_id IS NULL;\"\n",
    "result = main_connector.execute(sql_statement, fetch_all=True)[0][0]\n",
    "print(result, \"distinct QR codes in artifacts without measure_id\")\n"
   ]
  },
  {
   "cell_type": "code",
   "execution_count": 2,
   "metadata": {},
   "outputs": [
    {
     "name": "stdout",
     "output_type": "stream",
     "text": [
      "1549605284005 QR codes\n"
     ]
    }
   ],
   "source": [
    "sql_statement = \"SELECT artifact.create_date, type FROM artifact ORDER BY artifact.create_date DESC;\"\n",
    "result = main_connector.execute(sql_statement, fetch_all=True)[0][0]\n",
    "print(result, \"QR codes\")"
   ]
  },
  {
   "cell_type": "code",
   "execution_count": null,
   "metadata": {},
   "outputs": [],
   "source": []
  }
 ],
 "metadata": {
  "kernelspec": {
   "display_name": "Python 3.5",
   "language": "python",
   "name": "python3"
  },
  "language_info": {
   "codemirror_mode": {
    "name": "ipython",
    "version": 3
   },
   "file_extension": ".py",
   "mimetype": "text/x-python",
   "name": "python",
   "nbconvert_exporter": "python",
   "pygments_lexer": "ipython3",
   "version": "3.5.5"
  }
 },
 "nbformat": 4,
 "nbformat_minor": 2
}
