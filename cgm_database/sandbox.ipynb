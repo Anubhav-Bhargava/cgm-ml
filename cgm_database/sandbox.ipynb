{
 "cells": [
  {
   "cell_type": "code",
   "execution_count": 67,
   "metadata": {},
   "outputs": [],
   "source": [
    "import warnings\n",
    "warnings.filterwarnings(\"ignore\")\n",
    "import dbutils\n",
    "\n",
    "main_connector = dbutils.connect_to_main_database()\n"
   ]
  },
  {
   "cell_type": "code",
   "execution_count": 19,
   "metadata": {},
   "outputs": [
    {
     "name": "stdout",
     "output_type": "stream",
     "text": [
      "147395 [('RJ_WHH_3100', 'pc_RJ_WHH_3100_1542193587269_104_000.pcd', '/whhdata/qrcode/RJ_WHH_3100/measurements/1542193587269/pc/pc_RJ_WHH_3100_1542193587269_104_000.pcd', 'pcd', 398, 65.5, 8.7, 15.2, 44.8), ('RJ_WHH_3100', 'pc_RJ_WHH_3100_1542193587269_104_001.pcd', '/whhdata/qrcode/RJ_WHH_3100/measurements/1542193587269/pc/pc_RJ_WHH_3100_1542193587269_104_001.pcd', 'pcd', 398, 65.5, 8.7, 15.2, 44.8)]\n"
     ]
    }
   ],
   "source": [
    "sql_statement = \"SELECT * FROM artifacts_with_targets WHERE type='pcd';\"\n",
    "result = main_connector.execute(sql_statement, fetch_all=True)\n",
    "print(len(result), result[0:2])"
   ]
  },
  {
   "cell_type": "code",
   "execution_count": 25,
   "metadata": {},
   "outputs": [
    {
     "name": "stdout",
     "output_type": "stream",
     "text": [
      "1 [(3982,)]\n"
     ]
    }
   ],
   "source": [
    "sql_statement = \"SELECT COUNT(*) FROM artifact_quality WHERE key='number_of_points';\"\n",
    "result = main_connector.execute(sql_statement, fetch_all=True)\n",
    "print(len(result), result[0:2])"
   ]
  },
  {
   "cell_type": "code",
   "execution_count": 44,
   "metadata": {},
   "outputs": [
    {
     "name": "stdout",
     "output_type": "stream",
     "text": [
      "[(206595,)]\n"
     ]
    }
   ],
   "source": [
    "sql_statement = \"SELECT COUNT(*) FROM artifact_quality;\"\n",
    "result = main_connector.execute(sql_statement, fetch_all=True)\n",
    "print(result)"
   ]
  },
  {
   "cell_type": "code",
   "execution_count": 39,
   "metadata": {},
   "outputs": [
    {
     "name": "stdout",
     "output_type": "stream",
     "text": [
      "6447\n",
      "SELECT COUNT(*) FROM artifact WHERE path LIKE '% %';\n",
      "0\n",
      "960364\n"
     ]
    }
   ],
   "source": [
    "sql_statement = \"SELECT COUNT(*) FROM artifact WHERE path LIKE '%scantimestamp%';\"\n",
    "result = main_connector.execute(sql_statement, fetch_all=True)[0][0]\n",
    "print(result)\n",
    "\n",
    "sql_statement = \"SELECT COUNT(*) FROM artifact WHERE path LIKE '% %';\"\n",
    "print(sql_statement)\n",
    "result = main_connector.execute(sql_statement, fetch_all=True)[0][0]\n",
    "print(result)\n",
    "\n",
    "sql_statement = \"SELECT COUNT(*) FROM artifact WHERE path NOT LIKE '%scantimestamp%';\"\n",
    "result = main_connector.execute(sql_statement, fetch_all=True)[0][0]\n",
    "print(result)\n",
    "\n"
   ]
  },
  {
   "cell_type": "code",
   "execution_count": 29,
   "metadata": {},
   "outputs": [
    {
     "name": "stdout",
     "output_type": "stream",
     "text": [
      "48906 [('pc_MH_WHH_2160_1547019621326_202_002.pcd', 2.0), ('pc_MH_WHH_2160_1547019621326_202_003.pcd', 3.0)]\n",
      "0 []\n"
     ]
    }
   ],
   "source": [
    "sql_statement = \"SELECT id, tango_timestamp FROM artifact WHERE tango_timestamp = ROUND(tango_timestamp) AND type='pcd';\"\n",
    "result = main_connector.execute(sql_statement, fetch_all=True)\n",
    "print(len(result), result[0:2])\n",
    "\n",
    "sql_statement = \"SELECT id, tango_timestamp FROM artifact WHERE tango_timestamp != ROUND(tango_timestamp) AND type='pcd';\"\n",
    "result = main_connector.execute(sql_statement, fetch_all=True)\n",
    "print(len(result), result[0:2])\n",
    "\n",
    "#for r in result[0:10]:\n",
    "#    print(r[0], r[1])"
   ]
  },
  {
   "cell_type": "code",
   "execution_count": 11,
   "metadata": {},
   "outputs": [
    {
     "name": "stdout",
     "output_type": "stream",
     "text": [
      "[('pc_MH_WHH_2160_1547019621326_202_002.pcd', 2.0), ('pc_MH_WHH_2160_1547019621326_202_003.pcd', 3.0)]\n",
      "pc_MH_WHH_2160_1547019621326_202_002.pcd 2.0\n",
      "pc_MH_WHH_2160_1547019621326_202_003.pcd 3.0\n",
      "pc_MH_WHH_2160_1547019621326_202_004.pcd 4.0\n",
      "pc_MH_WHH_2160_1547019621326_202_000.pcd 0.0\n",
      "pc_MH_WHH_2160_1547019621326_202_007.pcd 7.0\n",
      "pc_MH_WHH_2160_1547019621326_202_005.pcd 5.0\n",
      "pc_MH_WHH_2160_1547019621326_202_001.pcd 1.0\n",
      "pc_MH_WHH_2160_1547019621326_202_006.pcd 6.0\n",
      "pc_MH_WHH_2160_1547019600358_200_007.pcd 7.0\n",
      "pc_MH_WHH_2160_1547019600358_200_003.pcd 3.0\n",
      "pc_MH_WHH_2160_1547019600358_200_004.pcd 4.0\n",
      "pc_MH_WHH_2160_1547019600358_200_002.pcd 2.0\n",
      "pc_MH_WHH_2160_1547019600358_200_001.pcd 1.0\n",
      "pc_MH_WHH_2160_1547019600358_200_000.pcd 0.0\n",
      "pc_MH_WHH_2160_1547019600358_200_006.pcd 6.0\n",
      "pc_MH_WHH_2160_1547019600358_200_005.pcd 5.0\n",
      "pc_MH_WHH_2160_1547019608661_201_003.pcd 3.0\n",
      "pc_MH_WHH_2160_1547019608661_201_007.pcd 7.0\n",
      "pc_MH_WHH_2160_1547019608661_201_001.pcd 1.0\n",
      "pc_MH_WHH_2160_1547019608661_201_002.pcd 2.0\n",
      "pc_MH_WHH_2160_1547019608661_201_010.pcd 10.0\n",
      "pc_MH_WHH_2160_1547019608661_201_000.pcd 0.0\n",
      "pc_MH_WHH_2160_1547019608661_201_008.pcd 8.0\n",
      "pc_MH_WHH_2160_1547019608661_201_009.pcd 9.0\n",
      "pc_MH_WHH_2160_1547019608661_201_011.pcd 11.0\n",
      "pc_MH_WHH_2160_1547019608661_201_005.pcd 5.0\n",
      "pc_MH_WHH_2160_1547019608661_201_004.pcd 4.0\n",
      "pc_MH_WHH_2160_1547019608661_201_006.pcd 6.0\n",
      "pc_MH_WHH_2160_1547019591105_100_001.pcd 1.0\n",
      "pc_MH_WHH_2160_1547019591105_100_000.pcd 0.0\n",
      "rgb_MP_WHH_2510_1540360822453_107_4177.829512759.jpg 4177.83\n",
      "rgb_MP_WHH_2510_1540360822453_104_4163.650994759.jpg 4163.65\n",
      "rgb_MP_WHH_2510_1540360822453_110_4189.4333307590005.jpg 4189.43\n",
      "rgb_MP_WHH_2510_1540360822453_107_4178.2643117590005.jpg 4178.26\n",
      "rgb_MP_WHH_2510_1540360822453_104_4163.1828337590005.jpg 4163.18\n",
      "rgb_MP_WHH_2510_1540360822453_104_4162.781561759.jpg 4162.78\n",
      "rgb_MP_WHH_2510_1540360822453_104_4162.915324759.jpg 4162.92\n",
      "rgb_MP_WHH_2510_1540360822453_104_4164.319790759.jpg 4164.32\n",
      "rgb_MP_WHH_2510_1540360822453_104_4164.1860307590005.jpg 4164.19\n",
      "rgb_MP_WHH_2510_1540360822453_107_4176.859827759.jpg 4176.86\n",
      "rgb_MP_WHH_2510_1540360822453_107_4178.130475759001.jpg 4178.13\n",
      "rgb_MP_WHH_2510_1540360822453_104_4164.453566759.jpg 4164.45\n",
      "rgb_MP_WHH_2510_1540360822453_107_4177.695748759001.jpg 4177.7\n",
      "rgb_MP_WHH_2510_1540360822453_107_4177.963370759.jpg 4177.96\n",
      "rgb_MP_WHH_2510_1540360822453_110_4189.098758759001.jpg 4189.1\n",
      "rgb_MP_WHH_1238_1543215921905_107_6509.189347759.jpg 6509.19\n",
      "rgb_MP_WHH_1238_1543215921905_104_6496.348415759.jpg 6496.35\n",
      "rgb_MP_WHH_1238_1543215921905_107_6509.323112759001.jpg 6509.32\n",
      "rgb_MP_WHH_1238_1543215921905_104_6495.780160759.jpg 6495.78\n",
      "rgb_MP_WHH_1238_1543215921905_110_6523.568700759.jpg 6523.57\n",
      "rgb_MP_WHH_1238_1543215921905_107_6510.025335759.jpg 6510.03\n",
      "rgb_MP_WHH_1238_1543215921905_110_6523.869453759.jpg 6523.87\n",
      "rgb_MP_WHH_1238_1543215921905_107_6509.089015759.jpg 6509.09\n",
      "rgb_MP_WHH_1238_1543215921905_104_6496.8834577590005.jpg 6496.88\n",
      "rgb_MP_WHH_1238_1543215921905_107_6509.791258759001.jpg 6509.79\n",
      "rgb_MP_WHH_1238_1543215921905_104_6496.047460759.jpg 6496.05\n",
      "rgb_MP_WHH_1238_1543215921905_104_6496.783349759.jpg 6496.78\n",
      "rgb_MP_WHH_1238_1543215921905_104_6495.880262759.jpg 6495.88\n",
      "rgb_MP_WHH_1238_1543215921905_104_6495.947165759.jpg 6495.95\n",
      "rgb_MP_WHH_1238_1543215921905_107_6509.925078759001.jpg 6509.93\n",
      "rgb_MP_WHH_1238_1543215921905_104_6495.278338759001.jpg 6495.28\n",
      "rgb_MP_WHH_1238_1543215921905_104_6496.682814759.jpg 6496.68\n",
      "rgb_MP_WHH_1238_1543215921905_110_6523.033549759.jpg 6523.03\n",
      "rgb_MP_WHH_1238_1543215921905_110_6523.802574759.jpg 6523.8\n",
      "rgb_MP_WHH_1238_1543215921905_104_6495.077705759.jpg 6495.08\n",
      "rgb_MP_WHH_1238_1543215921905_104_6495.378660759.jpg 6495.38\n",
      "rgb_MP_WHH_1238_1543215921905_104_6495.445544759001.jpg 6495.45\n",
      "rgb_MP_WHH_1238_1543215921905_110_6523.234105759.jpg 6523.23\n",
      "rgb_MP_WHH_1238_1543215921905_110_6522.933415759.jpg 6522.93\n",
      "rgb_MP_WHH_1238_1543215921905_104_6496.1480377590005.jpg 6496.15\n",
      "rgb_MP_WHH_1238_1543215921905_104_6496.5826657590005.jpg 6496.58\n",
      "rgb_MP_WHH_1238_1543215921905_110_6523.468353759001.jpg 6523.47\n",
      "rgb_MP_WHH_1238_1543215921905_107_6509.423415759001.jpg 6509.42\n",
      "rgb_MP_WHH_1238_1543215921905_107_6509.557181759001.jpg 6509.56\n",
      "rgb_MP_WHH_1238_1543215921905_110_6522.832835759001.jpg 6522.83\n",
      "rgb_MP_WHH_1238_1543215921905_107_6508.955277759001.jpg 6508.96\n",
      "rgb_MP_WHH_1238_1543215921905_107_6509.690936759001.jpg 6509.69\n",
      "rgb_MP_WHH_1238_1543215921905_104_6495.178256759001.jpg 6495.18\n",
      "rgb_MP_WHH_1238_1543215921905_107_6508.788274759.jpg 6508.79\n",
      "rgb_MP_WHH_1238_1543215921905_104_6495.545859759.jpg 6495.55\n",
      "rgb_MP_WHH_1238_1543215921905_104_6494.977528759.jpg 6494.98\n",
      "rgb_MP_WHH_1238_1543215921905_110_6523.668818759001.jpg 6523.67\n",
      "rgb_MP_WHH_1238_1543215921905_104_6496.482270759.jpg 6496.48\n",
      "rgb_MP_WHH_1238_1543215921905_110_6523.133784759.jpg 6523.13\n",
      "rgb_MP_WHH_1238_1543215921905_110_6523.334432759.jpg 6523.33\n",
      "rgb_MP_WHH_1238_1543215921905_104_6495.612753759.jpg 6495.61\n",
      "rgb_MP_WHH_1238_1543215921905_104_6496.248096759.jpg 6496.25\n",
      "pc_MP_WHH_1238_1543215921905_104_003.pcd 3.0\n",
      "pc_MP_WHH_1238_1543215921905_104_001.pcd 1.0\n",
      "pc_MP_WHH_1238_1543215921905_107_006.pcd 6.0\n",
      "pc_MP_WHH_1238_1543215921905_104_000.pcd 0.0\n",
      "pc_MP_WHH_1238_1543215921905_104_004.pcd 4.0\n",
      "pc_MP_WHH_1238_1543215921905_107_005.pcd 5.0\n",
      "pc_MP_WHH_1238_1543215921905_107_007.pcd 7.0\n",
      "pc_MP_WHH_1238_1543215921905_104_002.pcd 2.0\n",
      "pc_MP_WHH_1238_1543215921905_110_008.pcd 8.0\n",
      "pc_MP_WHH_1238_1543215921905_110_010.pcd 10.0\n",
      "pc_MP_WHH_1238_1543215921905_110_009.pcd 9.0\n",
      "rgb_MP_WHH_2510_1540360822453_107_4177.561990759.jpg 4177.56\n",
      "rgb_MP_WHH_2510_1540360822453_107_4176.425039759.jpg 4176.42\n"
     ]
    }
   ],
   "source": [
    "sql_statement = \"SELECT id, tango_timestamp FROM artifact;\"\n",
    "result = main_connector.execute(sql_statement, fetch_all=True)\n",
    "result = result[:100]\n",
    "print(result[0:2])\n",
    "for r in result:\n",
    "    print(r[0], r[1])"
   ]
  },
  {
   "cell_type": "code",
   "execution_count": 30,
   "metadata": {},
   "outputs": [
    {
     "ename": "OperationalError",
     "evalue": "SSL SYSCALL error: EOF detected\n",
     "output_type": "error",
     "traceback": [
      "\u001b[0;31m---------------------------------------------------------------------------\u001b[0m",
      "\u001b[0;31mOperationalError\u001b[0m                          Traceback (most recent call last)",
      "\u001b[0;32m<ipython-input-30-6659adbe8113>\u001b[0m in \u001b[0;36m<module>\u001b[0;34m()\u001b[0m\n\u001b[1;32m      1\u001b[0m \u001b[0msql_statement\u001b[0m \u001b[0;34m=\u001b[0m \u001b[0;34m\"SELECT COUNT(*) FROM artifact_quality WHERE key='confidence_avg';\"\u001b[0m\u001b[0;34m\u001b[0m\u001b[0m\n\u001b[0;32m----> 2\u001b[0;31m \u001b[0mresult\u001b[0m \u001b[0;34m=\u001b[0m \u001b[0mmain_connector\u001b[0m\u001b[0;34m.\u001b[0m\u001b[0mexecute\u001b[0m\u001b[0;34m(\u001b[0m\u001b[0msql_statement\u001b[0m\u001b[0;34m,\u001b[0m \u001b[0mfetch_all\u001b[0m\u001b[0;34m=\u001b[0m\u001b[0;32mTrue\u001b[0m\u001b[0;34m)\u001b[0m\u001b[0;34m[\u001b[0m\u001b[0;36m0\u001b[0m\u001b[0;34m]\u001b[0m\u001b[0;34m[\u001b[0m\u001b[0;36m0\u001b[0m\u001b[0;34m]\u001b[0m\u001b[0;34m\u001b[0m\u001b[0m\n\u001b[0m\u001b[1;32m      3\u001b[0m \u001b[0mprint\u001b[0m\u001b[0;34m(\u001b[0m\u001b[0mresult\u001b[0m\u001b[0;34m,\u001b[0m \u001b[0;34m\"artifact quality KPIs\"\u001b[0m\u001b[0;34m)\u001b[0m\u001b[0;34m\u001b[0m\u001b[0m\n\u001b[1;32m      4\u001b[0m \u001b[0;34m\u001b[0m\u001b[0m\n\u001b[1;32m      5\u001b[0m \u001b[0msql_statement\u001b[0m \u001b[0;34m=\u001b[0m \u001b[0;34m\"SELECT MIN(value) FROM artifact_quality WHERE key='number_of_points';\"\u001b[0m\u001b[0;34m\u001b[0m\u001b[0m\n",
      "\u001b[0;32m/data/home/tbehrens/cgm-ml/cgm_database/dbutils.py\u001b[0m in \u001b[0;36mexecute\u001b[0;34m(self, script, fetch_one, fetch_all)\u001b[0m\n\u001b[1;32m     46\u001b[0m \u001b[0;34m\u001b[0m\u001b[0m\n\u001b[1;32m     47\u001b[0m     \u001b[0;32mdef\u001b[0m \u001b[0mexecute\u001b[0m\u001b[0;34m(\u001b[0m\u001b[0mself\u001b[0m\u001b[0;34m,\u001b[0m \u001b[0mscript\u001b[0m\u001b[0;34m,\u001b[0m \u001b[0mfetch_one\u001b[0m\u001b[0;34m=\u001b[0m\u001b[0;32mFalse\u001b[0m\u001b[0;34m,\u001b[0m \u001b[0mfetch_all\u001b[0m\u001b[0;34m=\u001b[0m\u001b[0;32mFalse\u001b[0m\u001b[0;34m)\u001b[0m\u001b[0;34m:\u001b[0m\u001b[0;34m\u001b[0m\u001b[0m\n\u001b[0;32m---> 48\u001b[0;31m         \u001b[0mresult\u001b[0m \u001b[0;34m=\u001b[0m \u001b[0mself\u001b[0m\u001b[0;34m.\u001b[0m\u001b[0mcursor\u001b[0m\u001b[0;34m.\u001b[0m\u001b[0mexecute\u001b[0m\u001b[0;34m(\u001b[0m\u001b[0mscript\u001b[0m\u001b[0;34m)\u001b[0m\u001b[0;34m\u001b[0m\u001b[0m\n\u001b[0m\u001b[1;32m     49\u001b[0m         \u001b[0mself\u001b[0m\u001b[0;34m.\u001b[0m\u001b[0mconnection\u001b[0m\u001b[0;34m.\u001b[0m\u001b[0mcommit\u001b[0m\u001b[0;34m(\u001b[0m\u001b[0;34m)\u001b[0m\u001b[0;34m\u001b[0m\u001b[0m\n\u001b[1;32m     50\u001b[0m         \u001b[0;32mif\u001b[0m \u001b[0mfetch_one\u001b[0m \u001b[0;34m==\u001b[0m \u001b[0;32mTrue\u001b[0m\u001b[0;34m:\u001b[0m\u001b[0;34m\u001b[0m\u001b[0m\n",
      "\u001b[0;31mOperationalError\u001b[0m: SSL SYSCALL error: EOF detected\n"
     ]
    }
   ],
   "source": [
    "sql_statement = \"SELECT COUNT(*) FROM artifact_quality WHERE key='confidence_avg';\"\n",
    "result = main_connector.execute(sql_statement, fetch_all=True)[0][0]\n",
    "print(result, \"artifact quality KPIs\")\n",
    "\n",
    "sql_statement = \"SELECT MIN(value) FROM artifact_quality WHERE key='number_of_points';\"\n",
    "result = main_connector.execute(sql_statement, fetch_all=True)[0][0]\n",
    "print(result, \"artifact quality KPIs\")"
   ]
  },
  {
   "cell_type": "code",
   "execution_count": 96,
   "metadata": {},
   "outputs": [
    {
     "name": "stdout",
     "output_type": "stream",
     "text": [
      "1042766 entries in artifact_quality\n",
      "75 entries in artifact_quality where value is 0.0\n",
      "104184 entries in artifact_quality with key confidence_avg\n",
      "104184 entries in artifact_quality with key number_of_points\n",
      "104184 distinct artifact_ids in artifact_quality\n",
      "223249 PCDs in artifacts\n",
      "146488 PCDs in artifacts_with_targets\n"
     ]
    }
   ],
   "source": [
    "main_connector = dbutils.connect_to_main_database()\n",
    "\n",
    "sql_statement = \"SELECT COUNT(*) FROM artifact_quality;\"\n",
    "result = main_connector.execute(sql_statement, fetch_all=True)[0][0]\n",
    "print(result, \"entries in artifact_quality\")\n",
    "\n",
    "sql_statement = \"SELECT COUNT(*) FROM artifact_quality WHERE value=0.0;\"\n",
    "result = main_connector.execute(sql_statement, fetch_all=True)[0][0]\n",
    "print(result, \"entries in artifact_quality where value is 0.0\")\n",
    "\n",
    "sql_statement = \"SELECT COUNT(*) FROM artifact_quality WHERE key='confidence_avg';\"\n",
    "result = main_connector.execute(sql_statement, fetch_all=True)[0][0]\n",
    "print(result, \"entries in artifact_quality with key confidence_avg\")\n",
    "\n",
    "sql_statement = \"SELECT COUNT(*) FROM artifact_quality WHERE key='number_of_points';\"\n",
    "result = main_connector.execute(sql_statement, fetch_all=True)[0][0]\n",
    "print(result, \"entries in artifact_quality with key number_of_points\")\n",
    "\n",
    "sql_statement = \"SELECT COUNT(DISTINCT(artifact_id)) FROM artifact_quality;\"\n",
    "result = main_connector.execute(sql_statement, fetch_all=True)[0][0]\n",
    "print(result, \"distinct artifact_ids in artifact_quality\")\n",
    "\n",
    "sql_statement = \"SELECT COUNT(*) FROM artifact WHERE type='pcd';\"\n",
    "result = main_connector.execute(sql_statement, fetch_all=True)[0][0]\n",
    "print(result, \"PCDs in artifacts\")\n",
    "\n",
    "sql_statement = \"SELECT COUNT(*) FROM artifacts_with_targets WHERE type='pcd';\"\n",
    "result = main_connector.execute(sql_statement, fetch_all=True)[0][0]\n",
    "print(result, \"PCDs in artifacts_with_targets\")"
   ]
  },
  {
   "cell_type": "code",
   "execution_count": 75,
   "metadata": {},
   "outputs": [],
   "source": [
    "#sql_statement = \"DELETE FROM artifact_quality WHERE value=0.0;\"\n",
    "#result = main_connector.execute(sql_statement, fetch_all=True)[0][0]"
   ]
  },
  {
   "cell_type": "code",
   "execution_count": 57,
   "metadata": {},
   "outputs": [
    {
     "name": "stdout",
     "output_type": "stream",
     "text": [
      "146488 PCDs in artifacts_with_targets\n"
     ]
    }
   ],
   "source": [
    "sql_statement = \"SELECT COUNT(*) FROM artifacts_with_targets WHERE type='pcd';\"\n",
    "result = main_connector.execute(sql_statement, fetch_all=True)[0][0]\n",
    "print(result, \"PCDs in artifacts_with_targets\")"
   ]
  },
  {
   "cell_type": "code",
   "execution_count": null,
   "metadata": {},
   "outputs": [],
   "source": []
  }
 ],
 "metadata": {
  "kernelspec": {
   "display_name": "Python 3.5",
   "language": "python",
   "name": "python3"
  },
  "language_info": {
   "codemirror_mode": {
    "name": "ipython",
    "version": 3
   },
   "file_extension": ".py",
   "mimetype": "text/x-python",
   "name": "python",
   "nbconvert_exporter": "python",
   "pygments_lexer": "ipython3",
   "version": "3.5.5"
  }
 },
 "nbformat": 4,
 "nbformat_minor": 2
}
