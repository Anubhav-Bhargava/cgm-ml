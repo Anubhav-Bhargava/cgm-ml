{
 "cells": [
  {
   "cell_type": "markdown",
   "metadata": {},
   "source": [
    "# README.\n",
    "\n",
    "This is just a sandbox. No production code."
   ]
  },
  {
   "cell_type": "code",
   "execution_count": 5,
   "metadata": {},
   "outputs": [
    {
     "name": "stdout",
     "output_type": "stream",
     "text": [
      "Searching at /whhdata/person/**/*.jpg... This might take a while!\n",
      "Found 16329 JPGs.\n"
     ]
    }
   ],
   "source": [
    "import dbutils\n",
    "import glob2 as glob\n",
    "import os\n",
    "\n",
    "glob_search_path = os.path.join(\"/whhdata/person/**/*.jpg\")\n",
    "print(\"Searching at {}... This might take a while!\".format(glob_search_path))\n",
    "jpg_paths = glob.glob(glob_search_path) # TODO make this work again!\n",
    "print(\"Found {} JPGs.\".format(len(jpg_paths)))"
   ]
  },
  {
   "cell_type": "code",
   "execution_count": 18,
   "metadata": {},
   "outputs": [
    {
     "name": "stdout",
     "output_type": "stream",
     "text": [
      "/whhdata/person/MH_WHH_0081/measurements/1538387894380/rgb/rgb_MH_WHH_0081_1538387894380_110_14636.577864124001.jpg\n",
      "MH_WHH_0081\n",
      "1538387894380 \tjpg path\n",
      "1552474033380 \tmeasurement\n",
      "14086139000 \tdifference\n",
      "\n",
      "/whhdata/person/MH_WHH_0205/measurements/1540376922927/rgb/rgb_MH_WHH_0205_1540376922927_110_13577.31764766.jpg\n",
      "MH_WHH_0205\n",
      "1540376922927 \tjpg path\n",
      "1552474029019 \tmeasurement\n",
      "12097106092 \tdifference\n",
      "\n",
      "/whhdata/person/MH_WHH_0170/measurements/1540542345993/rgb/rgb_MH_WHH_0170_1540542345993_107_94187.541844759.jpg\n",
      "MH_WHH_0170\n",
      "1540542345993 \tjpg path\n",
      "1552474041841 \tmeasurement\n",
      "11931695848 \tdifference\n",
      "\n",
      "/whhdata/person/MH_WHH_0017/measurements/1537350246086/rgb/rgb_MH_WHH_0017_1537350246086_104_98502.178076052.jpg\n",
      "MH_WHH_0017\n",
      "1537350246086 \tjpg path\n",
      "1552474028023 \tmeasurement\n",
      "15123781937 \tdifference\n",
      "\n",
      "/whhdata/person/MH_WHH_0035/measurements/1537342371195/rgb/rgb_MH_WHH_0035_1537342371195_104_90618.755600759.jpg\n",
      "MH_WHH_0035\n",
      "1537342371195 \tjpg path\n",
      "1552474027873 \tmeasurement\n",
      "15131656678 \tdifference\n",
      "\n",
      "/whhdata/person/MH_WHH_0063/measurements/1539245459020/rgb/rgb_MH_WHH_0063_1539245459020_107_90067.404559759.jpg\n",
      "MH_WHH_0063\n",
      "1539245459020 \tjpg path\n",
      "1552474033349 \tmeasurement\n",
      "13228574329 \tdifference\n",
      "\n",
      "/whhdata/person/MH_WHH_0124/measurements/1539337983732/rgb/rgb_MH_WHH_0124_1539337983732_104_9284.947162052.jpg\n",
      "MH_WHH_0124\n",
      "1539337983732 \tjpg path\n",
      "1552462183607 \tmeasurement\n",
      "13124199875 \tdifference\n",
      "\n",
      "/whhdata/person/MH_WHH_0168/measurements/1537856192991/rgb/rgb_MH_WHH_0168_1537856192991_104_90729.419360759.jpg\n",
      "MH_WHH_0168\n",
      "1537856192991 \tjpg path\n",
      "1552474041866 \tmeasurement\n",
      "14617848875 \tdifference\n",
      "\n",
      "/whhdata/person/MH_WHH_0006/measurements/1536911973636/rgb/rgb_MH_WHH_0006_1536911973636_107_5839.136468759.jpg\n",
      "MH_WHH_0006\n",
      "1536911973636 \tjpg path\n"
     ]
    },
    {
     "ename": "IndexError",
     "evalue": "list index out of range",
     "output_type": "error",
     "traceback": [
      "\u001b[0;31m---------------------------------------------------------------------------\u001b[0m",
      "\u001b[0;31mIndexError\u001b[0m                                Traceback (most recent call last)",
      "\u001b[0;32m<ipython-input-18-8615a13cd6e1>\u001b[0m in \u001b[0;36m<module>\u001b[0;34m\u001b[0m\n\u001b[1;32m     28\u001b[0m     \u001b[0mresults\u001b[0m \u001b[0;34m=\u001b[0m \u001b[0mmain_connector\u001b[0m\u001b[0;34m.\u001b[0m\u001b[0mexecute\u001b[0m\u001b[0;34m(\u001b[0m\u001b[0msql_statement\u001b[0m\u001b[0;34m,\u001b[0m \u001b[0mfetch_all\u001b[0m\u001b[0;34m=\u001b[0m\u001b[0;32mTrue\u001b[0m\u001b[0;34m)\u001b[0m\u001b[0;34m\u001b[0m\u001b[0m\n\u001b[1;32m     29\u001b[0m     \u001b[0mprint\u001b[0m\u001b[0;34m(\u001b[0m\u001b[0mtimestamp\u001b[0m\u001b[0;34m,\u001b[0m \u001b[0;34m\"\\tjpg path\"\u001b[0m\u001b[0;34m)\u001b[0m\u001b[0;34m\u001b[0m\u001b[0m\n\u001b[0;32m---> 30\u001b[0;31m     \u001b[0mprint\u001b[0m\u001b[0;34m(\u001b[0m\u001b[0mresults\u001b[0m\u001b[0;34m[\u001b[0m\u001b[0;36m0\u001b[0m\u001b[0;34m]\u001b[0m\u001b[0;34m[\u001b[0m\u001b[0;36m1\u001b[0m\u001b[0;34m]\u001b[0m\u001b[0;34m,\u001b[0m \u001b[0;34m\"\\tmeasurement\"\u001b[0m\u001b[0;34m)\u001b[0m\u001b[0;34m\u001b[0m\u001b[0m\n\u001b[0m\u001b[1;32m     31\u001b[0m     \u001b[0mprint\u001b[0m\u001b[0;34m(\u001b[0m\u001b[0mabs\u001b[0m\u001b[0;34m(\u001b[0m\u001b[0mint\u001b[0m\u001b[0;34m(\u001b[0m\u001b[0mtimestamp\u001b[0m\u001b[0;34m)\u001b[0m \u001b[0;34m-\u001b[0m \u001b[0mint\u001b[0m\u001b[0;34m(\u001b[0m\u001b[0mresults\u001b[0m\u001b[0;34m[\u001b[0m\u001b[0;36m0\u001b[0m\u001b[0;34m]\u001b[0m\u001b[0;34m[\u001b[0m\u001b[0;36m1\u001b[0m\u001b[0;34m]\u001b[0m\u001b[0;34m)\u001b[0m\u001b[0;34m)\u001b[0m\u001b[0;34m,\u001b[0m \u001b[0;34m\"\\tdifference\"\u001b[0m\u001b[0;34m)\u001b[0m\u001b[0;34m\u001b[0m\u001b[0m\n\u001b[1;32m     32\u001b[0m     \u001b[0mprint\u001b[0m\u001b[0;34m(\u001b[0m\u001b[0;34m\"\"\u001b[0m\u001b[0;34m)\u001b[0m\u001b[0;34m\u001b[0m\u001b[0m\n",
      "\u001b[0;31mIndexError\u001b[0m: list index out of range"
     ]
    }
   ],
   "source": [
    "import random\n",
    "import dbutils\n",
    "\n",
    "main_connector = dbutils.connect_to_main_database()\n",
    "\n",
    "for _ in range(10):\n",
    "    path = random.choice(jpg_paths)\n",
    "    print(path)\n",
    "    path_split = path.split(\"/\")\n",
    "\n",
    "    qrcode = path_split[3]\n",
    "    timestamp = path_split[-1].split(\"_\")[-3]\n",
    "    print(qrcode)\n",
    "    #print(timestamp)\n",
    "    #print(\"\")\n",
    "    \n",
    "    # Todo get id of measurement.\n",
    "    threshold = int(60 * 60 * 24 * 1000)\n",
    "    sql_statement = dbutils.create_select_statement(\"measurements\", [\"qrcode\"], [qrcode])\n",
    "    sql_statement = \"\"\n",
    "    sql_statement += \"SELECT id, timestamp\"\n",
    "    sql_statement += \" FROM measurements WHERE\"\n",
    "    sql_statement += \" qrcode = '{}'\".format(qrcode)\n",
    "    sql_statement += \" AND type = 'manual'\"\n",
    "    #sql_statement += \" AND ABS(timestamp - {}) < {}\".format(timestamp, threshold)\n",
    "    sql_statement += \";\"\n",
    "    #print(sql_statement)\n",
    "    results = main_connector.execute(sql_statement, fetch_all=True)\n",
    "    print(timestamp, \"\\tjpg path\")\n",
    "    print(results[0][1], \"\\tmeasurement\")\n",
    "    print(abs(int(timestamp) - int(results[0][1])), \"\\tdifference\")\n",
    "    print(\"\")"
   ]
  },
  {
   "cell_type": "code",
   "execution_count": null,
   "metadata": {},
   "outputs": [],
   "source": []
  }
 ],
 "metadata": {
  "kernelspec": {
   "display_name": "Python 3",
   "language": "python",
   "name": "python3"
  },
  "language_info": {
   "codemirror_mode": {
    "name": "ipython",
    "version": 3
   },
   "file_extension": ".py",
   "mimetype": "text/x-python",
   "name": "python",
   "nbconvert_exporter": "python",
   "pygments_lexer": "ipython3",
   "version": "3.6.5"
  }
 },
 "nbformat": 4,
 "nbformat_minor": 2
}
