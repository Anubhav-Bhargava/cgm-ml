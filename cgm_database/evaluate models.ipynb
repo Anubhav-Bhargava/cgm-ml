{
 "cells": [
  {
   "cell_type": "code",
   "execution_count": 1,
   "metadata": {},
   "outputs": [
    {
     "name": "stderr",
     "output_type": "stream",
     "text": [
      "/data/anaconda/envs/datathon/lib/python3.6/site-packages/psycopg2/__init__.py:144: UserWarning: The psycopg2 wheel package will be renamed from release 2.8; in order to keep installing from binary please use \"pip install psycopg2-binary\" instead. For details see: <http://initd.org/psycopg/docs/install.html#binary-install-from-pypi>.\n",
      "  \"\"\")\n"
     ]
    }
   ],
   "source": [
    "import random\n",
    "import dbutils\n",
    "from datetime import date\n",
    "from time import mktime\n",
    "\n",
    "main_connector = dbutils.connect_to_main_database()"
   ]
  },
  {
   "cell_type": "code",
   "execution_count": 15,
   "metadata": {},
   "outputs": [
    {
     "name": "stdout",
     "output_type": "stream",
     "text": [
      "SELECT pointcloud_data.path, measurements.qrcode, measurements.height_cms, measurements.weight_kgs FROM pointcloud_data INNER JOIN measurements ON pointcloud_data.measurement_id=measurements.id WHERE measurements.type='manual' AND measurements.timestamp > 1543622400000;\n",
      "Found 443 samples after 2018-12-01.\n",
      "('/whhdata/person/MH_WHH_0013/measurements/1545379607703/pc/pc_MH_WHH_0013_1545379607703_200_009.pcd', 'MH_WHH_0013', 70.0, 7.1)\n",
      "QR-code MH_WHH_0013 has 30 samples.\n",
      "QR-code MH_WHH_0770 has 27 samples.\n",
      "QR-code MH_WHH_1020 has 208 samples.\n",
      "QR-code MH_WHH_1021 has 43 samples.\n",
      "QR-code MH_WHH_1022 has 55 samples.\n",
      "QR-code MH_WHH_1025 has 33 samples.\n",
      "QR-code MH_WHH_1035 has 47 samples.\n"
     ]
    }
   ],
   "source": [
    "#data_table = \"image_data\"\n",
    "data_table = \"pointcloud_data\"\n",
    "\n",
    "# Getting a specific date in time as a 13-digit timestamp.\n",
    "year = 2018\n",
    "month = 12\n",
    "day = 1\n",
    "start = date(year, month, day)\n",
    "timestamp = str(1000 * int(mktime(start.timetuple())))\n",
    "\n",
    "# The values of the measurents-table that should appear in the results.\n",
    "values = [\"qrcode\", \"height_cms\", \"weight_kgs\"]\n",
    "values = [\"measurements.\" + value for value in values]\n",
    "values = \", \".join(values)\n",
    "\n",
    "# Compose an SQL-statement.\n",
    "sql_statement = \"\"\n",
    "sql_statement += \"SELECT {}.path, {}\".format(data_table, values)\n",
    "sql_statement += \" FROM {}\".format(data_table)\n",
    "sql_statement += \" INNER JOIN measurements ON {}.measurement_id=measurements.id\".format(data_table)\n",
    "sql_statement += \" WHERE measurements.type=\\'manual\\'\"\n",
    "sql_statement += \" AND measurements.timestamp > {}\".format(timestamp)\n",
    "sql_statement += \";\"\n",
    "print(sql_statement)\n",
    "\n",
    "# Retrieve the results.\n",
    "results = main_connector.execute(sql_statement, fetch_all=True)\n",
    "if len(results) == 0:\n",
    "    print(\"No results found after {}!\".format(start))\n",
    "else:\n",
    "    print(\"Found {} samples after {}.\".format(len(results), start))\n",
    "    \n",
    "    # Turn everything into a dictionary.\n",
    "    qrcodes_dictionary = {}\n",
    "    for path, qrcode, height, weight in results:\n",
    "        if qrcode not in qrcodes_dictionary:\n",
    "            qrcodes_dictionary[qrcode] = []\n",
    "        qrcodes_dictionary[qrcode].append((height, weight, path))\n",
    "    \n",
    "    print(results[0])\n",
    "    for qrcode, samples in qrcodes_dictionary.items():\n",
    "            print(\"QR-code {} has {} samples.\".format(qrcode, len(samples)))"
   ]
  },
  {
   "cell_type": "code",
   "execution_count": null,
   "metadata": {},
   "outputs": [],
   "source": [
    "import glob\n",
    "import os\n",
    "\n",
    "models_root_path = \"/whhdata/output\"\n",
    "model_paths = glob.glob(os.path.join(models_root_path, \"*.p\"))\n",
    "print(\"Found {} models\".format(len(model_paths)))\n",
    "\n",
    "batch_size = 128\n",
    "\n",
    "for model_path in model_paths:\n",
    "    print(\"Evaluating model \\\"{}\\\"...\".format(model_path))\n",
    "    for batch_index, index in enumerate(range(0, len(results), batch_size)):\n",
    "        print(batch_index, index, index + batch_size)\n"
   ]
  },
  {
   "cell_type": "code",
   "execution_count": null,
   "metadata": {},
   "outputs": [],
   "source": []
  }
 ],
 "metadata": {
  "kernelspec": {
   "display_name": "Python 3",
   "language": "python",
   "name": "python3"
  },
  "language_info": {
   "codemirror_mode": {
    "name": "ipython",
    "version": 3
   },
   "file_extension": ".py",
   "mimetype": "text/x-python",
   "name": "python",
   "nbconvert_exporter": "python",
   "pygments_lexer": "ipython3",
   "version": "3.6.5"
  }
 },
 "nbformat": 4,
 "nbformat_minor": 2
}
