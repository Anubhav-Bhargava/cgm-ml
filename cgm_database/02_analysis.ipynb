{
 "cells": [
  {
   "cell_type": "markdown",
   "metadata": {},
   "source": [
    "# README.\n",
    "\n",
    "This notebook shows how to do some very basic analysis of the measurements."
   ]
  },
  {
   "cell_type": "code",
   "execution_count": null,
   "metadata": {},
   "outputs": [],
   "source": [
    "!echo '{\"dbname\": \"...\", \"user\": \"...@...\", \"host\": \"...\", \"password\": \"...\", \"port\": ..., \"sslmode\": \"require\"}' > dbconnection.json\n",
    "!cat dbconnection.json"
   ]
  },
  {
   "cell_type": "code",
   "execution_count": 3,
   "metadata": {},
   "outputs": [],
   "source": [
    "%matplotlib inline\n",
    "import dbutils\n",
    "import pandas as pd\n",
    "import matplotlib.pyplot as plt\n",
    "import os\n",
    "\n",
    "# Where to store outputs.\n",
    "output_path = \".\"\n",
    "\n",
    "# Connect to database.\n",
    "main_connector = dbutils.connect_to_main_database()"
   ]
  },
  {
   "cell_type": "markdown",
   "metadata": {},
   "source": [
    "# Getting the columns of the tables."
   ]
  },
  {
   "cell_type": "code",
   "execution_count": 4,
   "metadata": {},
   "outputs": [
    {
     "name": "stdout",
     "output_type": "stream",
     "text": [
      "artifact \n",
      "\t id\n",
      "\ttype\n",
      "\tpath\n",
      "\thash_value\n",
      "\tfilesize\n",
      "\tupload_date\n",
      "\tdeleted\n",
      "\tqr_code\n",
      "\tcreate_date\n",
      "\tcreated_by\n",
      "\tstatus\n",
      "measure \n",
      "\t id\n",
      "\tperson_id\n",
      "\tdate\n",
      "\ttype\n",
      "\tage\n",
      "\theight\n",
      "\tweight\n",
      "\tmuac\n",
      "\thead_circumference\n",
      "\tartifact\n",
      "\tvisible\n",
      "\toedema\n",
      "\ttimestamp\n",
      "\tcreated_by\n",
      "\tdeleted\n",
      "\tdeleted_by\n",
      "person \n",
      "\t id\n",
      "\tname\n",
      "\tsurname\n",
      "\tbirthday\n",
      "\tsex\n",
      "\tguardian\n",
      "\tis_age_estimated\n",
      "\tqr_code\n",
      "\tcreated\n",
      "\ttimestamp\n",
      "\tcreated_by\n",
      "\tdeleted\n",
      "\tdeleted_by\n"
     ]
    }
   ],
   "source": [
    "for table in [\"artifact\", \"measure\", \"person\"]:\n",
    "    print(table, \"\\n\\t\", \"\\n\\t\".join(main_connector.get_columns(table)))"
   ]
  },
  {
   "cell_type": "markdown",
   "metadata": {},
   "source": [
    "# Getting statistical values of measurements."
   ]
  },
  {
   "cell_type": "code",
   "execution_count": 5,
   "metadata": {},
   "outputs": [
    {
     "data": {
      "text/html": [
       "<div>\n",
       "<style scoped>\n",
       "    .dataframe tbody tr th:only-of-type {\n",
       "        vertical-align: middle;\n",
       "    }\n",
       "\n",
       "    .dataframe tbody tr th {\n",
       "        vertical-align: top;\n",
       "    }\n",
       "\n",
       "    .dataframe thead th {\n",
       "        text-align: right;\n",
       "    }\n",
       "</style>\n",
       "<table border=\"1\" class=\"dataframe\">\n",
       "  <thead>\n",
       "    <tr style=\"text-align: right;\">\n",
       "      <th></th>\n",
       "      <th>key</th>\n",
       "      <th>minimum</th>\n",
       "      <th>average</th>\n",
       "      <th>maximum</th>\n",
       "    </tr>\n",
       "  </thead>\n",
       "  <tbody>\n",
       "    <tr>\n",
       "      <th>0</th>\n",
       "      <td>age</td>\n",
       "      <td>32523.0</td>\n",
       "      <td>32523.000000000000</td>\n",
       "      <td>32523.0</td>\n",
       "    </tr>\n",
       "    <tr>\n",
       "      <th>1</th>\n",
       "      <td>height</td>\n",
       "      <td>23.0</td>\n",
       "      <td>23</td>\n",
       "      <td>23.0</td>\n",
       "    </tr>\n",
       "    <tr>\n",
       "      <th>2</th>\n",
       "      <td>weight</td>\n",
       "      <td>24.0</td>\n",
       "      <td>24</td>\n",
       "      <td>24.0</td>\n",
       "    </tr>\n",
       "    <tr>\n",
       "      <th>3</th>\n",
       "      <td>muac</td>\n",
       "      <td>235.0</td>\n",
       "      <td>235</td>\n",
       "      <td>235.0</td>\n",
       "    </tr>\n",
       "    <tr>\n",
       "      <th>4</th>\n",
       "      <td>head_circumference</td>\n",
       "      <td>345.0</td>\n",
       "      <td>345</td>\n",
       "      <td>345.0</td>\n",
       "    </tr>\n",
       "  </tbody>\n",
       "</table>\n",
       "</div>"
      ],
      "text/plain": [
       "                  key  minimum             average  maximum\n",
       "0                 age  32523.0  32523.000000000000  32523.0\n",
       "1              height     23.0                  23     23.0\n",
       "2              weight     24.0                  24     24.0\n",
       "3                muac    235.0                 235    235.0\n",
       "4  head_circumference    345.0                 345    345.0"
      ]
     },
     "execution_count": 5,
     "metadata": {},
     "output_type": "execute_result"
    }
   ],
   "source": [
    "columns = [\n",
    " 'age',\n",
    " 'height',\n",
    " 'weight',\n",
    " 'muac',\n",
    " 'head_circumference',\n",
    "]\n",
    "\n",
    "headers = []\n",
    "rows = []\n",
    "for column in columns:\n",
    "    sql_statement = \"SELECT MIN({0}), AVG({0}), MAX({0}) FROM measure;\".format(column)\n",
    "    minimum, average, maximum = main_connector.execute(sql_statement, fetch_one=True)\n",
    "    \n",
    "    rows.append([column, minimum, average, maximum])\n",
    "    \n",
    "headers = (\"key\", \"minimum\", \"average\", \"maximum\")\n",
    "df = pd.DataFrame(rows, columns=headers)\n",
    "df"
   ]
  },
  {
   "cell_type": "code",
   "execution_count": 6,
   "metadata": {},
   "outputs": [
    {
     "data": {
      "text/plain": [
       "(0,)"
      ]
     },
     "execution_count": 6,
     "metadata": {},
     "output_type": "execute_result"
    }
   ],
   "source": [
    "max_age_days = 6 * 30\n",
    "sql_statement = \"\"\n",
    "sql_statement += \"SELECT COUNT(*) FROM measure\"\n",
    "sql_statement += \" WHERE age < {}\".format(max_age_days)\n",
    "sql_statement += \" AND type=\\'manual\\'\"\n",
    "main_connector.execute(sql_statement, fetch_one=True)"
   ]
  },
  {
   "cell_type": "markdown",
   "metadata": {},
   "source": [
    "# Creating pie charts for some columns."
   ]
  },
  {
   "cell_type": "code",
   "execution_count": 7,
   "metadata": {},
   "outputs": [
    {
     "name": "stdout",
     "output_type": "stream",
     "text": [
      "('anubhav',) 1\n",
      "(True,) 1\n"
     ]
    },
    {
     "data": {
      "image/png": "[encoded data removed]",
      "text/plain": [
       "<Figure size 1080x1080 with 1 Axes>"
      ]
     },
     "metadata": {},
     "output_type": "display_data"
    },
    {
     "data": {
      "image/png": "[encoded data removed]",
      "text/plain": [
       "<Figure size 1080x1080 with 1 Axes>"
      ]
     },
     "metadata": {},
     "output_type": "display_data"
    }
   ],
   "source": [
    "from collections import Counter\n",
    "\n",
    "def make_pie(key):\n",
    "    sql_statement = \"SELECT {} FROM measure;\".format(key)\n",
    "    values_list = main_connector.execute(sql_statement, fetch_all=True)\n",
    "\n",
    "    most_common = Counter(values_list).most_common(10000)\n",
    "\n",
    "    # TODO percent\n",
    "    values = []\n",
    "    keys = []\n",
    "    for key, value in most_common:\n",
    "        print(key, value)\n",
    "        keys.append(str(key))\n",
    "        values.append(value)\n",
    "        \n",
    "    plt.figure(figsize=(15, 15))\n",
    "    patches, texts = plt.pie(values)\n",
    "    plt.legend(patches, keys)\n",
    "    plt.title(df_key)\n",
    "    plt.savefig(os.path.join(output_path, \"pie-{}.png\".format(df_key)))\n",
    "\n",
    "    \n",
    "df_keys = [\"created_by\", \"oedema\"]\n",
    "for df_key in df_keys:\n",
    "    make_pie(df_key)"
   ]
  },
  {
   "cell_type": "markdown",
   "metadata": {},
   "source": [
    "# Render histograms."
   ]
  },
  {
   "cell_type": "code",
   "execution_count": 8,
   "metadata": {},
   "outputs": [
    {
     "name": "stdout",
     "output_type": "stream",
     "text": [
      "[]\n"
     ]
    },
    {
     "data": {
      "image/png": "[encoded data removed]",
      "text/plain": [
       "<Figure size 432x288 with 1 Axes>"
      ]
     },
     "metadata": {},
     "output_type": "display_data"
    },
    {
     "name": "stdout",
     "output_type": "stream",
     "text": [
      "[]\n"
     ]
    },
    {
     "data": {
      "image/png": "[encoded data removed]",
      "text/plain": [
       "<Figure size 432x288 with 1 Axes>"
      ]
     },
     "metadata": {},
     "output_type": "display_data"
    },
    {
     "name": "stdout",
     "output_type": "stream",
     "text": [
      "[]\n"
     ]
    },
    {
     "data": {
      "image/png": "[encoded data removed]",
      "text/plain": [
       "<Figure size 432x288 with 1 Axes>"
      ]
     },
     "metadata": {},
     "output_type": "display_data"
    },
    {
     "name": "stdout",
     "output_type": "stream",
     "text": [
      "[]\n"
     ]
    },
    {
     "data": {
      "image/png": "[encoded data removed]",
      "text/plain": [
       "<Figure size 432x288 with 1 Axes>"
      ]
     },
     "metadata": {},
     "output_type": "display_data"
    }
   ],
   "source": [
    "def render_histogram(key, values, bins):\n",
    "    hist = plt.hist(values, bins=bins)\n",
    "    plt.savefig(\"histogram-{}.png\".format(key))\n",
    "    plt.show()\n",
    "    \n",
    "render_parameters = []\n",
    "render_parameters.append((\"age\", 100))\n",
    "render_parameters.append((\"height\", 100))\n",
    "render_parameters.append((\"weight\", 100))\n",
    "render_parameters.append((\"muac\", 100))\n",
    "for key, bins in render_parameters:\n",
    "    sql_statement = \"SELECT {} FROM measure WHERE type='manual'\".format(key)\n",
    "    results = main_connector.execute(sql_statement, fetch_all=True)\n",
    "    values = [result[0] for result in results]\n",
    "    print(values[0:10])\n",
    "    render_histogram(key, values, bins)"
   ]
  },
  {
   "cell_type": "code",
   "execution_count": 9,
   "metadata": {},
   "outputs": [
    {
     "data": {
      "image/png": "[encoded data removed]",
      "text/plain": [
       "<Figure size 1440x720 with 1 Axes>"
      ]
     },
     "metadata": {},
     "output_type": "display_data"
    }
   ],
   "source": [
    "from datetime import date\n",
    "from time import mktime\n",
    "import calendar\n",
    "\n",
    "plot_values = []\n",
    "plot_labels = []\n",
    "for year in [2018, 2019]:\n",
    "    for month in range(1, 13):\n",
    "        \n",
    "        # Getting the start.\n",
    "        start_day = 1\n",
    "        start_date = date(year, month, start_day)\n",
    "        start_timestamp = str(1000 * int(mktime(start_date.timetuple())))\n",
    "        \n",
    "        # Getting the end.\n",
    "        _, end_day = calendar.monthrange(year, month)\n",
    "        end_date = date(year, month, end_day)\n",
    "        end_timestamp = str(1000 * int(mktime(end_date.timetuple())))\n",
    "\n",
    "        # Getting the number of entries from the database.\n",
    "        sql_statement = \"\"\n",
    "        sql_statement += \"SELECT COUNT(*) FROM measure\"\n",
    "        sql_statement += \" WHERE type='manual'\"\n",
    "        sql_statement += \" AND timestamp >= {}\".format(start_timestamp)\n",
    "        sql_statement += \" AND timestamp <= {}\".format(end_timestamp)\n",
    "        number_of_entries = main_connector.execute(sql_statement, fetch_one=True)[0]\n",
    "        \n",
    "        # Prepare the plot.\n",
    "        plot_values.append(number_of_entries)\n",
    "        plot_labels.append(\"{}-{}\".format(year, month))\n",
    "        \n",
    "# Plot the plot.\n",
    "plt.figure(figsize=(20,10))\n",
    "plt.plot(plot_values)\n",
    "plt.xticks(range(len(plot_labels)), plot_labels, rotation='vertical')\n",
    "plt.show()\n",
    "plt.close()"
   ]
  }
 ],
 "metadata": {
  "kernelspec": {
   "display_name": "Python 3.5",
   "language": "python",
   "name": "python3"
  },
  "language_info": {
   "codemirror_mode": {
    "name": "ipython",
    "version": 3
   },
   "file_extension": ".py",
   "mimetype": "text/x-python",
   "name": "python",
   "nbconvert_exporter": "python",
   "pygments_lexer": "ipython3",
   "version": "3.5.5"
  }
 },
 "nbformat": 4,
 "nbformat_minor": 2
}
