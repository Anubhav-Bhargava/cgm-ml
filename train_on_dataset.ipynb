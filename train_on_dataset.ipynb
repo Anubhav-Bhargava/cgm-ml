{
 "cells": [
  {
   "cell_type": "code",
   "execution_count": 1,
   "metadata": {},
   "outputs": [
    {
     "name": "stderr",
     "output_type": "stream",
     "text": [
      "Using TensorFlow backend.\n"
     ]
    }
   ],
   "source": [
    "import modelutils\n",
    "import utils\n",
    "import pickle\n",
    "import numpy as np\n",
    "import matplotlib.pyplot as plt\n",
    "from keras import callbacks\n",
    "import pprint\n",
    "import glob\n",
    "import pickle"
   ]
  },
  {
   "cell_type": "markdown",
   "metadata": {},
   "source": [
    "# Finding the latest dataset-paths."
   ]
  },
  {
   "cell_type": "code",
   "execution_count": 2,
   "metadata": {},
   "outputs": [
    {
     "name": "stdout",
     "output_type": "stream",
     "text": [
      "20180731-1325-voxelgrid-dataset.p\n",
      "20180731-1245-pointcloud-dataset.p\n"
     ]
    }
   ],
   "source": [
    "dataset_name_voxelgrid = sorted([x for x in glob.glob(\"*.p\") if \"voxelgrid-dataset\" in x])[-1]\n",
    "print(dataset_name_voxelgrid)\n",
    "\n",
    "dataset_name_pointcloud = sorted([x for x in glob.glob(\"*.p\") if \"pointcloud-dataset\" in x])[-1]\n",
    "print(dataset_name_pointcloud)"
   ]
  },
  {
   "cell_type": "markdown",
   "metadata": {},
   "source": [
    "# Miscellaneous stuff."
   ]
  },
  {
   "cell_type": "code",
   "execution_count": 3,
   "metadata": {},
   "outputs": [],
   "source": [
    "pp = pprint.PrettyPrinter(indent=4)"
   ]
  },
  {
   "cell_type": "code",
   "execution_count": 4,
   "metadata": {},
   "outputs": [],
   "source": [
    "tensorboard_callback = callbacks.TensorBoard()\n",
    "histories = []"
   ]
  },
  {
   "cell_type": "code",
   "execution_count": 5,
   "metadata": {},
   "outputs": [],
   "source": [
    "def save_model_and_history(model, history, name):\n",
    "    \n",
    "    print(\"Saving model and history...\")\n",
    "    \n",
    "    datetime_string = utils.get_datetime_string()\n",
    "    \n",
    "    model_name = datetime_string + \"-\" + name + \"-model.h5\"\n",
    "    model_voxnet.save(model_name)\n",
    "    print(\"Saved model to\" + model_name)\n",
    "\n",
    "    \n",
    "    history_name = datetime_string + \"-\" + name + \"-history.p\"\n",
    "    pickle.dump(history.history, open(history_name, \"wb\"))\n",
    "    print(\"Saved history to\" + history_name)"
   ]
  },
  {
   "cell_type": "markdown",
   "metadata": {},
   "source": [
    "# Training VoxNet."
   ]
  },
  {
   "cell_type": "code",
   "execution_count": 6,
   "metadata": {},
   "outputs": [
    {
     "name": "stdout",
     "output_type": "stream",
     "text": [
      "Loading dataset...\n",
      "{   'dataset_size_test': 1000,\n",
      "    'dataset_size_train': 6000,\n",
      "    'input_type': 'voxelgrid',\n",
      "    'output_targets': ['height', 'weight'],\n",
      "    'random_seed': 666,\n",
      "    'voxel_size_meters': 0.1,\n",
      "    'voxelgrid_random_rotation': True,\n",
      "    'voxelgrid_target_shape': (32, 32, 32)}\n"
     ]
    }
   ],
   "source": [
    "dataset_name = dataset_name_voxelgrid\n",
    "\n",
    "print(\"Loading dataset...\")\n",
    "(x_input_train, y_output_train), (x_input_test, y_output_test), dataset_parameters = pickle.load(open(dataset_name, \"rb\"))\n",
    "pp.pprint(dataset_parameters)"
   ]
  },
  {
   "cell_type": "code",
   "execution_count": 7,
   "metadata": {},
   "outputs": [
    {
     "name": "stdout",
     "output_type": "stream",
     "text": [
      "_________________________________________________________________\n",
      "Layer (type)                 Output Shape              Param #   \n",
      "=================================================================\n",
      "reshape_1 (Reshape)          (None, 32, 32, 32, 1)     0         \n",
      "_________________________________________________________________\n",
      "conv3d_1 (Conv3D)            (None, 14, 14, 14, 32)    4032      \n",
      "_________________________________________________________________\n",
      "conv3d_2 (Conv3D)            (None, 12, 12, 12, 32)    27680     \n",
      "_________________________________________________________________\n",
      "max_pooling3d_1 (MaxPooling3 (None, 6, 6, 6, 32)       0         \n",
      "_________________________________________________________________\n",
      "flatten_1 (Flatten)          (None, 6912)              0         \n",
      "_________________________________________________________________\n",
      "dense_1 (Dense)              (None, 128)               884864    \n",
      "_________________________________________________________________\n",
      "dense_2 (Dense)              (None, 2)                 258       \n",
      "=================================================================\n",
      "Total params: 916,834\n",
      "Trainable params: 916,834\n",
      "Non-trainable params: 0\n",
      "_________________________________________________________________\n",
      "Epoch 1/1\n",
      "1/1 [==============================] - 0s 329ms/step - loss: 4045.5676 - mean_absolute_error: 50.0502\n",
      "Saving model and history...\n",
      "Saved model to20180731-1622-voxnet-model.h5\n",
      "Saved history to20180731-1622-voxnet-history.p\n"
     ]
    }
   ],
   "source": [
    "input_shape = (32, 32, 32)\n",
    "output_size = 2 \n",
    "model_voxnet = modelutils.create_voxnet_model_homepage(input_shape, output_size)\n",
    "model_voxnet.summary()\n",
    "\n",
    " # Compile the model.\n",
    "model_voxnet.compile(\n",
    "        optimizer=\"rmsprop\",\n",
    "        loss=\"mse\",\n",
    "        metrics=[\"mae\"]\n",
    "    )\n",
    "\n",
    "# Train the model.\n",
    "history = model_voxnet.fit(\n",
    "    x_input_train, y_output_train,\n",
    "    epochs=50,\n",
    "    validation_data=(x_input_test, y_output_test),\n",
    "    callbacks=[tensorboard_callback]\n",
    "    )\n",
    "\n",
    "histories.append(history)\n",
    "\n",
    "save_model_and_history(model_voxnet, history, \"voxnet\")"
   ]
  },
  {
   "cell_type": "markdown",
   "metadata": {},
   "source": [
    "# Training PointNet."
   ]
  },
  {
   "cell_type": "code",
   "execution_count": 8,
   "metadata": {},
   "outputs": [
    {
     "name": "stdout",
     "output_type": "stream",
     "text": [
      "Loading dataset...\n",
      "{   'dataset_size_test': 500,\n",
      "    'dataset_size_train': 3000,\n",
      "    'input_type': 'pointcloud',\n",
      "    'output_targets': ['height', 'weight'],\n",
      "    'pointcloud_random_rotation': True,\n",
      "    'pointcloud_target_size': 30000,\n",
      "    'random_seed': 666}\n",
      "Ignoring shape: (27205, 4)\n",
      "Ignoring shape: (29891, 4)\n",
      "Ignoring shape: (26896, 4)\n",
      "Ignoring shape: (27134, 4)\n",
      "Ignoring shape: (29011, 4)\n",
      "Ignoring shape: (28040, 4)\n",
      "Ignoring shape: (26228, 4)\n",
      "Ignoring shape: (26965, 4)\n",
      "Ignoring shape: (26611, 4)\n",
      "Ignoring shape: (25740, 4)\n",
      "Ignoring shape: (27451, 4)\n",
      "Ignoring shape: (26563, 4)\n",
      "Ignoring shape: (26166, 4)\n",
      "Ignoring shape: (27564, 4)\n",
      "Ignoring shape: (27773, 4)\n",
      "Ignoring shape: (27134, 4)\n",
      "Ignoring shape: (27807, 4)\n",
      "Ignoring shape: (27089, 4)\n",
      "Ignoring shape: (27773, 4)\n",
      "Ignoring shape: (27709, 4)\n",
      "Ignoring shape: (25900, 4)\n",
      "Ignoring shape: (27288, 4)\n",
      "Ignoring shape: (27807, 4)\n",
      "Ignoring shape: (29601, 4)\n",
      "Ignoring shape: (26742, 4)\n",
      "Ignoring shape: (26304, 4)\n",
      "Ignoring shape: (26793, 4)\n",
      "Ignoring shape: (27205, 4)\n",
      "Ignoring shape: (27288, 4)\n",
      "Ignoring shape: (26503, 4)\n",
      "Ignoring shape: (29059, 4)\n",
      "Ignoring shape: (25740, 4)\n",
      "Ignoring shape: (27081, 4)\n",
      "Ignoring shape: (27357, 4)\n",
      "Ignoring shape: (27564, 4)\n",
      "Ignoring shape: (27727, 4)\n",
      "Ignoring shape: (27134, 4)\n",
      "Ignoring shape: (26503, 4)\n",
      "Ignoring shape: (26232, 4)\n",
      "Ignoring shape: (29891, 4)\n",
      "Ignoring shape: (26793, 4)\n",
      "Ignoring shape: (27451, 4)\n",
      "Ignoring shape: (27099, 4)\n",
      "Ignoring shape: (26247, 4)\n",
      "Ignoring shape: (26563, 4)\n",
      "Ignoring shape: (26907, 4)\n",
      "Ignoring shape: (26232, 4)\n",
      "Ignoring shape: (25900, 4)\n",
      "Ignoring shape: (27807, 4)\n",
      "Ignoring shape: (26965, 4)\n",
      "Ignoring shape: (27838, 4)\n",
      "Ignoring shape: (29059, 4)\n",
      "Ignoring shape: (27357, 4)\n",
      "Ignoring shape: (26949, 4)\n",
      "Ignoring shape: (29891, 4)\n",
      "Ignoring shape: (27113, 4)\n",
      "Ignoring shape: (27113, 4)\n",
      "Ignoring shape: (27451, 4)\n",
      "Ignoring shape: (26793, 4)\n",
      "Ignoring shape: (27838, 4)\n",
      "Ignoring shape: (26675, 4)\n",
      "Ignoring shape: (26965, 4)\n",
      "Ignoring shape: (26896, 4)\n",
      "Ignoring shape: (27642, 4)\n",
      "Ignoring shape: (27288, 4)\n",
      "Ignoring shape: (27422, 4)\n",
      "Training data input shape: (2934, 30000, 3)\n",
      "Training data output shape: (2934, 2)\n",
      "Testing data input shape: (2934, 30000, 3)\n",
      "Testing data output shape: (2934, 2)\n",
      "\n"
     ]
    }
   ],
   "source": [
    "dataset_name = dataset_name_pointcloud\n",
    "\n",
    "print(\"Loading dataset...\")\n",
    "(x_input_train, y_output_train), (x_input_test, y_output_test), dataset_parameters = pickle.load(open(dataset_name, \"rb\"))\n",
    "pp.pprint(dataset_parameters)\n",
    "\n",
    "def transform(x_input, y_output):\n",
    "\n",
    "    x_input_transformed = []\n",
    "    y_output_transformed = []\n",
    "    for input_sample, output_sample in zip(x_input_train, y_output_train):\n",
    "        if input_sample.shape[0] == 30000:\n",
    "            x_input_transformed.append(input_sample[:,0:3])\n",
    "            y_output_transformed.append(output_sample)\n",
    "        else:\n",
    "            # TODO maybe do some padding here?\n",
    "            print(\"Ignoring shape:\", input_sample.shape)\n",
    "            \n",
    "    x_input_transformed = np.array(x_input_transformed)\n",
    "    y_output_transformed = np.array(y_output_transformed)\n",
    "    return x_input_transformed, y_output_transformed\n",
    "    \n",
    "x_input_train, y_output_train = transform(x_input_train, y_output_train)\n",
    "x_input_test, y_output_test = transform(x_input_test, y_output_test)\n",
    "\n",
    "print(\"Training data input shape:\", x_input_train.shape)\n",
    "print(\"Training data output shape:\", y_output_train.shape)\n",
    "print(\"Testing data input shape:\", x_input_test.shape)\n",
    "print(\"Testing data output shape:\", y_output_test.shape)\n",
    "print(\"\")"
   ]
  },
  {
   "cell_type": "code",
   "execution_count": 9,
   "metadata": {},
   "outputs": [
    {
     "name": "stdout",
     "output_type": "stream",
     "text": [
      "_________________________________________________________________\n",
      "Layer (type)                 Output Shape              Param #   \n",
      "=================================================================\n",
      "input_1 (InputLayer)         (None, 30000, 3)          0         \n",
      "_________________________________________________________________\n",
      "lambda_1 (Lambda)            (None, 30000, 3)          0         \n",
      "_________________________________________________________________\n",
      "conv1d_4 (Conv1D)            (None, 30000, 64)         256       \n",
      "_________________________________________________________________\n",
      "batch_normalization_6 (Batch (None, 30000, 64)         256       \n",
      "_________________________________________________________________\n",
      "conv1d_5 (Conv1D)            (None, 30000, 64)         4160      \n",
      "_________________________________________________________________\n",
      "batch_normalization_7 (Batch (None, 30000, 64)         256       \n",
      "_________________________________________________________________\n",
      "lambda_2 (Lambda)            (None, 30000, 64)         0         \n",
      "_________________________________________________________________\n",
      "conv1d_9 (Conv1D)            (None, 30000, 64)         4160      \n",
      "_________________________________________________________________\n",
      "batch_normalization_13 (Batc (None, 30000, 64)         256       \n",
      "_________________________________________________________________\n",
      "conv1d_10 (Conv1D)           (None, 30000, 128)        8320      \n",
      "_________________________________________________________________\n",
      "batch_normalization_14 (Batc (None, 30000, 128)        512       \n",
      "_________________________________________________________________\n",
      "conv1d_11 (Conv1D)           (None, 30000, 1024)       132096    \n",
      "_________________________________________________________________\n",
      "batch_normalization_15 (Batc (None, 30000, 1024)       4096      \n",
      "_________________________________________________________________\n",
      "max_pooling1d_3 (MaxPooling1 (None, 1, 1024)           0         \n",
      "_________________________________________________________________\n",
      "dense_9 (Dense)              (None, 1, 512)            524800    \n",
      "_________________________________________________________________\n",
      "batch_normalization_16 (Batc (None, 1, 512)            2048      \n",
      "_________________________________________________________________\n",
      "dropout_1 (Dropout)          (None, 1, 512)            0         \n",
      "_________________________________________________________________\n",
      "dense_10 (Dense)             (None, 1, 256)            131328    \n",
      "_________________________________________________________________\n",
      "batch_normalization_17 (Batc (None, 1, 256)            1024      \n",
      "_________________________________________________________________\n",
      "dropout_2 (Dropout)          (None, 1, 256)            0         \n",
      "_________________________________________________________________\n",
      "dense_11 (Dense)             (None, 1, 2)              514       \n",
      "_________________________________________________________________\n",
      "flatten_2 (Flatten)          (None, 2)                 0         \n",
      "=================================================================\n",
      "Total params: 814,082\n",
      "Trainable params: 809,858\n",
      "Non-trainable params: 4,224\n",
      "_________________________________________________________________\n",
      "Epoch 1/1\n",
      "1/1 [==============================] - 4s 4s/step - loss: 4045.5654 - mean_absolute_error: 50.0500\n",
      "Saving model and history...\n",
      "Saved model to20180731-1623-pointnet-model.h5\n",
      "Saved history to20180731-1623-pointnet-history.p\n"
     ]
    }
   ],
   "source": [
    "input_shape = (30000, 3)\n",
    "output_size = 2 \n",
    "model_pointnet = modelutils.create_point_net(input_shape, output_size)\n",
    "model_pointnet.summary()\n",
    "\n",
    " # Compile the model.\n",
    "model_pointnet.compile(\n",
    "        optimizer=\"rmsprop\",\n",
    "        loss=\"mse\",\n",
    "        metrics=[\"mae\"]\n",
    "    )\n",
    "\n",
    "# Train the model.\n",
    "history = model_pointnet.fit(\n",
    "    x_input_train, y_output_train,\n",
    "    epochs=50,\n",
    "    validation_data=(x_input_test, y_output_test),\n",
    "    callbacks=[tensorboard_callback],\n",
    "    batch_size=8\n",
    "    )\n",
    "\n",
    "histories.append(history)\n",
    "\n",
    "save_model_and_history(model_voxnet, history, \"pointnet\")"
   ]
  },
  {
   "cell_type": "markdown",
   "metadata": {},
   "source": [
    "# Plot the histories."
   ]
  },
  {
   "cell_type": "code",
   "execution_count": 14,
   "metadata": {},
   "outputs": [
    {
     "data": {
      "image/png": "[encoded data removed]",
      "text/plain": [
       "<Figure size 432x288 with 1 Axes>"
      ]
     },
     "metadata": {},
     "output_type": "display_data"
    }
   ],
   "source": [
    "def plot_histories(histories, names):\n",
    "    for index, (history, name) in enumerate(zip(histories, names)):\n",
    "        for key, data in history.history.items():\n",
    "            plt.plot(data, label=name + \"-\" + key)\n",
    "    \n",
    "    # TODO consider: plt.savefig()\n",
    "    plt.show()\n",
    "    plt.close()\n",
    "    \n",
    "plot_histories(histories, [\"voxnet\", \"pointnet\"])"
   ]
  },
  {
   "cell_type": "code",
   "execution_count": null,
   "metadata": {},
   "outputs": [],
   "source": []
  }
 ],
 "metadata": {
  "kernelspec": {
   "display_name": "Python 3",
   "language": "python",
   "name": "python3"
  },
  "language_info": {
   "codemirror_mode": {
    "name": "ipython",
    "version": 3
   },
   "file_extension": ".py",
   "mimetype": "text/x-python",
   "name": "python",
   "nbconvert_exporter": "python",
   "pygments_lexer": "ipython3",
   "version": "3.6.5"
  }
 },
 "nbformat": 4,
 "nbformat_minor": 2
}
