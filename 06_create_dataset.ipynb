{
 "cells": [
  {
   "cell_type": "code",
   "execution_count": 1,
   "metadata": {},
   "outputs": [
    {
     "name": "stderr",
     "output_type": "stream",
     "text": [
      "/Users/tristanbehrens/Development/python-venvs/venv-3.6/lib/python3.6/site-packages/h5py/__init__.py:36: FutureWarning: Conversion of the second argument of issubdtype from `float` to `np.floating` is deprecated. In future, it will be treated as `np.float64 == np.dtype(float).type`.\n",
      "  from ._conv import register_converters as _register_converters\n",
      "Using TensorFlow backend.\n"
     ]
    }
   ],
   "source": [
    "import os\n",
    "from datagenerator import DataGenerator\n",
    "import pickle"
   ]
  },
  {
   "cell_type": "code",
   "execution_count": 3,
   "metadata": {},
   "outputs": [
    {
     "name": "stdout",
     "output_type": "stream",
     "text": [
      "Processing: SAM-02-003-01\n",
      "No data for: SAM-02-003-01\n",
      "Processing: SAM-GOV-001\n",
      "No data for: SAM-GOV-001\n",
      "Processing: SAM-GOV-002\n",
      "[67.2, 6.2]\n",
      "Processing: SAM-GOV-003\n",
      "[75.3, 7.1]\n",
      "Saved image-dataset.p\n",
      "Processing: SAM-02-003-01\n",
      "No data for: SAM-02-003-01\n",
      "Processing: SAM-GOV-001\n",
      "No data for: SAM-GOV-001\n",
      "Processing: SAM-GOV-002\n",
      "[67.2, 6.2]\n",
      "Processing: SAM-GOV-003\n",
      "[75.3, 7.1]\n",
      "Saved voxelgrid-dataset.p\n",
      "Processing: SAM-02-003-01\n",
      "No data for: SAM-02-003-01\n",
      "Processing: SAM-GOV-001\n",
      "No data for: SAM-GOV-001\n",
      "Processing: SAM-GOV-002\n",
      "[67.2, 6.2]\n",
      "Processing: SAM-GOV-003\n",
      "[75.3, 7.1]\n",
      "Saved pointcloud-dataset.p\n",
      "Done.\n"
     ]
    }
   ],
   "source": [
    "if os.path.exists(\"datasetpath.txt\"):\n",
    "    dataset_path = open(\"datasetpath.txt\", \"r\").read().replace(\"\\n\", \"\")\n",
    "else:\n",
    "    dataset_path = \"../data\"\n",
    "    \n",
    "input_types = [\"image\", \"voxelgrid\", \"pointcloud\"]\n",
    "for input_type in input_types:\n",
    "    data_generator = DataGenerator(dataset_path=dataset_path, input_type=input_type, output_targets=[\"height\", \"weight\"])\n",
    "    x_qrcodes, x_inputs, y_outputs = data_generator.generate_dataset(data_generator.qrcodes[0:4])\n",
    "\n",
    "    dataset_name = input_type + \"-dataset.p\"\n",
    "    pickle.dump((x_qrcodes, x_inputs, y_outputs), open(dataset_name, \"wb\"))\n",
    "    print(\"Saved \" + dataset_name)\n",
    "    \n",
    "print(\"Done.\")"
   ]
  },
  {
   "cell_type": "code",
   "execution_count": null,
   "metadata": {},
   "outputs": [],
   "source": []
  }
 ],
 "metadata": {
  "kernelspec": {
   "display_name": "Python 3",
   "language": "python",
   "name": "python3"
  },
  "language_info": {
   "codemirror_mode": {
    "name": "ipython",
    "version": 3
   },
   "file_extension": ".py",
   "mimetype": "text/x-python",
   "name": "python",
   "nbconvert_exporter": "python",
   "pygments_lexer": "ipython3",
   "version": "3.6.4"
  }
 },
 "nbformat": 4,
 "nbformat_minor": 2
}
