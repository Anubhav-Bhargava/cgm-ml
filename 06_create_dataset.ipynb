{
 "cells": [
  {
   "cell_type": "markdown",
   "metadata": {},
   "source": [
    "# Dataset-Generator."
   ]
  },
  {
   "cell_type": "code",
   "execution_count": 1,
   "metadata": {},
   "outputs": [
    {
     "name": "stderr",
     "output_type": "stream",
     "text": [
      "/Users/tristanbehrens/Development/python-venvs/venv-3.6/lib/python3.6/site-packages/h5py/__init__.py:36: FutureWarning: Conversion of the second argument of issubdtype from `float` to `np.floating` is deprecated. In future, it will be treated as `np.float64 == np.dtype(float).type`.\n",
      "  from ._conv import register_converters as _register_converters\n",
      "Using TensorFlow backend.\n"
     ]
    }
   ],
   "source": [
    "import os\n",
    "from datagenerator import DataGenerator\n",
    "import pickle\n",
    "import random\n",
    "import datetime"
   ]
  },
  {
   "cell_type": "markdown",
   "metadata": {},
   "source": [
    "# Setting the parameters."
   ]
  },
  {
   "cell_type": "code",
   "execution_count": 2,
   "metadata": {},
   "outputs": [],
   "source": [
    "if os.path.exists(\"datasetpath.txt\"):\n",
    "    dataset_path = open(\"datasetpath.txt\", \"r\").read().replace(\"\\n\", \"\")\n",
    "else:\n",
    "    dataset_path = \"../data\"\n",
    "\n",
    "# For creating voxelgrids.\n",
    "#dataset_parameters = {}\n",
    "#dataset_parameters[\"input_type\"] = \"voxelgrid\"\n",
    "#dataset_parameters[\"output_targets\"] = [\"height\", \"weight\"]    \n",
    "#dataset_parameters[\"random_seed\"] = 666\n",
    "#dataset_parameters[\"voxelgrid_target_shape\"] = (32, 32, 32)\n",
    "#dataset_parameters[\"voxel_size_meters\"] = 0.1\n",
    "#dataset_parameters[\"voxelgrid_random_rotation\"] = True\n",
    "#dataset_parameters[\"dataset_size_train\"] = 6000\n",
    "#dataset_parameters[\"dataset_size_test\"] = 1000\n",
    "\n",
    "# For creating pointclouds.\n",
    "dataset_parameters = {}\n",
    "dataset_parameters[\"input_type\"] = \"pointcloud\"\n",
    "dataset_parameters[\"output_targets\"] = [\"height\", \"weight\"]    \n",
    "dataset_parameters[\"random_seed\"] = 666\n",
    "dataset_parameters[\"pointcloud_target_size\"] = 30000\n",
    "dataset_parameters[\"pointcloud_random_rotation\"] = True\n",
    "dataset_parameters[\"dataset_size_train\"] = 3000\n",
    "dataset_parameters[\"dataset_size_test\"] = 500"
   ]
  },
  {
   "cell_type": "markdown",
   "metadata": {},
   "source": [
    "# Creating the data-generator.\n",
    "Makes use of the parameters."
   ]
  },
  {
   "cell_type": "code",
   "execution_count": 3,
   "metadata": {},
   "outputs": [
    {
     "name": "stdout",
     "output_type": "stream",
     "text": [
      "Creating data-generator...\n",
      "WARNING! Multiple manual measurements for QR-code: SAM-GOV-049 ../data/db/persons/c79b708e301d9c71_shaikh_1531300004131_40Aq4RZQ3gUZts74/measures/c79b708e301d9c71_measure_1531300841811_Lhp0PzvwnmlyRspG/c79b708e301d9c71_measure_1531300841811_Lhp0PzvwnmlyRspG.json\n",
      "WARNING! Multiple manual measurements for QR-code: SAM-SNG-014 ../data/db/persons/f2467a1fb0c542b9_kamble_1530687006027_AVA2AqQDcVsHYrrK/measures/f2467a1fb0c542b9_measure_1531291525951_BhMYXh4Zeu9Jk7Zr/f2467a1fb0c542b9_measure_1531291525951_BhMYXh4Zeu9Jk7Zr.json\n",
      "WARNING! Multiple manual measurements for QR-code: SAM-SNG-096 ../data/db/persons/f2467a1fb0c542b9_kamble_1530687464869_e6puVVsetdSpP7sH/measures/f2467a1fb0c542b9_measure_1531291761123_0ZS7kMnJLy70pe4I/f2467a1fb0c542b9_measure_1531291761123_0ZS7kMnJLy70pe4I.json\n"
     ]
    }
   ],
   "source": [
    "print(\"Creating data-generator...\")\n",
    "data_generator = DataGenerator(\n",
    "    dataset_path=dataset_path, \n",
    "    input_type=dataset_parameters[\"input_type\"], \n",
    "    output_targets=dataset_parameters[\"output_targets\"],\n",
    "    voxelgrid_target_shape=dataset_parameters.get(\"voxelgrid_target_shape\", None),\n",
    "    voxel_size_meters=dataset_parameters.get(\"voxel_size_meters\", None),\n",
    "    voxelgrid_random_rotation=dataset_parameters.get(\"voxelgrid_random_rotation\", None),\n",
    "    pointcloud_target_size=dataset_parameters.get(\"pointcloud_target_size\", None),\n",
    "    pointcloud_random_rotation=dataset_parameters.get(\"pointcloud_random_rotation\", None)\n",
    ")"
   ]
  },
  {
   "cell_type": "markdown",
   "metadata": {},
   "source": [
    "# Analysis."
   ]
  },
  {
   "cell_type": "code",
   "execution_count": 4,
   "metadata": {},
   "outputs": [
    {
     "name": "stdout",
     "output_type": "stream",
     "text": [
      "Skipped analysis.\n"
     ]
    }
   ],
   "source": [
    "do_analysis = False\n",
    "#do_analysis = True\n",
    "\n",
    "if do_analysis == True:\n",
    "    data_generator.analyze_files()\n",
    "    data_generator.analyze_targets()\n",
    "    data_generator.analyze_pointclouds()\n",
    "    data_generator.analyze_voxelgrids()\n",
    "    # how much data per measure?\n",
    "else:\n",
    "    print(\"Skipped analysis.\")"
   ]
  },
  {
   "cell_type": "markdown",
   "metadata": {},
   "source": [
    "# Do the train-test-split and generate."
   ]
  },
  {
   "cell_type": "code",
   "execution_count": 5,
   "metadata": {},
   "outputs": [
    {
     "name": "stdout",
     "output_type": "stream",
     "text": [
      "\n",
      "QR-Codes for training: SAM-GOV-002 SAM-GOV-004 SAM-GOV-008 SAM-GOV-011 SAM-GOV-012 SAM-GOV-014 SAM-GOV-023 SAM-GOV-025 SAM-GOV-026 SAM-GOV-033 SAM-GOV-034 SAM-GOV-035 SAM-GOV-036 SAM-GOV-037 SAM-GOV-038 SAM-GOV-042 SAM-GOV-043 SAM-GOV-045 SAM-GOV-046 SAM-GOV-050 SAM-GOV-052 SAM-GOV-087 SAM-SNG-011 SAM-SNG-012 SAM-SNG-014 SAM-SNG-015 SAM-SNG-021 SAM-SNG-036 SAM-SNG-066 SAM-SNG-067 SAM-SNG-070 SAM-SNG-072 SAM-SNG-073 SAM-SNG-075 SAM-SNG-083 SAM-SNG-084 SAM-SNG-087 SAM-SNG-088 SAM-SNG-091 SAM-SNG-096 SAM-SNG-097 SAM-SNG-098\n",
      "\n",
      "QR-Codes for testing: SAM-GOV-001 SAM-GOV-005 SAM-GOV-013 SAM-GOV-041 SAM-GOV-044 SAM-GOV-049 SAM-GOV-054 SAM-GOV-099 SAM-SNG-013 SAM-SNG-016 SAM-SNG-085\n",
      "\n",
      "Generating training data...\n"
     ]
    },
    {
     "name": "stderr",
     "output_type": "stream",
     "text": [
      "  1% (57 of 3000) |                       | Elapsed Time: 0:00:19 ETA:  0:17:13"
     ]
    },
    {
     "name": "stdout",
     "output_type": "stream",
     "text": [
      "Wrong number of columns at line 26222\n"
     ]
    },
    {
     "name": "stderr",
     "output_type": "stream",
     "text": [
      "  3% (97 of 3000) |                       | Elapsed Time: 0:00:34 ETA:  0:16:58"
     ]
    },
    {
     "name": "stdout",
     "output_type": "stream",
     "text": [
      "Wrong number of columns at line 26670\n"
     ]
    },
    {
     "name": "stderr",
     "output_type": "stream",
     "text": [
      "  3% (118 of 3000) |                      | Elapsed Time: 0:00:41 ETA:  0:16:22"
     ]
    },
    {
     "name": "stdout",
     "output_type": "stream",
     "text": [
      "Wrong number of columns at line 26667\n"
     ]
    },
    {
     "name": "stderr",
     "output_type": "stream",
     "text": [
      "  8% (263 of 3000) |#                     | Elapsed Time: 0:01:32 ETA:  0:15:16"
     ]
    },
    {
     "name": "stdout",
     "output_type": "stream",
     "text": [
      "Wrong number of columns at line 25616\n"
     ]
    },
    {
     "name": "stderr",
     "output_type": "stream",
     "text": [
      " 12% (384 of 3000) |##                    | Elapsed Time: 0:02:19 ETA:  0:20:25"
     ]
    },
    {
     "name": "stdout",
     "output_type": "stream",
     "text": [
      "Wrong number of columns at line 33561\n",
      "Wrong number of columns at line 33593\n"
     ]
    },
    {
     "name": "stderr",
     "output_type": "stream",
     "text": [
      " 16% (501 of 3000) |###                   | Elapsed Time: 0:03:01 ETA:  0:13:56"
     ]
    },
    {
     "name": "stdout",
     "output_type": "stream",
     "text": [
      "Wrong number of columns at line 33561\n"
     ]
    },
    {
     "name": "stderr",
     "output_type": "stream",
     "text": [
      " 16% (503 of 3000) |###                   | Elapsed Time: 0:03:02 ETA:  0:14:16"
     ]
    },
    {
     "name": "stdout",
     "output_type": "stream",
     "text": [
      "Wrong number of columns at line 26222\n"
     ]
    },
    {
     "name": "stderr",
     "output_type": "stream",
     "text": [
      " 16% (509 of 3000) |###                   | Elapsed Time: 0:03:04 ETA:  0:14:28"
     ]
    },
    {
     "name": "stdout",
     "output_type": "stream",
     "text": [
      "Wrong number of columns at line 33593\n"
     ]
    },
    {
     "name": "stderr",
     "output_type": "stream",
     "text": [
      " 19% (585 of 3000) |####                  | Elapsed Time: 0:03:31 ETA:  0:13:38"
     ]
    },
    {
     "name": "stdout",
     "output_type": "stream",
     "text": [
      "Wrong number of columns at line 26323\n"
     ]
    },
    {
     "name": "stderr",
     "output_type": "stream",
     "text": [
      " 23% (705 of 3000) |#####                 | Elapsed Time: 0:04:13 ETA:  0:12:58"
     ]
    },
    {
     "name": "stdout",
     "output_type": "stream",
     "text": [
      "Wrong number of columns at line 33593\n"
     ]
    },
    {
     "name": "stderr",
     "output_type": "stream",
     "text": [
      " 29% (882 of 3000) |######                | Elapsed Time: 0:05:21 ETA:  0:12:13"
     ]
    },
    {
     "name": "stdout",
     "output_type": "stream",
     "text": [
      "Wrong number of columns at line 26239\n"
     ]
    },
    {
     "name": "stderr",
     "output_type": "stream",
     "text": [
      " 40% (1222 of 3000) |########             | Elapsed Time: 0:07:19 ETA:  0:10:24"
     ]
    },
    {
     "name": "stdout",
     "output_type": "stream",
     "text": [
      "Wrong number of columns at line 33683\n"
     ]
    },
    {
     "name": "stderr",
     "output_type": "stream",
     "text": [
      " 45% (1355 of 3000) |#########            | Elapsed Time: 0:08:08 ETA:  0:09:47"
     ]
    },
    {
     "name": "stdout",
     "output_type": "stream",
     "text": [
      "Wrong number of columns at line 26361\n"
     ]
    },
    {
     "name": "stderr",
     "output_type": "stream",
     "text": [
      " 45% (1367 of 3000) |#########            | Elapsed Time: 0:08:13 ETA:  0:10:07"
     ]
    },
    {
     "name": "stdout",
     "output_type": "stream",
     "text": [
      "Wrong number of columns at line 26553\n"
     ]
    },
    {
     "name": "stderr",
     "output_type": "stream",
     "text": [
      " 46% (1393 of 3000) |#########            | Elapsed Time: 0:08:22 ETA:  0:10:16"
     ]
    },
    {
     "name": "stdout",
     "output_type": "stream",
     "text": [
      "Wrong number of columns at line 25900\n"
     ]
    },
    {
     "name": "stderr",
     "output_type": "stream",
     "text": [
      " 46% (1397 of 3000) |#########            | Elapsed Time: 0:08:24 ETA:  0:09:48"
     ]
    },
    {
     "name": "stdout",
     "output_type": "stream",
     "text": [
      "Wrong number of columns at line 26553\n"
     ]
    },
    {
     "name": "stderr",
     "output_type": "stream",
     "text": [
      " 59% (1787 of 3000) |############         | Elapsed Time: 0:10:48 ETA:  0:08:04"
     ]
    },
    {
     "name": "stdout",
     "output_type": "stream",
     "text": [
      "Wrong number of columns at line 25900\n"
     ]
    },
    {
     "name": "stderr",
     "output_type": "stream",
     "text": [
      " 60% (1819 of 3000) |############         | Elapsed Time: 0:10:59 ETA:  0:06:52"
     ]
    },
    {
     "name": "stdout",
     "output_type": "stream",
     "text": [
      "Wrong number of columns at line 26636\n"
     ]
    },
    {
     "name": "stderr",
     "output_type": "stream",
     "text": [
      " 70% (2116 of 3000) |##############       | Elapsed Time: 0:12:46 ETA:  0:05:21"
     ]
    },
    {
     "name": "stdout",
     "output_type": "stream",
     "text": [
      "Wrong number of columns at line 26239\n",
      "Wrong number of columns at line 26670\n"
     ]
    },
    {
     "name": "stderr",
     "output_type": "stream",
     "text": [
      " 73% (2213 of 3000) |###############      | Elapsed Time: 0:13:23 ETA:  0:04:38"
     ]
    },
    {
     "name": "stdout",
     "output_type": "stream",
     "text": [
      "Wrong number of columns at line 25900\n"
     ]
    },
    {
     "name": "stderr",
     "output_type": "stream",
     "text": [
      " 74% (2224 of 3000) |###############      | Elapsed Time: 0:13:27 ETA:  0:04:40"
     ]
    },
    {
     "name": "stdout",
     "output_type": "stream",
     "text": [
      "Wrong number of columns at line 26239\n"
     ]
    },
    {
     "name": "stderr",
     "output_type": "stream",
     "text": [
      " 78% (2367 of 3000) |################     | Elapsed Time: 0:14:19 ETA:  0:04:01"
     ]
    },
    {
     "name": "stdout",
     "output_type": "stream",
     "text": [
      "Wrong number of columns at line 26670\n"
     ]
    },
    {
     "name": "stderr",
     "output_type": "stream",
     "text": [
      " 79% (2380 of 3000) |################     | Elapsed Time: 0:14:24 ETA:  0:03:52"
     ]
    },
    {
     "name": "stdout",
     "output_type": "stream",
     "text": [
      "Wrong number of columns at line 26670\n"
     ]
    },
    {
     "name": "stderr",
     "output_type": "stream",
     "text": [
      " 83% (2493 of 3000) |#################    | Elapsed Time: 0:15:05 ETA:  0:03:00"
     ]
    },
    {
     "name": "stdout",
     "output_type": "stream",
     "text": [
      "Wrong number of columns at line 26667\n"
     ]
    },
    {
     "name": "stderr",
     "output_type": "stream",
     "text": [
      " 95% (2864 of 3000) |#################### | Elapsed Time: 0:17:26 ETA:  0:00:52"
     ]
    },
    {
     "name": "stdout",
     "output_type": "stream",
     "text": [
      "Wrong number of columns at line 33561\n"
     ]
    },
    {
     "name": "stderr",
     "output_type": "stream",
     "text": [
      " 96% (2907 of 3000) |#################### | Elapsed Time: 0:17:42 ETA:  0:00:34"
     ]
    },
    {
     "name": "stdout",
     "output_type": "stream",
     "text": [
      "Wrong number of columns at line 33593\n"
     ]
    },
    {
     "name": "stderr",
     "output_type": "stream",
     "text": [
      "100% (3000 of 3000) |#####################| Elapsed Time: 0:18:18 Time: 0:18:18\n"
     ]
    },
    {
     "name": "stdout",
     "output_type": "stream",
     "text": [
      "Generating testing data...\n"
     ]
    },
    {
     "name": "stderr",
     "output_type": "stream",
     "text": [
      " 57% (287 of 500) |#############          | Elapsed Time: 0:01:47 ETA:  0:01:24"
     ]
    },
    {
     "name": "stdout",
     "output_type": "stream",
     "text": [
      "Wrong number of columns at line 26636\n"
     ]
    },
    {
     "name": "stderr",
     "output_type": "stream",
     "text": [
      " 60% (301 of 500) |#############          | Elapsed Time: 0:01:52 ETA:  0:01:04"
     ]
    },
    {
     "name": "stdout",
     "output_type": "stream",
     "text": [
      "Wrong number of columns at line 26636\n"
     ]
    },
    {
     "name": "stderr",
     "output_type": "stream",
     "text": [
      "100% (500 of 500) |#######################| Elapsed Time: 0:03:23 Time: 0:03:23\n"
     ]
    },
    {
     "name": "stdout",
     "output_type": "stream",
     "text": [
      "Done.\n"
     ]
    }
   ],
   "source": [
    "# Do the split.\n",
    "random.seed(dataset_parameters[\"random_seed\"])\n",
    "qrcodes_shuffle = data_generator.qrcodes[:]\n",
    "random.shuffle(qrcodes_shuffle)\n",
    "split_index = int(0.8 * len(qrcodes_shuffle))\n",
    "qrcodes_train = sorted(qrcodes_shuffle[:split_index])\n",
    "qrcodes_test = sorted(qrcodes_shuffle[split_index:])\n",
    "del qrcodes_shuffle\n",
    "print(\"\")\n",
    "\n",
    "print(\"QR-Codes for training:\", \" \".join(qrcodes_train))\n",
    "print(\"\")\n",
    "print(\"QR-Codes for testing:\", \" \".join(qrcodes_test))\n",
    "print(\"\")\n",
    "\n",
    "print(\"Generating training data...\")\n",
    "dataset_train = next(data_generator.generate(size=dataset_parameters[\"dataset_size_train\"], verbose=True))\n",
    "\n",
    "print(\"Generating testing data...\")\n",
    "dataset_test = next(data_generator.generate(size=dataset_parameters[\"dataset_size_test\"], verbose=True))\n",
    "    \n",
    "print(\"Done.\")"
   ]
  },
  {
   "cell_type": "markdown",
   "metadata": {},
   "source": [
    "# Saving."
   ]
  },
  {
   "cell_type": "code",
   "execution_count": 6,
   "metadata": {},
   "outputs": [
    {
     "name": "stdout",
     "output_type": "stream",
     "text": [
      "Saved 20180717-1236-pointcloud-dataset.p\n"
     ]
    }
   ],
   "source": [
    "datetime_string = datetime.datetime.now().strftime(\"%Y%m%d-%H%M\")\n",
    "dataset_name = datetime_string + \"-\" + dataset_parameters[\"input_type\"] + \"-dataset.p\"\n",
    "pickle.dump((dataset_train, dataset_test, dataset_parameters), open(dataset_name, \"wb\"))\n",
    "print(\"Saved \" + dataset_name)"
   ]
  },
  {
   "cell_type": "markdown",
   "metadata": {},
   "source": [
    "# Loading and analyzing dataset."
   ]
  },
  {
   "cell_type": "code",
   "execution_count": 9,
   "metadata": {},
   "outputs": [
    {
     "name": "stdout",
     "output_type": "stream",
     "text": [
      "Loading dataset...\n",
      "Done.\n"
     ]
    }
   ],
   "source": [
    "dataset_name = \"20180717-1102-voxelgrid-dataset.p\"\n",
    "dataset_name = \"20180717-1236-pointcloud-dataset.p\"\n",
    "\n",
    "print(\"Loading dataset...\")\n",
    "(x_input_train, y_output_train), (x_input_test, y_output_test), dataset_parameters = pickle.load(open(dataset_name, \"rb\"))\n",
    "print(\"Done.\")"
   ]
  },
  {
   "cell_type": "code",
   "execution_count": 10,
   "metadata": {},
   "outputs": [
    {
     "name": "stdout",
     "output_type": "stream",
     "text": [
      "Training data input shape: (3000,)\n",
      "Training data output shape: (3000, 2)\n",
      "Testing data input shape: (500,)\n",
      "Testing data output shape: (500, 2)\n",
      "\n",
      "Parameters:\n",
      "input_type: pointcloud\n",
      "output_targets: ['height', 'weight']\n",
      "random_seed: 666\n",
      "pointcloud_target_size: 30000\n",
      "pointcloud_random_rotation: True\n",
      "dataset_size_train: 3000\n",
      "dataset_size_test: 500\n"
     ]
    }
   ],
   "source": [
    "print(\"Training data input shape:\", x_input_train.shape)\n",
    "print(\"Training data output shape:\", y_output_train.shape)\n",
    "print(\"Testing data input shape:\", x_input_test.shape)\n",
    "print(\"Testing data output shape:\", y_output_test.shape)\n",
    "print(\"\")\n",
    "\n",
    "print(\"Parameters:\")\n",
    "print(\"\\n\".join([str(key) + \": \" + str(value) for key, value in dataset_parameters.items()]))"
   ]
  },
  {
   "cell_type": "code",
   "execution_count": 14,
   "metadata": {},
   "outputs": [
    {
     "name": "stdout",
     "output_type": "stream",
     "text": [
      "(30000, 4)\n"
     ]
    }
   ],
   "source": [
    "print(x_input_train[3].shape)"
   ]
  },
  {
   "cell_type": "code",
   "execution_count": null,
   "metadata": {},
   "outputs": [],
   "source": []
  }
 ],
 "metadata": {
  "kernelspec": {
   "display_name": "Python 3",
   "language": "python",
   "name": "python3"
  },
  "language_info": {
   "codemirror_mode": {
    "name": "ipython",
    "version": 3
   },
   "file_extension": ".py",
   "mimetype": "text/x-python",
   "name": "python",
   "nbconvert_exporter": "python",
   "pygments_lexer": "ipython3",
   "version": "3.6.4"
  }
 },
 "nbformat": 4,
 "nbformat_minor": 2
}
