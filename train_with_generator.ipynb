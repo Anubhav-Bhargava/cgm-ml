{
 "cells": [
  {
   "cell_type": "markdown",
   "metadata": {},
   "source": [
    "Trains a Neural Network using the Data-Generator."
   ]
  },
  {
   "cell_type": "code",
   "execution_count": 1,
   "metadata": {},
   "outputs": [
    {
     "name": "stderr",
     "output_type": "stream",
     "text": [
      "/Users/tristanbehrens/Development/python-venvs/venv-3.6/lib/python3.6/site-packages/h5py/__init__.py:36: FutureWarning: Conversion of the second argument of issubdtype from `float` to `np.floating` is deprecated. In future, it will be treated as `np.float64 == np.dtype(float).type`.\n",
      "  from ._conv import register_converters as _register_converters\n",
      "Using TensorFlow backend.\n"
     ]
    }
   ],
   "source": [
    "from keras import models, layers\n",
    "import numpy as np\n",
    "import matplotlib.pyplot as plt\n",
    "import os\n",
    "import random\n",
    "from datagenerator import DataGenerator"
   ]
  },
  {
   "cell_type": "markdown",
   "metadata": {},
   "source": [
    "# Hyper-parameters."
   ]
  },
  {
   "cell_type": "code",
   "execution_count": 2,
   "metadata": {},
   "outputs": [],
   "source": [
    "if os.path.exists(\"datasetpath.txt\"):\n",
    "    dataset_path = open(\"datasetpath.txt\", \"r\").read().replace(\"\\n\", \"\")\n",
    "else:\n",
    "    dataset_path = \"../data\"\n",
    "\n",
    "train_size = 500\n",
    "validate_size = 100"
   ]
  },
  {
   "cell_type": "markdown",
   "metadata": {},
   "source": [
    "# Instantiate the data-generator."
   ]
  },
  {
   "cell_type": "code",
   "execution_count": 4,
   "metadata": {},
   "outputs": [
    {
     "name": "stdout",
     "output_type": "stream",
     "text": [
      "jpg_paths 4511\n",
      "pcd_paths 1360\n",
      "json_paths_personal 40\n",
      "json_paths_measures 74\n",
      "QR-Codes:\n",
      "SAM-02-003-01\n",
      "SAM-GOV-001\n",
      "SAM-GOV-002\n",
      "SAM-GOV-003\n",
      "SAM-GOV-004\n",
      "SAM-GOV-005\n",
      "SAM-GOV-008\n",
      "SAM-GOV-011\n",
      "SAM-GOV-012\n",
      "SAM-GOV-013\n",
      "SAM-GOV-014\n",
      "SAM-GOV-023\n",
      "SAM-GOV-025\n",
      "SAM-GOV-026\n",
      "SAM-GOV-033\n",
      "SAM-GOV-034\n",
      "SAM-GOV-035\n",
      "SAM-GOV-036\n",
      "SAM-GOV-037\n",
      "SAM-GOV-038\n",
      "SAM-GOV-041\n",
      "SAM-GOV-042\n",
      "SAM-GOV-043\n",
      "SAM-GOV-044\n",
      "SAM-GOV-099\n",
      "SAM-SNG-011\n",
      "SAM-SNG-012\n",
      "SAM-SNG-013\n",
      "SAM-SNG-014\n",
      "SAM-SNG-015\n",
      "SAM-SNG-016\n",
      "SAM-SNG-021\n",
      "SAM-SNG-036\n",
      "SAM-SNG-066\n",
      "SAM-SNG-067\n",
      "SAM-SNG-072\n",
      "SAM-SNG-091\n",
      "SAM-SNG-096\n",
      "Done.\n"
     ]
    }
   ],
   "source": [
    "data_generator = DataGenerator(dataset_path=dataset_path, input_type=\"image\", output_targets=[\"height\", \"weight\"])\n",
    "\n",
    "print(\"jpg_paths\", len(data_generator.jpg_paths))\n",
    "print(\"pcd_paths\", len(data_generator.pcd_paths))\n",
    "print(\"json_paths_personal\", len(data_generator.json_paths_personal))\n",
    "print(\"json_paths_measures\", len(data_generator.json_paths_measures))\n",
    "print(\"QR-Codes:\\n\" + \"\\n\".join(data_generator.qrcodes))\n",
    "\n",
    "print(\"Done.\")"
   ]
  },
  {
   "cell_type": "markdown",
   "metadata": {},
   "source": [
    "#  Generate training- and validation-data."
   ]
  },
  {
   "cell_type": "code",
   "execution_count": 5,
   "metadata": {},
   "outputs": [
    {
     "name": "stderr",
     "output_type": "stream",
     "text": [
      "  0% (3 of 500) |                         | Elapsed Time: 0:00:00 ETA:  0:00:19"
     ]
    },
    {
     "name": "stdout",
     "output_type": "stream",
     "text": [
      "Training data:\n"
     ]
    },
    {
     "name": "stderr",
     "output_type": "stream",
     "text": [
      "100% (500 of 500) |#######################| Elapsed Time: 0:00:31 Time: 0:00:31\n",
      "  3% (3 of 100) |                         | Elapsed Time: 0:00:00 ETA:  0:00:04"
     ]
    },
    {
     "name": "stdout",
     "output_type": "stream",
     "text": [
      "(500, 90, 160, 3)\n",
      "(500, 2)\n",
      "\n",
      "Validation data:\n"
     ]
    },
    {
     "name": "stderr",
     "output_type": "stream",
     "text": [
      "100% (100 of 100) |#######################| Elapsed Time: 0:00:07 Time: 0:00:07\n"
     ]
    },
    {
     "name": "stdout",
     "output_type": "stream",
     "text": [
      "(100, 90, 160, 3)\n",
      "(100, 2)\n",
      "\n",
      "(500, 90, 160, 3)\n",
      "(500, 2)\n",
      "(100, 90, 160, 3)\n",
      "(100, 2)\n",
      "Done.\n"
     ]
    }
   ],
   "source": [
    "qrcodes_shuffle = list(data_generator.qrcodes)\n",
    "random.shuffle(qrcodes_shuffle)\n",
    "split_index = int(0.8 * len(qrcodes_shuffle))\n",
    "qrcodes_train = qrcodes_shuffle[:split_index]\n",
    "qrcodes_validate = qrcodes_shuffle[split_index:]\n",
    "\n",
    "print(\"Done.\")"
   ]
  },
  {
   "cell_type": "markdown",
   "metadata": {},
   "source": [
    "# Train a net."
   ]
  },
  {
   "cell_type": "code",
   "execution_count": 12,
   "metadata": {},
   "outputs": [
    {
     "name": "stdout",
     "output_type": "stream",
     "text": [
      "_________________________________________________________________\n",
      "Layer (type)                 Output Shape              Param #   \n",
      "=================================================================\n",
      "flatten_5 (Flatten)          (None, 43200)             0         \n",
      "_________________________________________________________________\n",
      "dense_13 (Dense)             (None, 128)               5529728   \n",
      "_________________________________________________________________\n",
      "dense_14 (Dense)             (None, 64)                8256      \n",
      "_________________________________________________________________\n",
      "dense_15 (Dense)             (None, 2)                 130       \n",
      "=================================================================\n",
      "Total params: 5,538,114\n",
      "Trainable params: 5,538,114\n",
      "Non-trainable params: 0\n",
      "_________________________________________________________________\n",
      "Epoch 1/10\n",
      "10/10 [==============================] - 19s 2s/step - loss: 51052444.2441 - mean_absolute_error: 3966.1195 - val_loss: 2207107.3000 - val_mean_absolute_error: 1254.6950\n",
      "Epoch 2/10\n",
      "10/10 [==============================] - 12s 1s/step - loss: 3343685.7250 - mean_absolute_error: 1686.0995 - val_loss: 8537068.5500 - val_mean_absolute_error: 2882.1757\n",
      "Epoch 3/10\n",
      "10/10 [==============================] - 12s 1s/step - loss: 4932376.4625 - mean_absolute_error: 1948.7941 - val_loss: 1597782.6000 - val_mean_absolute_error: 1239.5080\n",
      "Epoch 4/10\n",
      "10/10 [==============================] - 12s 1s/step - loss: 5874369.7000 - mean_absolute_error: 2176.7387 - val_loss: 1919442.1750 - val_mean_absolute_error: 1352.4278\n",
      "Epoch 5/10\n",
      "10/10 [==============================] - 11s 1s/step - loss: 2830100.1500 - mean_absolute_error: 1514.3294 - val_loss: 9083932.4000 - val_mean_absolute_error: 2942.0388\n",
      "Epoch 6/10\n",
      "10/10 [==============================] - 13s 1s/step - loss: 4037106.6250 - mean_absolute_error: 1810.7879 - val_loss: 3736444.7500 - val_mean_absolute_error: 1905.1837\n",
      "Epoch 7/10\n",
      "10/10 [==============================] - 12s 1s/step - loss: 3109205.4750 - mean_absolute_error: 1632.4095 - val_loss: 1899385.6000 - val_mean_absolute_error: 1363.2864\n",
      "Epoch 8/10\n",
      "10/10 [==============================] - 12s 1s/step - loss: 2997768.5000 - mean_absolute_error: 1650.1675 - val_loss: 1472351.2500 - val_mean_absolute_error: 1188.7621\n",
      "Epoch 9/10\n",
      "10/10 [==============================] - 12s 1s/step - loss: 1486753.2250 - mean_absolute_error: 1136.5864 - val_loss: 3783041.9750 - val_mean_absolute_error: 1937.8517\n",
      "Epoch 10/10\n",
      "10/10 [==============================] - 12s 1s/step - loss: 1416979.5938 - mean_absolute_error: 1037.8736 - val_loss: 493562.2687 - val_mean_absolute_error: 537.5273\n"
     ]
    }
   ],
   "source": [
    "model = models.Sequential()\n",
    "\n",
    "model.add(layers.Flatten(input_shape=(90, 160, 3)))\n",
    "model.add(layers.Dense(128, activation=\"relu\"))\n",
    "model.add(layers.Dense(64, activation=\"relu\"))\n",
    "model.add(layers.Dense(2))\n",
    "model.summary()\n",
    "\n",
    "model.compile(\n",
    "    optimizer=\"rmsprop\",\n",
    "    loss=\"mse\",\n",
    "    metrics=[\"mae\"]\n",
    ")\n",
    "\n",
    "history = model.fit_generator(\n",
    "    data_generator.generate(size=20, qrcodes_to_use=qrcodes_train),\n",
    "    steps_per_epoch=10,\n",
    "    epochs=10,\n",
    "    validation_data=data_generator.generate(size=10, qrcodes_to_use=qrcodes_validate),\n",
    "    validation_steps=10\n",
    ")"
   ]
  },
  {
   "cell_type": "markdown",
   "metadata": {},
   "source": [
    "# Visualize results."
   ]
  },
  {
   "cell_type": "code",
   "execution_count": 13,
   "metadata": {},
   "outputs": [
    {
     "data": {
      "image/png": "[encoded data removed]",
      "text/plain": [
       "<matplotlib.figure.Figure at 0x12f89eeb8>"
      ]
     },
     "metadata": {},
     "output_type": "display_data"
    },
    {
     "data": {
      "image/png": "[encoded data removed]",
      "text/plain": [
       "<matplotlib.figure.Figure at 0x13005b5c0>"
      ]
     },
     "metadata": {},
     "output_type": "display_data"
    }
   ],
   "source": [
    "plt.plot(history.history[\"loss\"], label=\"loss\")\n",
    "plt.plot(history.history[\"val_loss\"], label=\"val_loss\")\n",
    "plt.legend()\n",
    "plt.show()\n",
    "plt.close()\n",
    "\n",
    "plt.plot(history.history[\"mean_absolute_error\"], label=\"mean_absolute_error\")\n",
    "plt.plot(history.history[\"val_mean_absolute_error\"], label=\"val_mean_absolute_error\")\n",
    "plt.legend()\n",
    "plt.show()\n",
    "plt.close()"
   ]
  },
  {
   "cell_type": "code",
   "execution_count": null,
   "metadata": {},
   "outputs": [],
   "source": []
  }
 ],
 "metadata": {
  "kernelspec": {
   "display_name": "Python 3",
   "language": "python",
   "name": "python3"
  },
  "language_info": {
   "codemirror_mode": {
    "name": "ipython",
    "version": 3
   },
   "file_extension": ".py",
   "mimetype": "text/x-python",
   "name": "python",
   "nbconvert_exporter": "python",
   "pygments_lexer": "ipython3",
   "version": "3.6.4"
  }
 },
 "nbformat": 4,
 "nbformat_minor": 2
}
