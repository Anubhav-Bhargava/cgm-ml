{
 "cells": [
  {
   "cell_type": "code",
   "execution_count": 1,
   "metadata": {},
   "outputs": [
    {
     "name": "stderr",
     "output_type": "stream",
     "text": [
      "/Users/tristanbehrens/Development/python-venvs/venv-3.6/lib/python3.6/site-packages/h5py/__init__.py:36: FutureWarning: Conversion of the second argument of issubdtype from `float` to `np.floating` is deprecated. In future, it will be treated as `np.float64 == np.dtype(float).type`.\n",
      "  from ._conv import register_converters as _register_converters\n",
      "Using TensorFlow backend.\n"
     ]
    }
   ],
   "source": [
    "from keras import models, layers\n",
    "import numpy as np\n",
    "import glob2\n",
    "import matplotlib.pyplot as plt\n",
    "import json\n",
    "import pprint\n",
    "import os\n",
    "from keras.preprocessing.image import ImageDataGenerator\n",
    "from keras import preprocessing\n",
    "import progressbar"
   ]
  },
  {
   "cell_type": "code",
   "execution_count": 2,
   "metadata": {},
   "outputs": [],
   "source": [
    "dataset_path = \"../data\"\n",
    "\n",
    "# Getting the paths for images.\n",
    "glob_search_path = os.path.join(dataset_path, \"**/*.jpg\")\n",
    "jpg_paths = glob2.glob(glob_search_path)\n",
    "\n",
    "# Getting the paths for point clouds.\n",
    "glob_search_path = os.path.join(dataset_path, \"**/*.pcd\")\n",
    "pcd_paths = glob2.glob(glob_search_path)\n",
    "\n",
    "# Getting the paths for personal and measurement.\n",
    "glob_search_path = os.path.join(dataset_path, \"**/*.json\")\n",
    "json_paths = glob2.glob(glob_search_path)\n",
    "json_paths_personal = [json_path for json_path in json_paths if \"measures\" not in json_path]\n",
    "json_paths_measures = [json_path for json_path in json_paths if \"measures\" in json_path]"
   ]
  },
  {
   "cell_type": "code",
   "execution_count": 3,
   "metadata": {},
   "outputs": [
    {
     "name": "stdout",
     "output_type": "stream",
     "text": [
      "Processing...\n",
      "prod_test_1\n",
      "Found 58 JPGs.\n",
      "Found 58 JPGs (set).\n",
      "Found 0 PCDs.\n"
     ]
    },
    {
     "ename": "NameError",
     "evalue": "name 'img_path' is not defined",
     "output_type": "error",
     "traceback": [
      "\u001b[0;31m---------------------------------------------------------------------------\u001b[0m",
      "\u001b[0;31mNameError\u001b[0m                                 Traceback (most recent call last)",
      "\u001b[0;32m<ipython-input-3-f53b4e5c7c76>\u001b[0m in \u001b[0;36m<module>\u001b[0;34m()\u001b[0m\n\u001b[1;32m     57\u001b[0m \u001b[0;34m\u001b[0m\u001b[0m\n\u001b[1;32m     58\u001b[0m     \u001b[0;32mfor\u001b[0m \u001b[0mjpg_path\u001b[0m \u001b[0;32min\u001b[0m \u001b[0mjpg_paths_for_qrcode\u001b[0m\u001b[0;34m:\u001b[0m\u001b[0;34m\u001b[0m\u001b[0m\n\u001b[0;32m---> 59\u001b[0;31m         \u001b[0mimage\u001b[0m \u001b[0;34m=\u001b[0m \u001b[0mload_image\u001b[0m\u001b[0;34m(\u001b[0m\u001b[0mjpg_path\u001b[0m\u001b[0;34m)\u001b[0m\u001b[0;34m\u001b[0m\u001b[0m\n\u001b[0m\u001b[1;32m     60\u001b[0m         \u001b[0mx_images\u001b[0m\u001b[0;34m.\u001b[0m\u001b[0mappend\u001b[0m\u001b[0;34m(\u001b[0m\u001b[0mimage\u001b[0m\u001b[0;34m)\u001b[0m\u001b[0;34m\u001b[0m\u001b[0m\n\u001b[1;32m     61\u001b[0m         \u001b[0my_targets\u001b[0m\u001b[0;34m.\u001b[0m\u001b[0mappend\u001b[0m\u001b[0;34m(\u001b[0m\u001b[0mtargets\u001b[0m\u001b[0;34m)\u001b[0m\u001b[0;34m\u001b[0m\u001b[0m\n",
      "\u001b[0;32m<ipython-input-3-f53b4e5c7c76>\u001b[0m in \u001b[0;36mload_image\u001b[0;34m(image_path)\u001b[0m\n\u001b[1;32m     20\u001b[0m \u001b[0;34m\u001b[0m\u001b[0m\n\u001b[1;32m     21\u001b[0m \u001b[0;32mdef\u001b[0m \u001b[0mload_image\u001b[0m\u001b[0;34m(\u001b[0m\u001b[0mimage_path\u001b[0m\u001b[0;34m)\u001b[0m\u001b[0;34m:\u001b[0m\u001b[0;34m\u001b[0m\u001b[0m\n\u001b[0;32m---> 22\u001b[0;31m     \u001b[0mimg\u001b[0m \u001b[0;34m=\u001b[0m \u001b[0mpreprocessing\u001b[0m\u001b[0;34m.\u001b[0m\u001b[0mimage\u001b[0m\u001b[0;34m.\u001b[0m\u001b[0mload_img\u001b[0m\u001b[0;34m(\u001b[0m\u001b[0mimg_path\u001b[0m\u001b[0;34m,\u001b[0m \u001b[0mtarget_size\u001b[0m\u001b[0;34m=\u001b[0m\u001b[0;34m(\u001b[0m\u001b[0;36m160\u001b[0m\u001b[0;34m,\u001b[0m \u001b[0;36m90\u001b[0m\u001b[0;34m)\u001b[0m\u001b[0;34m)\u001b[0m\u001b[0;34m\u001b[0m\u001b[0m\n\u001b[0m\u001b[1;32m     23\u001b[0m     \u001b[0mimg\u001b[0m \u001b[0;34m=\u001b[0m \u001b[0mpreprocessing\u001b[0m\u001b[0;34m.\u001b[0m\u001b[0mimage\u001b[0m\u001b[0;34m.\u001b[0m\u001b[0mload_img\u001b[0m\u001b[0;34m(\u001b[0m\u001b[0mimage_path\u001b[0m\u001b[0;34m)\u001b[0m\u001b[0;34m\u001b[0m\u001b[0m\n\u001b[1;32m     24\u001b[0m     \u001b[0mimg\u001b[0m \u001b[0;34m=\u001b[0m \u001b[0mimg\u001b[0m\u001b[0;34m.\u001b[0m\u001b[0mrotate\u001b[0m\u001b[0;34m(\u001b[0m\u001b[0;34m-\u001b[0m\u001b[0;36m90\u001b[0m\u001b[0;34m,\u001b[0m \u001b[0mexpand\u001b[0m\u001b[0;34m=\u001b[0m\u001b[0;32mTrue\u001b[0m\u001b[0;34m)\u001b[0m\u001b[0;34m\u001b[0m\u001b[0m\n",
      "\u001b[0;31mNameError\u001b[0m: name 'img_path' is not defined"
     ]
    }
   ],
   "source": [
    "target_names = [\"height\", \"weight\"]\n",
    "def extract_targets(json_data_measure):\n",
    "    targets = []\n",
    "    for target_name in target_names:\n",
    "        value = json_data_measure[target_name][\"value\"]\n",
    "        targets.append(value)\n",
    "    return targets\n",
    "\n",
    "\n",
    "def extract_qrcode(json_data_measure):\n",
    "    person_id = json_data_measure[\"personId\"][\"value\"]\n",
    "    json_path_personal = [json_path for json_path in json_paths_personal if person_id in json_path]\n",
    "    assert len(json_path_personal) == 1\n",
    "    json_path_personal = json_path_personal[0]\n",
    "    json_data_personal = json.load(open(json_path_personal))\n",
    "    #pprint.pprint(json_data_personal)\n",
    "    qrcode = json_data_personal[\"qrcode\"][\"value\"]\n",
    "    return qrcode\n",
    "\n",
    "\n",
    "def load_image(image_path):\n",
    "    img = preprocessing.image.load_img(image_path, target_size=(160, 90))\n",
    "    #img = preprocessing.image.load_img(image_path)\n",
    "    img = img.rotate(-90, expand=True)\n",
    "    img = np.array(img)\n",
    "    return img\n",
    "\n",
    "# A loop to extract targets.\n",
    "x_images = []\n",
    "y_targets = []\n",
    "target_names = [\"height\", \"weight\"]\n",
    "count = 0\n",
    "print(\"Processing...\")\n",
    "bar = progressbar.ProgressBar(max_value=len(json_paths_measures))\n",
    "for index, json_path_measure in enumerate(json_paths_measures):\n",
    "    json_data_measure = json.load(open(json_path_measure))\n",
    "\n",
    "    # Ensure manual data.\n",
    "    if json_data_measure[\"type\"][\"value\"] != \"manual\":\n",
    "        continue\n",
    "    \n",
    "    # Extract the targets.\n",
    "    targets = extract_targets(json_data_measure)\n",
    "\n",
    "    # Get the personal file and extract the QR-code.\n",
    "    qrcode = extract_qrcode(json_data_measure)\n",
    "    print(qrcode)\n",
    "    \n",
    "    # Get all image-files.\n",
    "    jpg_paths_for_qrcode = [jpg_path for jpg_path in jpg_paths if qrcode in jpg_path]\n",
    "    print(\"Found\", len(jpg_paths_for_qrcode), \"JPGs.\")\n",
    "    print(\"Found\", len(set(jpg_paths_for_qrcode)), \"JPGs (set).\")\n",
    "    \n",
    "    # Get all point-cloud-files.\n",
    "    pcd_paths_for_qrcode = [pcd_path for pcd_path in pcd_paths if qrcode in pcd_path]\n",
    "    print(\"Found\", len(pcd_paths_for_qrcode), \"PCDs.\")\n",
    "    \n",
    "    for jpg_path in jpg_paths_for_qrcode:\n",
    "        image = load_image(jpg_path)\n",
    "        x_images.append(image)\n",
    "        y_targets.append(targets)\n",
    "\n",
    "        #plt.imshow(image)\n",
    "        #plt.show()\n",
    "        #plt.close\n",
    "        #break\n",
    "    \n",
    "    #count += 1\n",
    "    #if count == 3:\n",
    "    #    break\n",
    "    bar.update(index)\n",
    "bar.finish()\n",
    " \n",
    "x_images = np.array(x_images)\n",
    "y_targets = np.array(y_targets)\n",
    "print(x_images.shape)\n",
    "print(y_targets.shape)"
   ]
  },
  {
   "cell_type": "markdown",
   "metadata": {},
   "source": [
    "# Just visualize an image."
   ]
  },
  {
   "cell_type": "code",
   "execution_count": null,
   "metadata": {},
   "outputs": [],
   "source": [
    "\n",
    "\n",
    "\n",
    "datagen = ImageDataGenerator(\n",
    "      #rotation_range=40,\n",
    "      #width_shift_range=0.2,\n",
    "      #height_shift_range=0.2,\n",
    "      #shear_range=0.2,\n",
    "      #zoom_range=0.2,\n",
    "      #horizontal_flip=True,\n",
    "      #fill_mode='nearest'\n",
    ")\n",
    "\n",
    "# This is module with image preprocessing utilities\n",
    "\n",
    "\n",
    "# We pick one image to \"augment\"\n",
    "img_path = jpg_paths[666]\n",
    "\n",
    "# Read the image and resize it\n",
    "img = image.load_img(img_path, target_size=(150, 150))\n",
    "\n",
    "# Convert it to a Numpy array with shape (150, 150, 3)\n",
    "x = image.img_to_array(img)\n",
    "\n",
    "# Reshape it to (1, 150, 150, 3)\n",
    "x = x.reshape((1,) + x.shape)\n",
    "\n",
    "# The .flow() command below generates batches of randomly transformed images.\n",
    "# It will loop indefinitely, so we need to `break` the loop at some point!\n",
    "i = 0\n",
    "for batch in datagen.flow(x, batch_size=1):\n",
    "    plt.figure(i)\n",
    "    imgplot = plt.imshow(image.array_to_img(batch[0]))\n",
    "    i += 1\n",
    "    break\n",
    "\n",
    "plt.show()"
   ]
  },
  {
   "cell_type": "code",
   "execution_count": null,
   "metadata": {},
   "outputs": [],
   "source": []
  }
 ],
 "metadata": {
  "kernelspec": {
   "display_name": "Python 3",
   "language": "python",
   "name": "python3"
  },
  "language_info": {
   "codemirror_mode": {
    "name": "ipython",
    "version": 3
   },
   "file_extension": ".py",
   "mimetype": "text/x-python",
   "name": "python",
   "nbconvert_exporter": "python",
   "pygments_lexer": "ipython3",
   "version": "3.6.4"
  }
 },
 "nbformat": 4,
 "nbformat_minor": 2
}
