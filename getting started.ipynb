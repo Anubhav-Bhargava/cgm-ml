{
 "cells": [
  {
   "cell_type": "markdown",
   "metadata": {},
   "source": [
    "# The usual imports."
   ]
  },
  {
   "cell_type": "code",
   "execution_count": 1,
   "metadata": {},
   "outputs": [
    {
     "name": "stderr",
     "output_type": "stream",
     "text": [
      "/Users/tristanbehrens/Development/python-venvs/venv-3.6/lib/python3.6/site-packages/h5py/__init__.py:36: FutureWarning: Conversion of the second argument of issubdtype from `float` to `np.floating` is deprecated. In future, it will be treated as `np.float64 == np.dtype(float).type`.\n",
      "  from ._conv import register_converters as _register_converters\n",
      "Using TensorFlow backend.\n"
     ]
    }
   ],
   "source": [
    "from keras import models, layers\n",
    "import numpy as np\n",
    "import glob2\n",
    "import matplotlib.pyplot as plt\n",
    "import json\n",
    "import pprint\n",
    "import os\n",
    "from keras.preprocessing.image import ImageDataGenerator\n",
    "from keras import preprocessing\n",
    "import progressbar\n",
    "import random\n",
    "import datetime"
   ]
  },
  {
   "cell_type": "code",
   "execution_count": 11,
   "metadata": {},
   "outputs": [
    {
     "name": "stdout",
     "output_type": "stream",
     "text": [
      "Dataset path: ../data\n",
      "\n"
     ]
    }
   ],
   "source": [
    "# Here you can use a user defined path.\n",
    "if os.path.exists(\"datasetpath.txt\"):\n",
    "    dataset_path = open(\"datasetpath.txt\", \"r\").read()\n",
    "else:\n",
    "    dataset_path = \"../data\"\n",
    "\n",
    "print(\"Dataset path:\", dataset_path)"
   ]
  },
  {
   "cell_type": "markdown",
   "metadata": {},
   "source": [
    "# Get a grip on the data."
   ]
  },
  {
   "cell_type": "code",
   "execution_count": 3,
   "metadata": {},
   "outputs": [],
   "source": [
    "# Getting the paths for images.\n",
    "glob_search_path = os.path.join(dataset_path, \"**/*.jpg\")\n",
    "jpg_paths = glob2.glob(glob_search_path)\n",
    "\n",
    "# Getting the paths for point clouds.\n",
    "glob_search_path = os.path.join(dataset_path, \"**/*.pcd\")\n",
    "pcd_paths = glob2.glob(glob_search_path)\n",
    "\n",
    "# Getting the paths for personal and measurement.\n",
    "glob_search_path = os.path.join(dataset_path, \"**/*.json\")\n",
    "json_paths = glob2.glob(glob_search_path)\n",
    "json_paths_personal = [json_path for json_path in json_paths if \"measures\" not in json_path]\n",
    "json_paths_measures = [json_path for json_path in json_paths if \"measures\" in json_path]"
   ]
  },
  {
   "cell_type": "markdown",
   "metadata": {},
   "source": [
    "# Extract training- and validation-data."
   ]
  },
  {
   "cell_type": "code",
   "execution_count": 5,
   "metadata": {},
   "outputs": [
    {
     "name": "stdout",
     "output_type": "stream",
     "text": [
      "Train:\n",
      "SAM-GOV-035 [70.1, 7.1]\n",
      "Found 118 JPGs.\n",
      "SAM-GOV-003 [75.3, 7.1]\n",
      "Found 0 JPGs.\n",
      "SAM-GOV-012 [77.1, 8.1]\n",
      "Found 157 JPGs.\n",
      "SAM-GOV-003 [92.7, 9.7]\n",
      "Found 0 JPGs.\n",
      "SAM-GOV-034 [84.8, 11.1]\n",
      "Found 216 JPGs.\n",
      "SAM-GOV-005 [76.5, 8.4]\n",
      "Found 262 JPGs.\n",
      "SAM-GOV-099 [89.3, 10.8]\n",
      "Found 122 JPGs.\n",
      "SAM-GOV-008 [73.7, 7.1]\n",
      "Found 162 JPGs.\n",
      "SAM-GOV-011 [85.5, 10.8]\n",
      "Found 174 JPGs.\n",
      "SAM-GOV-037 [65.3, 6.1]\n",
      "Found 165 JPGs.\n",
      "SAM-GOV-002 [67.2, 6.2]\n",
      "Found 144 JPGs.\n",
      "SAM-GOV-013 [63, 6.1]\n",
      "Found 136 JPGs.\n",
      "SAM-GOV-041 [68.2, 7.1]\n",
      "Found 149 JPGs.\n",
      "SAM-GOV-023 [69.5, 6.5]\n",
      "Found 162 JPGs.\n",
      "SAM-GOV-043 [69.3, 7.6]\n",
      "Found 183 JPGs.\n",
      "SAM-GOV-026 [80.1, 9.2]\n",
      "Found 145 JPGs.\n",
      "SAM-GOV-042 [96, 12.7]\n",
      "Found 136 JPGs.\n",
      "SAM-GOV-036 [68.5, 6.3]\n",
      "Found 457 JPGs.\n",
      "SAM-GOV-038 [67.2, 7.6]\n",
      "Found 141 JPGs.\n",
      "\n",
      "Validate:\n",
      "SAM-GOV-025 [67, 6.7]\n",
      "Found 160 JPGs.\n",
      "SAM-GOV-033 [68.7, 6.4]\n",
      "Found 192 JPGs.\n",
      "SAM-GOV-004 [76.2, 8.3]\n",
      "Found 235 JPGs.\n",
      "SAM-GOV-014 [91.1, 11.1]\n",
      "Found 279 JPGs.\n",
      "SAM-GOV-044 [64.9, 7.9]\n",
      "Found 142 JPGs.\n"
     ]
    }
   ],
   "source": [
    "target_names = [\"height\", \"weight\"]\n",
    "def extract_targets(json_data_measure):\n",
    "    targets = []\n",
    "    for target_name in target_names:\n",
    "        value = json_data_measure[target_name][\"value\"]\n",
    "        targets.append(value)\n",
    "    return targets\n",
    "\n",
    "\n",
    "def extract_qrcode(json_data_measure):\n",
    "    person_id = json_data_measure[\"personId\"][\"value\"]\n",
    "    json_path_personal = [json_path for json_path in json_paths_personal if person_id in json_path]\n",
    "    assert len(json_path_personal) == 1\n",
    "    json_path_personal = json_path_personal[0]\n",
    "    json_data_personal = json.load(open(json_path_personal))\n",
    "    #pprint.pprint(json_data_personal)\n",
    "    qrcode = json_data_personal[\"qrcode\"][\"value\"]\n",
    "    return qrcode\n",
    "\n",
    "\n",
    "def load_image(image_path):\n",
    "    img = preprocessing.image.load_img(image_path, target_size=(160, 90))\n",
    "    #img = preprocessing.image.load_img(image_path)\n",
    "    img = img.rotate(-90, expand=True)\n",
    "    img = np.array(img)\n",
    "    return img\n",
    "\n",
    "# Get manual measures.\n",
    "qrcodes_targets = []\n",
    "for json_path_measure in json_paths_measures:\n",
    "    json_data_measure = json.load(open(json_path_measure))\n",
    "\n",
    "    # Ensure manual data.\n",
    "    if json_data_measure[\"type\"][\"value\"] == \"manual\":\n",
    "        targets = extract_targets(json_data_measure)\n",
    "        qrcode = extract_qrcode(json_data_measure)\n",
    "        if qrcode.startswith(\"SAM-GOV\"):\n",
    "            qrcodes_targets.append((qrcode, targets))\n",
    "   \n",
    "# Split.\n",
    "random.shuffle(qrcodes_targets)\n",
    "split_index = int(0.8 * len(qrcodes_targets))\n",
    "qrcodes_targets_train = qrcodes_targets[:split_index]\n",
    "qrcodes_targets_validate = qrcodes_targets[split_index:]\n",
    "del qrcodes_targets\n",
    "\n",
    "def process_qrcodes_target(qrcodes_targets):\n",
    "    \n",
    "    x_images = []\n",
    "    y_targets = []\n",
    "    for qrcode, targets in qrcodes_targets:\n",
    "        print(qrcode, targets)\n",
    "        glob_search_path = os.path.join(dataset_path, \"storage/person\", qrcode, \"measurements\", \"**/*.jpg\")\n",
    "        #print(glob_search_path)\n",
    "        #if not os.path.exists(glob_search_path):\n",
    "        #    continue\n",
    "        jpg_paths = glob2.glob(glob_search_path, recursive=True)\n",
    "        print(\"Found\", len(jpg_paths), \"JPGs.\")\n",
    "        for jpg_path in jpg_paths:\n",
    "            image = load_image(jpg_path)\n",
    "            x_images.append(image)\n",
    "            y_targets.append(targets)\n",
    "        \n",
    "    x_images = np.array(x_images)\n",
    "    y_targets = np.array(y_targets)\n",
    "    assert len(x_images) == len(y_targets)\n",
    "    return x_images, y_targets\n",
    "    \n",
    "        \n",
    "print(\"Train:\")\n",
    "x_train, y_train = process_qrcodes_target(qrcodes_targets_train)\n",
    "print(\"\")\n",
    "\n",
    "print(\"Validate:\")\n",
    "x_validate, y_validate = process_qrcodes_target(qrcodes_targets_validate)\n",
    "print(\"\")\n",
    "\n",
    "print(\"Done.\")"
   ]
  },
  {
   "cell_type": "markdown",
   "metadata": {},
   "source": [
    "# Dataset analysis."
   ]
  },
  {
   "cell_type": "code",
   "execution_count": 6,
   "metadata": {},
   "outputs": [
    {
     "name": "stdout",
     "output_type": "stream",
     "text": [
      "(3029, 90, 160, 3)\n",
      "(3029, 2)\n",
      "(1008, 90, 160, 3)\n",
      "(1008, 2)\n"
     ]
    }
   ],
   "source": [
    "print(x_train.shape)\n",
    "print(y_train.shape)\n",
    "print(x_validate.shape)\n",
    "print(y_validate.shape)"
   ]
  },
  {
   "cell_type": "markdown",
   "metadata": {},
   "source": [
    "# Train a Neural Network."
   ]
  },
  {
   "cell_type": "code",
   "execution_count": 7,
   "metadata": {},
   "outputs": [
    {
     "name": "stdout",
     "output_type": "stream",
     "text": [
      "_________________________________________________________________\n",
      "Layer (type)                 Output Shape              Param #   \n",
      "=================================================================\n",
      "flatten_1 (Flatten)          (None, 43200)             0         \n",
      "_________________________________________________________________\n",
      "dense_1 (Dense)              (None, 128)               5529728   \n",
      "_________________________________________________________________\n",
      "dense_2 (Dense)              (None, 64)                8256      \n",
      "_________________________________________________________________\n",
      "dense_3 (Dense)              (None, 2)                 130       \n",
      "=================================================================\n",
      "Total params: 5,538,114\n",
      "Trainable params: 5,538,114\n",
      "Non-trainable params: 0\n",
      "_________________________________________________________________\n",
      "Train on 3029 samples, validate on 1008 samples\n",
      "Epoch 1/10\n",
      "3029/3029 [==============================] - 6s 2ms/step - loss: 23900709.1406 - mean_absolute_error: 1578.4864 - val_loss: 3506966.7857 - val_mean_absolute_error: 1860.6694\n",
      "Epoch 2/10\n",
      "3029/3029 [==============================] - 6s 2ms/step - loss: 822818.0903 - mean_absolute_error: 650.4322 - val_loss: 177413.6771 - val_mean_absolute_error: 355.0476\n",
      "Epoch 3/10\n",
      "3029/3029 [==============================] - 6s 2ms/step - loss: 256227.2144 - mean_absolute_error: 262.1559 - val_loss: 240.4517 - val_mean_absolute_error: 11.2265\n",
      "Epoch 4/10\n",
      "3029/3029 [==============================] - 5s 2ms/step - loss: 10700.2212 - mean_absolute_error: 57.1640 - val_loss: 367.0276 - val_mean_absolute_error: 13.1677\n",
      "Epoch 5/10\n",
      "3029/3029 [==============================] - 6s 2ms/step - loss: 1416.2385 - mean_absolute_error: 25.8124 - val_loss: 2952.1081 - val_mean_absolute_error: 42.0304\n",
      "Epoch 6/10\n",
      "3029/3029 [==============================] - 6s 2ms/step - loss: 2803.1637 - mean_absolute_error: 40.9498 - val_loss: 2921.0014 - val_mean_absolute_error: 41.7861\n",
      "Epoch 7/10\n",
      "3029/3029 [==============================] - 6s 2ms/step - loss: 2762.1791 - mean_absolute_error: 40.5882 - val_loss: 2862.8046 - val_mean_absolute_error: 41.2361\n",
      "Epoch 8/10\n",
      "3029/3029 [==============================] - 6s 2ms/step - loss: 2690.4001 - mean_absolute_error: 39.8400 - val_loss: 2776.1826 - val_mean_absolute_error: 40.3154\n",
      "Epoch 9/10\n",
      "3029/3029 [==============================] - 6s 2ms/step - loss: 2594.4697 - mean_absolute_error: 38.7646 - val_loss: 2666.5678 - val_mean_absolute_error: 39.0807\n",
      "Epoch 10/10\n",
      "3029/3029 [==============================] - 6s 2ms/step - loss: 2477.7708 - mean_absolute_error: 37.3807 - val_loss: 2536.9345 - val_mean_absolute_error: 37.5448\n"
     ]
    }
   ],
   "source": [
    "model = models.Sequential()\n",
    "\n",
    "model.add(layers.Flatten(input_shape=(90, 160, 3)))\n",
    "model.add(layers.Dense(128, activation=\"relu\"))\n",
    "model.add(layers.Dense(64, activation=\"relu\"))\n",
    "model.add(layers.Dense(2))\n",
    "model.summary()\n",
    "\n",
    "model.compile(\n",
    "    optimizer=\"rmsprop\",\n",
    "    loss=\"mse\",\n",
    "    metrics=[\"mae\"]\n",
    ")\n",
    "\n",
    "history = model.fit(\n",
    "    x_train, y_train,\n",
    "    epochs=10,\n",
    "    batch_size=32,\n",
    "    validation_data=(x_validate, y_validate)\n",
    ")"
   ]
  },
  {
   "cell_type": "markdown",
   "metadata": {},
   "source": [
    "# Plot history."
   ]
  },
  {
   "cell_type": "code",
   "execution_count": 8,
   "metadata": {},
   "outputs": [
    {
     "data": {
      "image/png": "[encoded data removed]",
      "text/plain": [
       "<matplotlib.figure.Figure at 0x120ac8eb8>"
      ]
     },
     "metadata": {},
     "output_type": "display_data"
    },
    {
     "data": {
      "image/png": "[encoded data removed]",
      "text/plain": [
       "<matplotlib.figure.Figure at 0x12bea1208>"
      ]
     },
     "metadata": {},
     "output_type": "display_data"
    }
   ],
   "source": [
    "plt.plot(history.history[\"loss\"])\n",
    "plt.plot(history.history[\"val_loss\"])\n",
    "plt.show()\n",
    "plt.close()\n",
    "\n",
    "plt.plot(history.history[\"mean_absolute_error\"])\n",
    "plt.plot(history.history[\"val_mean_absolute_error\"])\n",
    "plt.show()\n",
    "plt.close()"
   ]
  },
  {
   "cell_type": "code",
   "execution_count": null,
   "metadata": {},
   "outputs": [],
   "source": [
    "# TODO evaluate"
   ]
  }
 ],
 "metadata": {
  "kernelspec": {
   "display_name": "Python 3",
   "language": "python",
   "name": "python3"
  },
  "language_info": {
   "codemirror_mode": {
    "name": "ipython",
    "version": 3
   },
   "file_extension": ".py",
   "mimetype": "text/x-python",
   "name": "python",
   "nbconvert_exporter": "python",
   "pygments_lexer": "ipython3",
   "version": "3.6.4"
  }
 },
 "nbformat": 4,
 "nbformat_minor": 2
}
